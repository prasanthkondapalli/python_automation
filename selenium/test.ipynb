{
 "cells": [
  {
   "cell_type": "code",
   "execution_count": 1,
   "id": "16dcf687",
   "metadata": {},
   "outputs": [],
   "source": [
    "import import_ipynb"
   ]
  },
  {
   "cell_type": "code",
   "execution_count": 2,
   "id": "1ed0c9df",
   "metadata": {},
   "outputs": [
    {
     "name": "stdout",
     "output_type": "stream",
     "text": [
      "importing Jupyter notebook from path.ipynb\n"
     ]
    }
   ],
   "source": [
    "import path\n",
    "import sys"
   ]
  },
  {
   "cell_type": "code",
   "execution_count": 3,
   "id": "5982eaa1",
   "metadata": {},
   "outputs": [],
   "source": [
    "from selenium import webdriver"
   ]
  },
  {
   "cell_type": "code",
   "execution_count": 11,
   "id": "1ca1dfe9",
   "metadata": {},
   "outputs": [],
   "source": [
    "from selenium.webdriver.chrome.service import Service\n",
    "from selenium.webdriver.common.by import By"
   ]
  },
  {
   "cell_type": "markdown",
   "id": "aae29c57",
   "metadata": {},
   "source": [
    "## Accessing Browser"
   ]
  },
  {
   "cell_type": "markdown",
   "id": "da224152",
   "metadata": {},
   "source": [
    "+ Enable the Service \n",
    "* Take a web driver to access browser\n",
    "+ .get method used for navigate to web page"
   ]
  },
  {
   "cell_type": "code",
   "execution_count": 13,
   "id": "405628c7",
   "metadata": {},
   "outputs": [],
   "source": [
    "ser = Service(executable_path=path.driver_path)"
   ]
  },
  {
   "cell_type": "code",
   "execution_count": 141,
   "id": "590b4c87",
   "metadata": {
    "scrolled": true
   },
   "outputs": [],
   "source": [
    "# Opens the browser\n",
    "driver = webdriver.Chrome(service=ser)"
   ]
  },
  {
   "cell_type": "code",
   "execution_count": 142,
   "id": "acda375a",
   "metadata": {},
   "outputs": [],
   "source": [
    "driver.get(path.admin_hr_login_urls)"
   ]
  },
  {
   "cell_type": "markdown",
   "id": "b2e08e0d",
   "metadata": {},
   "source": [
    "### Selecting by ID"
   ]
  },
  {
   "cell_type": "code",
   "execution_count": 112,
   "id": "4f70907f",
   "metadata": {},
   "outputs": [],
   "source": [
    "element1 = driver.find_element(By.ID,'email')"
   ]
  },
  {
   "cell_type": "code",
   "execution_count": 115,
   "id": "ddd19e44",
   "metadata": {},
   "outputs": [],
   "source": [
    "element1.send_keys('hello')"
   ]
  },
  {
   "cell_type": "code",
   "execution_count": 116,
   "id": "0849c2d1",
   "metadata": {
    "scrolled": true
   },
   "outputs": [
    {
     "data": {
      "text/plain": [
       "'text-gray-dark border border-card_Bg_Color mx-auto peer block w-full appearance-none rounded-lg px-0 py-[14px] pl-3 h-[65px] text-base font-bold text-primary_Text_Color focus:border-card_Border_Color focus:outline-none focus:ring-0 focus:pt-[28px] pt-[28px] ng-invalid ng-dirty ng-touched'"
      ]
     },
     "execution_count": 116,
     "metadata": {},
     "output_type": "execute_result"
    }
   ],
   "source": [
    "element1.get_attribute('class')"
   ]
  },
  {
   "cell_type": "markdown",
   "id": "f1e760a0",
   "metadata": {},
   "source": [
    "### Selecting by CSS Selector"
   ]
  },
  {
   "cell_type": "code",
   "execution_count": 117,
   "id": "513ed273",
   "metadata": {},
   "outputs": [],
   "source": [
    "element2 = driver.find_element(By.CSS_SELECTOR,'h2.text-2xl.font-semibold')"
   ]
  },
  {
   "cell_type": "code",
   "execution_count": 118,
   "id": "a1c326e4",
   "metadata": {},
   "outputs": [
    {
     "data": {
      "text/plain": [
       "'Welcome to f360'"
      ]
     },
     "execution_count": 118,
     "metadata": {},
     "output_type": "execute_result"
    }
   ],
   "source": [
    "element2.text"
   ]
  },
  {
   "cell_type": "code",
   "execution_count": 119,
   "id": "2b2db10e",
   "metadata": {
    "scrolled": true
   },
   "outputs": [
    {
     "data": {
      "text/plain": [
       "<bound method WebElement.value_of_css_property of <selenium.webdriver.remote.webelement.WebElement (session=\"2f1b2f59f71ab889255d265ef5a6b055\", element=\"f.D0B866DC58CFEAA036A0B2A26FB4FDF8.d.49C52024B1457D64A975639322D7FACB.e.20\")>>"
      ]
     },
     "execution_count": 119,
     "metadata": {},
     "output_type": "execute_result"
    }
   ],
   "source": [
    "element2.value_of_css_property"
   ]
  },
  {
   "cell_type": "code",
   "execution_count": 120,
   "id": "ff1553b1",
   "metadata": {},
   "outputs": [
    {
     "data": {
      "text/plain": [
       "'text-2xl font-semibold mt-5 text-primary_Text_Color'"
      ]
     },
     "execution_count": 120,
     "metadata": {},
     "output_type": "execute_result"
    }
   ],
   "source": [
    "element2.get_attribute('class')"
   ]
  },
  {
   "cell_type": "markdown",
   "id": "3be1dc95",
   "metadata": {},
   "source": [
    "### Selecting by NAME"
   ]
  },
  {
   "cell_type": "code",
   "execution_count": 121,
   "id": "1453eea7",
   "metadata": {},
   "outputs": [],
   "source": [
    "element3 = driver.find_element(By.NAME,'password');"
   ]
  },
  {
   "cell_type": "code",
   "execution_count": 122,
   "id": "06aa929b",
   "metadata": {},
   "outputs": [
    {
     "data": {
      "text/plain": [
       "'input'"
      ]
     },
     "execution_count": 122,
     "metadata": {},
     "output_type": "execute_result"
    }
   ],
   "source": [
    "element3.tag_name"
   ]
  },
  {
   "cell_type": "code",
   "execution_count": 123,
   "id": "d3eff91c",
   "metadata": {},
   "outputs": [
    {
     "data": {
      "text/plain": [
       "''"
      ]
     },
     "execution_count": 123,
     "metadata": {},
     "output_type": "execute_result"
    }
   ],
   "source": [
    "element3.text"
   ]
  },
  {
   "cell_type": "code",
   "execution_count": 124,
   "id": "48650688",
   "metadata": {},
   "outputs": [
    {
     "data": {
      "text/plain": [
       "'text-gray-dark border border-card_Bg_Color mx-auto peer block w-full appearance-none rounded-lg px-0 py-[14px] pl-3 h-[65px] text-base font-bold text-primary_Text_Color focus:border-card_Border_Color focus:outline-none focus:ring-0 focus:pt-[28px] pt-[28px] ng-untouched ng-pristine ng-invalid'"
      ]
     },
     "execution_count": 124,
     "metadata": {},
     "output_type": "execute_result"
    }
   ],
   "source": [
    "element3.get_attribute('class')"
   ]
  },
  {
   "cell_type": "code",
   "execution_count": 125,
   "id": "55603a0f",
   "metadata": {},
   "outputs": [],
   "source": [
    "element3.send_keys('PASSWORD')"
   ]
  },
  {
   "cell_type": "code",
   "execution_count": 126,
   "id": "12924b08",
   "metadata": {},
   "outputs": [],
   "source": [
    "element3.clear()"
   ]
  },
  {
   "cell_type": "markdown",
   "id": "31680d90",
   "metadata": {},
   "source": [
    "### Selecting Element by Tag_name "
   ]
  },
  {
   "cell_type": "code",
   "execution_count": 127,
   "id": "a5815435",
   "metadata": {},
   "outputs": [],
   "source": [
    "tag_element1 = driver.find_elements(By.TAG_NAME,'button')"
   ]
  },
  {
   "cell_type": "code",
   "execution_count": 128,
   "id": "d55b11d5",
   "metadata": {
    "scrolled": true
   },
   "outputs": [
    {
     "name": "stdout",
     "output_type": "stream",
     "text": [
      "<selenium.webdriver.remote.webelement.WebElement (session=\"2f1b2f59f71ab889255d265ef5a6b055\", element=\"f.D0B866DC58CFEAA036A0B2A26FB4FDF8.d.49C52024B1457D64A975639322D7FACB.e.11\")>\n",
      "absolute top-[20px] right-[20px]\n",
      "<selenium.webdriver.remote.webelement.WebElement (session=\"2f1b2f59f71ab889255d265ef5a6b055\", element=\"f.D0B866DC58CFEAA036A0B2A26FB4FDF8.d.49C52024B1457D64A975639322D7FACB.e.12\")>\n",
      "bg-primary_Bg_Button_Color w-full text-base font-semibold text-center py-3 rounded-lg mb-3 cursor-pointer mt-8\n"
     ]
    }
   ],
   "source": [
    "for i in tag_element1[:]:\n",
    "    print((i) or i.text)\n",
    "    print (i.get_attribute('class') or i.text)"
   ]
  },
  {
   "cell_type": "code",
   "execution_count": null,
   "id": "30519ffd",
   "metadata": {},
   "outputs": [],
   "source": []
  },
  {
   "cell_type": "markdown",
   "id": "dc2442a6",
   "metadata": {},
   "source": [
    "### Selecting elements by XPATH"
   ]
  },
  {
   "cell_type": "code",
   "execution_count": 135,
   "id": "25ee27ca",
   "metadata": {},
   "outputs": [],
   "source": [
    "# finding the common elements\n",
    "xpath_element1 = driver.find_element(By.XPATH,\"(//span[@class= 'underline text-black cursor-pointer'])[1]\")\n",
    "xpath_element2 = driver.find_element(By.XPATH,\"(//span[@class= 'underline text-black cursor-pointer'])[2]\")"
   ]
  },
  {
   "cell_type": "code",
   "execution_count": 136,
   "id": "2930a8c2",
   "metadata": {},
   "outputs": [
    {
     "ename": "ElementClickInterceptedException",
     "evalue": "Message: element click intercepted: Element <span _ngcontent-ng-c3062174817=\"\" class=\"underline text-black cursor-pointer\">...</span> is not clickable at point (579, 770). Other element would receive the click: <div class=\"overlay\">...</div>\n  (Session info: chrome=123.0.6312.58)\nStacktrace:\n#0 0x57001fbd9993 <unknown>\n#1 0x57001f8d4136 <unknown>\n#2 0x57001f925963 <unknown>\n#3 0x57001f92387e <unknown>\n#4 0x57001f921257 <unknown>\n#5 0x57001f920622 <unknown>\n#6 0x57001f913c07 <unknown>\n#7 0x57001f940cd2 <unknown>\n#8 0x57001f913598 <unknown>\n#9 0x57001f940e9e <unknown>\n#10 0x57001f95f319 <unknown>\n#11 0x57001f940a73 <unknown>\n#12 0x57001f911c93 <unknown>\n#13 0x57001f91265e <unknown>\n#14 0x57001fb9e08b <unknown>\n#15 0x57001fba2005 <unknown>\n#16 0x57001fb8c491 <unknown>\n#17 0x57001fba2b92 <unknown>\n#18 0x57001fb719ef <unknown>\n#19 0x57001fbc8df8 <unknown>\n#20 0x57001fbc8fcb <unknown>\n#21 0x57001fbd8ae4 <unknown>\n#22 0x753952e94ac3 <unknown>\n",
     "output_type": "error",
     "traceback": [
      "\u001b[0;31m---------------------------------------------------------------------------\u001b[0m",
      "\u001b[0;31mElementClickInterceptedException\u001b[0m          Traceback (most recent call last)",
      "Cell \u001b[0;32mIn [136], line 1\u001b[0m\n\u001b[0;32m----> 1\u001b[0m xpath_element1\u001b[38;5;241m.\u001b[39mclick()\n",
      "File \u001b[0;32m~/anaconda3/lib/python3.11/site-packages/selenium/webdriver/remote/webelement.py:88\u001b[0m, in \u001b[0;36mWebElement.click\u001b[0;34m(self)\u001b[0m\n\u001b[1;32m     86\u001b[0m \u001b[38;5;28;01mdef\u001b[39;00m \u001b[38;5;21mclick\u001b[39m(\u001b[38;5;28mself\u001b[39m) \u001b[38;5;241m-\u001b[39m\u001b[38;5;241m>\u001b[39m \u001b[38;5;28;01mNone\u001b[39;00m:\n\u001b[1;32m     87\u001b[0m     \u001b[38;5;124;03m\"\"\"Clicks the element.\"\"\"\u001b[39;00m\n\u001b[0;32m---> 88\u001b[0m     \u001b[38;5;28mself\u001b[39m\u001b[38;5;241m.\u001b[39m_execute(Command\u001b[38;5;241m.\u001b[39mCLICK_ELEMENT)\n",
      "File \u001b[0;32m~/anaconda3/lib/python3.11/site-packages/selenium/webdriver/remote/webelement.py:396\u001b[0m, in \u001b[0;36mWebElement._execute\u001b[0;34m(self, command, params)\u001b[0m\n\u001b[1;32m    394\u001b[0m     params \u001b[38;5;241m=\u001b[39m {}\n\u001b[1;32m    395\u001b[0m params[\u001b[38;5;124m'\u001b[39m\u001b[38;5;124mid\u001b[39m\u001b[38;5;124m'\u001b[39m] \u001b[38;5;241m=\u001b[39m \u001b[38;5;28mself\u001b[39m\u001b[38;5;241m.\u001b[39m_id\n\u001b[0;32m--> 396\u001b[0m \u001b[38;5;28;01mreturn\u001b[39;00m \u001b[38;5;28mself\u001b[39m\u001b[38;5;241m.\u001b[39m_parent\u001b[38;5;241m.\u001b[39mexecute(command, params)\n",
      "File \u001b[0;32m~/anaconda3/lib/python3.11/site-packages/selenium/webdriver/remote/webdriver.py:428\u001b[0m, in \u001b[0;36mWebDriver.execute\u001b[0;34m(self, driver_command, params)\u001b[0m\n\u001b[1;32m    426\u001b[0m response \u001b[38;5;241m=\u001b[39m \u001b[38;5;28mself\u001b[39m\u001b[38;5;241m.\u001b[39mcommand_executor\u001b[38;5;241m.\u001b[39mexecute(driver_command, params)\n\u001b[1;32m    427\u001b[0m \u001b[38;5;28;01mif\u001b[39;00m response:\n\u001b[0;32m--> 428\u001b[0m     \u001b[38;5;28mself\u001b[39m\u001b[38;5;241m.\u001b[39merror_handler\u001b[38;5;241m.\u001b[39mcheck_response(response)\n\u001b[1;32m    429\u001b[0m     response[\u001b[38;5;124m'\u001b[39m\u001b[38;5;124mvalue\u001b[39m\u001b[38;5;124m'\u001b[39m] \u001b[38;5;241m=\u001b[39m \u001b[38;5;28mself\u001b[39m\u001b[38;5;241m.\u001b[39m_unwrap_value(\n\u001b[1;32m    430\u001b[0m         response\u001b[38;5;241m.\u001b[39mget(\u001b[38;5;124m'\u001b[39m\u001b[38;5;124mvalue\u001b[39m\u001b[38;5;124m'\u001b[39m, \u001b[38;5;28;01mNone\u001b[39;00m))\n\u001b[1;32m    431\u001b[0m     \u001b[38;5;28;01mreturn\u001b[39;00m response\n",
      "File \u001b[0;32m~/anaconda3/lib/python3.11/site-packages/selenium/webdriver/remote/errorhandler.py:243\u001b[0m, in \u001b[0;36mErrorHandler.check_response\u001b[0;34m(self, response)\u001b[0m\n\u001b[1;32m    241\u001b[0m         alert_text \u001b[38;5;241m=\u001b[39m value[\u001b[38;5;124m'\u001b[39m\u001b[38;5;124malert\u001b[39m\u001b[38;5;124m'\u001b[39m]\u001b[38;5;241m.\u001b[39mget(\u001b[38;5;124m'\u001b[39m\u001b[38;5;124mtext\u001b[39m\u001b[38;5;124m'\u001b[39m)\n\u001b[1;32m    242\u001b[0m     \u001b[38;5;28;01mraise\u001b[39;00m exception_class(message, screen, stacktrace, alert_text)  \u001b[38;5;66;03m# type: ignore[call-arg]  # mypy is not smart enough here\u001b[39;00m\n\u001b[0;32m--> 243\u001b[0m \u001b[38;5;28;01mraise\u001b[39;00m exception_class(message, screen, stacktrace)\n",
      "\u001b[0;31mElementClickInterceptedException\u001b[0m: Message: element click intercepted: Element <span _ngcontent-ng-c3062174817=\"\" class=\"underline text-black cursor-pointer\">...</span> is not clickable at point (579, 770). Other element would receive the click: <div class=\"overlay\">...</div>\n  (Session info: chrome=123.0.6312.58)\nStacktrace:\n#0 0x57001fbd9993 <unknown>\n#1 0x57001f8d4136 <unknown>\n#2 0x57001f925963 <unknown>\n#3 0x57001f92387e <unknown>\n#4 0x57001f921257 <unknown>\n#5 0x57001f920622 <unknown>\n#6 0x57001f913c07 <unknown>\n#7 0x57001f940cd2 <unknown>\n#8 0x57001f913598 <unknown>\n#9 0x57001f940e9e <unknown>\n#10 0x57001f95f319 <unknown>\n#11 0x57001f940a73 <unknown>\n#12 0x57001f911c93 <unknown>\n#13 0x57001f91265e <unknown>\n#14 0x57001fb9e08b <unknown>\n#15 0x57001fba2005 <unknown>\n#16 0x57001fb8c491 <unknown>\n#17 0x57001fba2b92 <unknown>\n#18 0x57001fb719ef <unknown>\n#19 0x57001fbc8df8 <unknown>\n#20 0x57001fbc8fcb <unknown>\n#21 0x57001fbd8ae4 <unknown>\n#22 0x753952e94ac3 <unknown>\n"
     ]
    }
   ],
   "source": [
    "xpath_element1.click()"
   ]
  },
  {
   "cell_type": "code",
   "execution_count": 137,
   "id": "d2f7be14",
   "metadata": {},
   "outputs": [],
   "source": [
    "xpath_element_close = driver.find_element(By.XPATH,\"//button[@type='undefined']\")"
   ]
  },
  {
   "cell_type": "code",
   "execution_count": 138,
   "id": "91370fe2",
   "metadata": {},
   "outputs": [
    {
     "ename": "ElementClickInterceptedException",
     "evalue": "Message: element click intercepted: Element <span _ngcontent-ng-c3062174817=\"\" class=\"underline text-black cursor-pointer\">...</span> is not clickable at point (579, 770). Other element would receive the click: <div class=\"overlay\">...</div>\n  (Session info: chrome=123.0.6312.58)\nStacktrace:\n#0 0x57001fbd9993 <unknown>\n#1 0x57001f8d4136 <unknown>\n#2 0x57001f925963 <unknown>\n#3 0x57001f92387e <unknown>\n#4 0x57001f921257 <unknown>\n#5 0x57001f920622 <unknown>\n#6 0x57001f913c07 <unknown>\n#7 0x57001f940cd2 <unknown>\n#8 0x57001f913598 <unknown>\n#9 0x57001f940e9e <unknown>\n#10 0x57001f95f319 <unknown>\n#11 0x57001f940a73 <unknown>\n#12 0x57001f911c93 <unknown>\n#13 0x57001f91265e <unknown>\n#14 0x57001fb9e08b <unknown>\n#15 0x57001fba2005 <unknown>\n#16 0x57001fb8c491 <unknown>\n#17 0x57001fba2b92 <unknown>\n#18 0x57001fb719ef <unknown>\n#19 0x57001fbc8df8 <unknown>\n#20 0x57001fbc8fcb <unknown>\n#21 0x57001fbd8ae4 <unknown>\n#22 0x753952e94ac3 <unknown>\n",
     "output_type": "error",
     "traceback": [
      "\u001b[0;31m---------------------------------------------------------------------------\u001b[0m",
      "\u001b[0;31mElementClickInterceptedException\u001b[0m          Traceback (most recent call last)",
      "Cell \u001b[0;32mIn [138], line 1\u001b[0m\n\u001b[0;32m----> 1\u001b[0m xpath_element1\u001b[38;5;241m.\u001b[39mclick()\n",
      "File \u001b[0;32m~/anaconda3/lib/python3.11/site-packages/selenium/webdriver/remote/webelement.py:88\u001b[0m, in \u001b[0;36mWebElement.click\u001b[0;34m(self)\u001b[0m\n\u001b[1;32m     86\u001b[0m \u001b[38;5;28;01mdef\u001b[39;00m \u001b[38;5;21mclick\u001b[39m(\u001b[38;5;28mself\u001b[39m) \u001b[38;5;241m-\u001b[39m\u001b[38;5;241m>\u001b[39m \u001b[38;5;28;01mNone\u001b[39;00m:\n\u001b[1;32m     87\u001b[0m     \u001b[38;5;124;03m\"\"\"Clicks the element.\"\"\"\u001b[39;00m\n\u001b[0;32m---> 88\u001b[0m     \u001b[38;5;28mself\u001b[39m\u001b[38;5;241m.\u001b[39m_execute(Command\u001b[38;5;241m.\u001b[39mCLICK_ELEMENT)\n",
      "File \u001b[0;32m~/anaconda3/lib/python3.11/site-packages/selenium/webdriver/remote/webelement.py:396\u001b[0m, in \u001b[0;36mWebElement._execute\u001b[0;34m(self, command, params)\u001b[0m\n\u001b[1;32m    394\u001b[0m     params \u001b[38;5;241m=\u001b[39m {}\n\u001b[1;32m    395\u001b[0m params[\u001b[38;5;124m'\u001b[39m\u001b[38;5;124mid\u001b[39m\u001b[38;5;124m'\u001b[39m] \u001b[38;5;241m=\u001b[39m \u001b[38;5;28mself\u001b[39m\u001b[38;5;241m.\u001b[39m_id\n\u001b[0;32m--> 396\u001b[0m \u001b[38;5;28;01mreturn\u001b[39;00m \u001b[38;5;28mself\u001b[39m\u001b[38;5;241m.\u001b[39m_parent\u001b[38;5;241m.\u001b[39mexecute(command, params)\n",
      "File \u001b[0;32m~/anaconda3/lib/python3.11/site-packages/selenium/webdriver/remote/webdriver.py:428\u001b[0m, in \u001b[0;36mWebDriver.execute\u001b[0;34m(self, driver_command, params)\u001b[0m\n\u001b[1;32m    426\u001b[0m response \u001b[38;5;241m=\u001b[39m \u001b[38;5;28mself\u001b[39m\u001b[38;5;241m.\u001b[39mcommand_executor\u001b[38;5;241m.\u001b[39mexecute(driver_command, params)\n\u001b[1;32m    427\u001b[0m \u001b[38;5;28;01mif\u001b[39;00m response:\n\u001b[0;32m--> 428\u001b[0m     \u001b[38;5;28mself\u001b[39m\u001b[38;5;241m.\u001b[39merror_handler\u001b[38;5;241m.\u001b[39mcheck_response(response)\n\u001b[1;32m    429\u001b[0m     response[\u001b[38;5;124m'\u001b[39m\u001b[38;5;124mvalue\u001b[39m\u001b[38;5;124m'\u001b[39m] \u001b[38;5;241m=\u001b[39m \u001b[38;5;28mself\u001b[39m\u001b[38;5;241m.\u001b[39m_unwrap_value(\n\u001b[1;32m    430\u001b[0m         response\u001b[38;5;241m.\u001b[39mget(\u001b[38;5;124m'\u001b[39m\u001b[38;5;124mvalue\u001b[39m\u001b[38;5;124m'\u001b[39m, \u001b[38;5;28;01mNone\u001b[39;00m))\n\u001b[1;32m    431\u001b[0m     \u001b[38;5;28;01mreturn\u001b[39;00m response\n",
      "File \u001b[0;32m~/anaconda3/lib/python3.11/site-packages/selenium/webdriver/remote/errorhandler.py:243\u001b[0m, in \u001b[0;36mErrorHandler.check_response\u001b[0;34m(self, response)\u001b[0m\n\u001b[1;32m    241\u001b[0m         alert_text \u001b[38;5;241m=\u001b[39m value[\u001b[38;5;124m'\u001b[39m\u001b[38;5;124malert\u001b[39m\u001b[38;5;124m'\u001b[39m]\u001b[38;5;241m.\u001b[39mget(\u001b[38;5;124m'\u001b[39m\u001b[38;5;124mtext\u001b[39m\u001b[38;5;124m'\u001b[39m)\n\u001b[1;32m    242\u001b[0m     \u001b[38;5;28;01mraise\u001b[39;00m exception_class(message, screen, stacktrace, alert_text)  \u001b[38;5;66;03m# type: ignore[call-arg]  # mypy is not smart enough here\u001b[39;00m\n\u001b[0;32m--> 243\u001b[0m \u001b[38;5;28;01mraise\u001b[39;00m exception_class(message, screen, stacktrace)\n",
      "\u001b[0;31mElementClickInterceptedException\u001b[0m: Message: element click intercepted: Element <span _ngcontent-ng-c3062174817=\"\" class=\"underline text-black cursor-pointer\">...</span> is not clickable at point (579, 770). Other element would receive the click: <div class=\"overlay\">...</div>\n  (Session info: chrome=123.0.6312.58)\nStacktrace:\n#0 0x57001fbd9993 <unknown>\n#1 0x57001f8d4136 <unknown>\n#2 0x57001f925963 <unknown>\n#3 0x57001f92387e <unknown>\n#4 0x57001f921257 <unknown>\n#5 0x57001f920622 <unknown>\n#6 0x57001f913c07 <unknown>\n#7 0x57001f940cd2 <unknown>\n#8 0x57001f913598 <unknown>\n#9 0x57001f940e9e <unknown>\n#10 0x57001f95f319 <unknown>\n#11 0x57001f940a73 <unknown>\n#12 0x57001f911c93 <unknown>\n#13 0x57001f91265e <unknown>\n#14 0x57001fb9e08b <unknown>\n#15 0x57001fba2005 <unknown>\n#16 0x57001fb8c491 <unknown>\n#17 0x57001fba2b92 <unknown>\n#18 0x57001fb719ef <unknown>\n#19 0x57001fbc8df8 <unknown>\n#20 0x57001fbc8fcb <unknown>\n#21 0x57001fbd8ae4 <unknown>\n#22 0x753952e94ac3 <unknown>\n"
     ]
    }
   ],
   "source": [
    "xpath_element1.click()"
   ]
  },
  {
   "cell_type": "code",
   "execution_count": 139,
   "id": "f15503a2",
   "metadata": {},
   "outputs": [],
   "source": [
    "xpath_element_close.click()"
   ]
  },
  {
   "cell_type": "markdown",
   "id": "e3da5d39",
   "metadata": {},
   "source": [
    "### Selecting elements by Link Text "
   ]
  },
  {
   "cell_type": "markdown",
   "id": "33b675f1",
   "metadata": {},
   "source": [
    "Two types\n",
    "+ LINK_TEXT\n",
    "+ PARTIAL_LINK_TEXT\n",
    "+ and only used for links, which are having 'href' and tag as 'a'"
   ]
  },
  {
   "cell_type": "code",
   "execution_count": 108,
   "id": "169c141c",
   "metadata": {
    "scrolled": true
   },
   "outputs": [
    {
     "ename": "NoSuchElementException",
     "evalue": "Message: no such element: Unable to locate element: {\"method\":\"link text\",\"selector\":\"Terms and Conditions\"}\n  (Session info: chrome=123.0.6312.58)\nStacktrace:\n#0 0x5a35b5fb2993 <unknown>\n#1 0x5a35b5cad136 <unknown>\n#2 0x5a35b5cf7d48 <unknown>\n#3 0x5a35b5cf7e01 <unknown>\n#4 0x5a35b5d3ae44 <unknown>\n#5 0x5a35b5d19cfd <unknown>\n#6 0x5a35b5d38319 <unknown>\n#7 0x5a35b5d19a73 <unknown>\n#8 0x5a35b5ceac93 <unknown>\n#9 0x5a35b5ceb65e <unknown>\n#10 0x5a35b5f7708b <unknown>\n#11 0x5a35b5f7b005 <unknown>\n#12 0x5a35b5f65491 <unknown>\n#13 0x5a35b5f7bb92 <unknown>\n#14 0x5a35b5f4a9ef <unknown>\n#15 0x5a35b5fa1df8 <unknown>\n#16 0x5a35b5fa1fcb <unknown>\n#17 0x5a35b5fb1ae4 <unknown>\n#18 0x765615e94ac3 <unknown>\n",
     "output_type": "error",
     "traceback": [
      "\u001b[0;31m---------------------------------------------------------------------------\u001b[0m",
      "\u001b[0;31mNoSuchElementException\u001b[0m                    Traceback (most recent call last)",
      "Cell \u001b[0;32mIn [108], line 1\u001b[0m\n\u001b[0;32m----> 1\u001b[0m link_text_element \u001b[38;5;241m=\u001b[39m driver\u001b[38;5;241m.\u001b[39mfind_element(By\u001b[38;5;241m.\u001b[39mLINK_TEXT,\u001b[38;5;124m'\u001b[39m\u001b[38;5;124mTerms and Conditions\u001b[39m\u001b[38;5;124m'\u001b[39m)\n",
      "File \u001b[0;32m~/anaconda3/lib/python3.11/site-packages/selenium/webdriver/remote/webdriver.py:855\u001b[0m, in \u001b[0;36mWebDriver.find_element\u001b[0;34m(self, by, value)\u001b[0m\n\u001b[1;32m    852\u001b[0m     by \u001b[38;5;241m=\u001b[39m By\u001b[38;5;241m.\u001b[39mCSS_SELECTOR\n\u001b[1;32m    853\u001b[0m     value \u001b[38;5;241m=\u001b[39m \u001b[38;5;124m'\u001b[39m\u001b[38;5;124m[name=\u001b[39m\u001b[38;5;124m\"\u001b[39m\u001b[38;5;132;01m%s\u001b[39;00m\u001b[38;5;124m\"\u001b[39m\u001b[38;5;124m]\u001b[39m\u001b[38;5;124m'\u001b[39m \u001b[38;5;241m%\u001b[39m value\n\u001b[0;32m--> 855\u001b[0m \u001b[38;5;28;01mreturn\u001b[39;00m \u001b[38;5;28mself\u001b[39m\u001b[38;5;241m.\u001b[39mexecute(Command\u001b[38;5;241m.\u001b[39mFIND_ELEMENT, {\n\u001b[1;32m    856\u001b[0m     \u001b[38;5;124m'\u001b[39m\u001b[38;5;124musing\u001b[39m\u001b[38;5;124m'\u001b[39m: by,\n\u001b[1;32m    857\u001b[0m     \u001b[38;5;124m'\u001b[39m\u001b[38;5;124mvalue\u001b[39m\u001b[38;5;124m'\u001b[39m: value})[\u001b[38;5;124m'\u001b[39m\u001b[38;5;124mvalue\u001b[39m\u001b[38;5;124m'\u001b[39m]\n",
      "File \u001b[0;32m~/anaconda3/lib/python3.11/site-packages/selenium/webdriver/remote/webdriver.py:428\u001b[0m, in \u001b[0;36mWebDriver.execute\u001b[0;34m(self, driver_command, params)\u001b[0m\n\u001b[1;32m    426\u001b[0m response \u001b[38;5;241m=\u001b[39m \u001b[38;5;28mself\u001b[39m\u001b[38;5;241m.\u001b[39mcommand_executor\u001b[38;5;241m.\u001b[39mexecute(driver_command, params)\n\u001b[1;32m    427\u001b[0m \u001b[38;5;28;01mif\u001b[39;00m response:\n\u001b[0;32m--> 428\u001b[0m     \u001b[38;5;28mself\u001b[39m\u001b[38;5;241m.\u001b[39merror_handler\u001b[38;5;241m.\u001b[39mcheck_response(response)\n\u001b[1;32m    429\u001b[0m     response[\u001b[38;5;124m'\u001b[39m\u001b[38;5;124mvalue\u001b[39m\u001b[38;5;124m'\u001b[39m] \u001b[38;5;241m=\u001b[39m \u001b[38;5;28mself\u001b[39m\u001b[38;5;241m.\u001b[39m_unwrap_value(\n\u001b[1;32m    430\u001b[0m         response\u001b[38;5;241m.\u001b[39mget(\u001b[38;5;124m'\u001b[39m\u001b[38;5;124mvalue\u001b[39m\u001b[38;5;124m'\u001b[39m, \u001b[38;5;28;01mNone\u001b[39;00m))\n\u001b[1;32m    431\u001b[0m     \u001b[38;5;28;01mreturn\u001b[39;00m response\n",
      "File \u001b[0;32m~/anaconda3/lib/python3.11/site-packages/selenium/webdriver/remote/errorhandler.py:243\u001b[0m, in \u001b[0;36mErrorHandler.check_response\u001b[0;34m(self, response)\u001b[0m\n\u001b[1;32m    241\u001b[0m         alert_text \u001b[38;5;241m=\u001b[39m value[\u001b[38;5;124m'\u001b[39m\u001b[38;5;124malert\u001b[39m\u001b[38;5;124m'\u001b[39m]\u001b[38;5;241m.\u001b[39mget(\u001b[38;5;124m'\u001b[39m\u001b[38;5;124mtext\u001b[39m\u001b[38;5;124m'\u001b[39m)\n\u001b[1;32m    242\u001b[0m     \u001b[38;5;28;01mraise\u001b[39;00m exception_class(message, screen, stacktrace, alert_text)  \u001b[38;5;66;03m# type: ignore[call-arg]  # mypy is not smart enough here\u001b[39;00m\n\u001b[0;32m--> 243\u001b[0m \u001b[38;5;28;01mraise\u001b[39;00m exception_class(message, screen, stacktrace)\n",
      "\u001b[0;31mNoSuchElementException\u001b[0m: Message: no such element: Unable to locate element: {\"method\":\"link text\",\"selector\":\"Terms and Conditions\"}\n  (Session info: chrome=123.0.6312.58)\nStacktrace:\n#0 0x5a35b5fb2993 <unknown>\n#1 0x5a35b5cad136 <unknown>\n#2 0x5a35b5cf7d48 <unknown>\n#3 0x5a35b5cf7e01 <unknown>\n#4 0x5a35b5d3ae44 <unknown>\n#5 0x5a35b5d19cfd <unknown>\n#6 0x5a35b5d38319 <unknown>\n#7 0x5a35b5d19a73 <unknown>\n#8 0x5a35b5ceac93 <unknown>\n#9 0x5a35b5ceb65e <unknown>\n#10 0x5a35b5f7708b <unknown>\n#11 0x5a35b5f7b005 <unknown>\n#12 0x5a35b5f65491 <unknown>\n#13 0x5a35b5f7bb92 <unknown>\n#14 0x5a35b5f4a9ef <unknown>\n#15 0x5a35b5fa1df8 <unknown>\n#16 0x5a35b5fa1fcb <unknown>\n#17 0x5a35b5fb1ae4 <unknown>\n#18 0x765615e94ac3 <unknown>\n"
     ]
    }
   ],
   "source": [
    "link_text_element = driver.find_element(By.LINK_TEXT,'Terms and Conditions')"
   ]
  },
  {
   "cell_type": "code",
   "execution_count": 105,
   "id": "0fce1402",
   "metadata": {},
   "outputs": [
    {
     "ename": "NoSuchElementException",
     "evalue": "Message: no such element: Unable to locate element: {\"method\":\"partial link text\",\"selector\":\"Lo\"}\n  (Session info: chrome=123.0.6312.58)\nStacktrace:\n#0 0x5a35b5fb2993 <unknown>\n#1 0x5a35b5cad136 <unknown>\n#2 0x5a35b5cf7d48 <unknown>\n#3 0x5a35b5cf7e01 <unknown>\n#4 0x5a35b5d3ae44 <unknown>\n#5 0x5a35b5d19cfd <unknown>\n#6 0x5a35b5d38319 <unknown>\n#7 0x5a35b5d19a73 <unknown>\n#8 0x5a35b5ceac93 <unknown>\n#9 0x5a35b5ceb65e <unknown>\n#10 0x5a35b5f7708b <unknown>\n#11 0x5a35b5f7b005 <unknown>\n#12 0x5a35b5f65491 <unknown>\n#13 0x5a35b5f7bb92 <unknown>\n#14 0x5a35b5f4a9ef <unknown>\n#15 0x5a35b5fa1df8 <unknown>\n#16 0x5a35b5fa1fcb <unknown>\n#17 0x5a35b5fb1ae4 <unknown>\n#18 0x765615e94ac3 <unknown>\n",
     "output_type": "error",
     "traceback": [
      "\u001b[0;31m---------------------------------------------------------------------------\u001b[0m",
      "\u001b[0;31mNoSuchElementException\u001b[0m                    Traceback (most recent call last)",
      "Cell \u001b[0;32mIn [105], line 1\u001b[0m\n\u001b[0;32m----> 1\u001b[0m partial_link_text_element \u001b[38;5;241m=\u001b[39m driver\u001b[38;5;241m.\u001b[39mfind_element(By\u001b[38;5;241m.\u001b[39mPARTIAL_LINK_TEXT,\u001b[38;5;124m'\u001b[39m\u001b[38;5;124mLo\u001b[39m\u001b[38;5;124m'\u001b[39m)\n",
      "File \u001b[0;32m~/anaconda3/lib/python3.11/site-packages/selenium/webdriver/remote/webdriver.py:855\u001b[0m, in \u001b[0;36mWebDriver.find_element\u001b[0;34m(self, by, value)\u001b[0m\n\u001b[1;32m    852\u001b[0m     by \u001b[38;5;241m=\u001b[39m By\u001b[38;5;241m.\u001b[39mCSS_SELECTOR\n\u001b[1;32m    853\u001b[0m     value \u001b[38;5;241m=\u001b[39m \u001b[38;5;124m'\u001b[39m\u001b[38;5;124m[name=\u001b[39m\u001b[38;5;124m\"\u001b[39m\u001b[38;5;132;01m%s\u001b[39;00m\u001b[38;5;124m\"\u001b[39m\u001b[38;5;124m]\u001b[39m\u001b[38;5;124m'\u001b[39m \u001b[38;5;241m%\u001b[39m value\n\u001b[0;32m--> 855\u001b[0m \u001b[38;5;28;01mreturn\u001b[39;00m \u001b[38;5;28mself\u001b[39m\u001b[38;5;241m.\u001b[39mexecute(Command\u001b[38;5;241m.\u001b[39mFIND_ELEMENT, {\n\u001b[1;32m    856\u001b[0m     \u001b[38;5;124m'\u001b[39m\u001b[38;5;124musing\u001b[39m\u001b[38;5;124m'\u001b[39m: by,\n\u001b[1;32m    857\u001b[0m     \u001b[38;5;124m'\u001b[39m\u001b[38;5;124mvalue\u001b[39m\u001b[38;5;124m'\u001b[39m: value})[\u001b[38;5;124m'\u001b[39m\u001b[38;5;124mvalue\u001b[39m\u001b[38;5;124m'\u001b[39m]\n",
      "File \u001b[0;32m~/anaconda3/lib/python3.11/site-packages/selenium/webdriver/remote/webdriver.py:428\u001b[0m, in \u001b[0;36mWebDriver.execute\u001b[0;34m(self, driver_command, params)\u001b[0m\n\u001b[1;32m    426\u001b[0m response \u001b[38;5;241m=\u001b[39m \u001b[38;5;28mself\u001b[39m\u001b[38;5;241m.\u001b[39mcommand_executor\u001b[38;5;241m.\u001b[39mexecute(driver_command, params)\n\u001b[1;32m    427\u001b[0m \u001b[38;5;28;01mif\u001b[39;00m response:\n\u001b[0;32m--> 428\u001b[0m     \u001b[38;5;28mself\u001b[39m\u001b[38;5;241m.\u001b[39merror_handler\u001b[38;5;241m.\u001b[39mcheck_response(response)\n\u001b[1;32m    429\u001b[0m     response[\u001b[38;5;124m'\u001b[39m\u001b[38;5;124mvalue\u001b[39m\u001b[38;5;124m'\u001b[39m] \u001b[38;5;241m=\u001b[39m \u001b[38;5;28mself\u001b[39m\u001b[38;5;241m.\u001b[39m_unwrap_value(\n\u001b[1;32m    430\u001b[0m         response\u001b[38;5;241m.\u001b[39mget(\u001b[38;5;124m'\u001b[39m\u001b[38;5;124mvalue\u001b[39m\u001b[38;5;124m'\u001b[39m, \u001b[38;5;28;01mNone\u001b[39;00m))\n\u001b[1;32m    431\u001b[0m     \u001b[38;5;28;01mreturn\u001b[39;00m response\n",
      "File \u001b[0;32m~/anaconda3/lib/python3.11/site-packages/selenium/webdriver/remote/errorhandler.py:243\u001b[0m, in \u001b[0;36mErrorHandler.check_response\u001b[0;34m(self, response)\u001b[0m\n\u001b[1;32m    241\u001b[0m         alert_text \u001b[38;5;241m=\u001b[39m value[\u001b[38;5;124m'\u001b[39m\u001b[38;5;124malert\u001b[39m\u001b[38;5;124m'\u001b[39m]\u001b[38;5;241m.\u001b[39mget(\u001b[38;5;124m'\u001b[39m\u001b[38;5;124mtext\u001b[39m\u001b[38;5;124m'\u001b[39m)\n\u001b[1;32m    242\u001b[0m     \u001b[38;5;28;01mraise\u001b[39;00m exception_class(message, screen, stacktrace, alert_text)  \u001b[38;5;66;03m# type: ignore[call-arg]  # mypy is not smart enough here\u001b[39;00m\n\u001b[0;32m--> 243\u001b[0m \u001b[38;5;28;01mraise\u001b[39;00m exception_class(message, screen, stacktrace)\n",
      "\u001b[0;31mNoSuchElementException\u001b[0m: Message: no such element: Unable to locate element: {\"method\":\"partial link text\",\"selector\":\"Lo\"}\n  (Session info: chrome=123.0.6312.58)\nStacktrace:\n#0 0x5a35b5fb2993 <unknown>\n#1 0x5a35b5cad136 <unknown>\n#2 0x5a35b5cf7d48 <unknown>\n#3 0x5a35b5cf7e01 <unknown>\n#4 0x5a35b5d3ae44 <unknown>\n#5 0x5a35b5d19cfd <unknown>\n#6 0x5a35b5d38319 <unknown>\n#7 0x5a35b5d19a73 <unknown>\n#8 0x5a35b5ceac93 <unknown>\n#9 0x5a35b5ceb65e <unknown>\n#10 0x5a35b5f7708b <unknown>\n#11 0x5a35b5f7b005 <unknown>\n#12 0x5a35b5f65491 <unknown>\n#13 0x5a35b5f7bb92 <unknown>\n#14 0x5a35b5f4a9ef <unknown>\n#15 0x5a35b5fa1df8 <unknown>\n#16 0x5a35b5fa1fcb <unknown>\n#17 0x5a35b5fb1ae4 <unknown>\n#18 0x765615e94ac3 <unknown>\n"
     ]
    }
   ],
   "source": [
    "partial_link_text_element = driver.find_element(By.PARTIAL_LINK_TEXT,'Lo')"
   ]
  },
  {
   "cell_type": "code",
   "execution_count": null,
   "id": "9707be9f",
   "metadata": {},
   "outputs": [],
   "source": []
  },
  {
   "cell_type": "markdown",
   "id": "10c68a87",
   "metadata": {},
   "source": [
    "### 1. Methods\n",
    "+ screenshot()\n",
    "+ get_dom_attribute()\n",
    "+ get_attribute()\n",
    "+ value_of_css_property()\n",
    "+ get_property()"
   ]
  },
  {
   "cell_type": "markdown",
   "id": "79b6f5ad",
   "metadata": {},
   "source": [
    "### 2. Attributes\n",
    "+ text\n",
    "+ tag_name\n",
    "+ size \n",
    "+ is_displayed()\n",
    "+ is_enabled()\n",
    "+ is_selected()"
   ]
  },
  {
   "cell_type": "code",
   "execution_count": 143,
   "id": "71bfa797",
   "metadata": {},
   "outputs": [],
   "source": [
    "disabled_button = driver.find_element(By.XPATH,\"//button[@type='submit']\")"
   ]
  },
  {
   "cell_type": "code",
   "execution_count": 144,
   "id": "1b19dba2",
   "metadata": {},
   "outputs": [
    {
     "data": {
      "text/plain": [
       "False"
      ]
     },
     "execution_count": 144,
     "metadata": {},
     "output_type": "execute_result"
    }
   ],
   "source": [
    "disabled_button.is_enabled()"
   ]
  },
  {
   "cell_type": "code",
   "execution_count": 145,
   "id": "aca2d845",
   "metadata": {},
   "outputs": [
    {
     "data": {
      "text/plain": [
       "True"
      ]
     },
     "execution_count": 145,
     "metadata": {},
     "output_type": "execute_result"
    }
   ],
   "source": [
    "disabled_button.is_displayed()"
   ]
  },
  {
   "cell_type": "code",
   "execution_count": 146,
   "id": "a65bb204",
   "metadata": {},
   "outputs": [
    {
     "data": {
      "text/plain": [
       "False"
      ]
     },
     "execution_count": 146,
     "metadata": {},
     "output_type": "execute_result"
    }
   ],
   "source": [
    "disabled_button.is_selected()"
   ]
  },
  {
   "cell_type": "code",
   "execution_count": 167,
   "id": "5d791e87",
   "metadata": {},
   "outputs": [
    {
     "data": {
      "text/plain": [
       "True"
      ]
     },
     "execution_count": 167,
     "metadata": {},
     "output_type": "execute_result"
    }
   ],
   "source": [
    "disabled_button.screenshot(\"button.png\")"
   ]
  },
  {
   "cell_type": "code",
   "execution_count": 152,
   "id": "eceeff58",
   "metadata": {},
   "outputs": [
    {
     "data": {
      "text/plain": [
       "'submit'"
      ]
     },
     "execution_count": 152,
     "metadata": {},
     "output_type": "execute_result"
    }
   ],
   "source": [
    "disabled_button.get_attribute('type')"
   ]
  },
  {
   "cell_type": "code",
   "execution_count": 165,
   "id": "335a7a7b",
   "metadata": {},
   "outputs": [
    {
     "data": {
      "text/plain": [
       "'bg-primary_Bg_Button_Color w-full text-base font-semibold text-center py-3 rounded-lg mb-3 cursor-pointer mt-8'"
      ]
     },
     "execution_count": 165,
     "metadata": {},
     "output_type": "execute_result"
    }
   ],
   "source": [
    "disabled_button.get_dom_attribute('class')"
   ]
  },
  {
   "cell_type": "code",
   "execution_count": 166,
   "id": "4200da8b",
   "metadata": {},
   "outputs": [
    {
     "data": {
      "text/plain": [
       "'submit'"
      ]
     },
     "execution_count": 166,
     "metadata": {},
     "output_type": "execute_result"
    }
   ],
   "source": [
    "disabled_button.get_property('type')"
   ]
  },
  {
   "cell_type": "code",
   "execution_count": 160,
   "id": "f983dedc",
   "metadata": {},
   "outputs": [
    {
     "data": {
      "text/plain": [
       "'rgba(255, 255, 255, 1)'"
      ]
     },
     "execution_count": 160,
     "metadata": {},
     "output_type": "execute_result"
    }
   ],
   "source": [
    "disabled_button.value_of_css_property('color')"
   ]
  },
  {
   "cell_type": "code",
   "execution_count": 162,
   "id": "cc4646e1",
   "metadata": {},
   "outputs": [
    {
     "data": {
      "text/plain": [
       "'12px 0px'"
      ]
     },
     "execution_count": 162,
     "metadata": {},
     "output_type": "execute_result"
    }
   ],
   "source": [
    "disabled_button.value_of_css_property('padding')"
   ]
  },
  {
   "cell_type": "code",
   "execution_count": 164,
   "id": "ecb44fb9",
   "metadata": {},
   "outputs": [
    {
     "data": {
      "text/plain": [
       "{'height': 48, 'width': 451}"
      ]
     },
     "execution_count": 164,
     "metadata": {},
     "output_type": "execute_result"
    }
   ],
   "source": [
    "disabled_button.size"
   ]
  },
  {
   "cell_type": "code",
   "execution_count": null,
   "id": "d8a1b409",
   "metadata": {},
   "outputs": [],
   "source": []
  },
  {
   "cell_type": "code",
   "execution_count": null,
   "id": "d8d3cea5",
   "metadata": {},
   "outputs": [],
   "source": []
  },
  {
   "cell_type": "code",
   "execution_count": null,
   "id": "71780591",
   "metadata": {},
   "outputs": [],
   "source": []
  },
  {
   "cell_type": "code",
   "execution_count": null,
   "id": "9ddbcc2d",
   "metadata": {},
   "outputs": [],
   "source": []
  },
  {
   "cell_type": "code",
   "execution_count": null,
   "id": "f3a9445c",
   "metadata": {},
   "outputs": [],
   "source": []
  },
  {
   "cell_type": "code",
   "execution_count": null,
   "id": "0bbd9e0e",
   "metadata": {},
   "outputs": [],
   "source": []
  },
  {
   "cell_type": "code",
   "execution_count": null,
   "id": "98bc731e",
   "metadata": {},
   "outputs": [],
   "source": []
  },
  {
   "cell_type": "code",
   "execution_count": null,
   "id": "d9290d82",
   "metadata": {},
   "outputs": [],
   "source": []
  },
  {
   "cell_type": "code",
   "execution_count": null,
   "id": "e8f2a631",
   "metadata": {},
   "outputs": [],
   "source": []
  },
  {
   "cell_type": "markdown",
   "id": "ae207dc2",
   "metadata": {},
   "source": [
    " Close Browser"
   ]
  },
  {
   "cell_type": "code",
   "execution_count": 168,
   "id": "b3932c27",
   "metadata": {},
   "outputs": [],
   "source": [
    "driver.quit()"
   ]
  },
  {
   "cell_type": "code",
   "execution_count": null,
   "id": "43af6298",
   "metadata": {},
   "outputs": [],
   "source": []
  }
 ],
 "metadata": {
  "kernelspec": {
   "display_name": "Python 3 (ipykernel)",
   "language": "python",
   "name": "python3"
  },
  "language_info": {
   "codemirror_mode": {
    "name": "ipython",
    "version": 3
   },
   "file_extension": ".py",
   "mimetype": "text/x-python",
   "name": "python",
   "nbconvert_exporter": "python",
   "pygments_lexer": "ipython3",
   "version": "3.11.5"
  }
 },
 "nbformat": 4,
 "nbformat_minor": 5
}
