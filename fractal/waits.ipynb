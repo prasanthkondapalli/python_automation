{
 "cells": [
  {
   "cell_type": "markdown",
   "id": "60e91d06",
   "metadata": {},
   "source": [
    "### Waits\n",
    "+ Implicit Wait\n",
    "    + wait for the specific time.\n",
    "+ Explicit Wait"
   ]
  },
  {
   "cell_type": "code",
   "execution_count": 1,
   "id": "72215635",
   "metadata": {},
   "outputs": [],
   "source": [
    "from selenium import webdriver\n",
    "from selenium.webdriver.chrome.service import Service\n",
    "from selenium.webdriver.common.by import By"
   ]
  },
  {
   "cell_type": "code",
   "execution_count": 2,
   "id": "6f17bd1c",
   "metadata": {},
   "outputs": [
    {
     "name": "stdout",
     "output_type": "stream",
     "text": [
      "importing Jupyter notebook from path.ipynb\n"
     ]
    }
   ],
   "source": [
    "import import_ipynb\n",
    "import path"
   ]
  },
  {
   "cell_type": "code",
   "execution_count": 3,
   "id": "eb52f5a6",
   "metadata": {},
   "outputs": [],
   "source": [
    "ser = Service(executable_path = path.driver_path)"
   ]
  },
  {
   "cell_type": "code",
   "execution_count": 22,
   "id": "8f5d011f",
   "metadata": {},
   "outputs": [],
   "source": [
    "driver = webdriver.Chrome(service=ser)"
   ]
  },
  {
   "cell_type": "code",
   "execution_count": 23,
   "id": "a33e4fdd",
   "metadata": {},
   "outputs": [],
   "source": [
    "driver.get(path.radio_check_buttons)"
   ]
  },
  {
   "cell_type": "markdown",
   "id": "9fa70017",
   "metadata": {},
   "source": [
    "#### Implicit wait\n",
    "+ It will wait for specific time to find the element"
   ]
  },
  {
   "cell_type": "code",
   "execution_count": 6,
   "id": "438cec1d",
   "metadata": {},
   "outputs": [],
   "source": [
    "driver.implicitly_wait(10)\n",
    "email_ele = driver.find_element(By.XPATH,\"//input[@type='email']\")"
   ]
  },
  {
   "cell_type": "code",
   "execution_count": 7,
   "id": "f416c926",
   "metadata": {},
   "outputs": [],
   "source": [
    "email_ele.send_keys('hii')"
   ]
  },
  {
   "cell_type": "code",
   "execution_count": 8,
   "id": "78a552db",
   "metadata": {},
   "outputs": [],
   "source": [
    "#driver.close()"
   ]
  },
  {
   "cell_type": "markdown",
   "id": "de63b951",
   "metadata": {},
   "source": [
    "#### Explicit Wait\n",
    "+ wait for the specitime with given condition on expected_conditions"
   ]
  },
  {
   "cell_type": "code",
   "execution_count": 28,
   "id": "e166d034",
   "metadata": {},
   "outputs": [],
   "source": [
    "driver.get(path.jqueryui)"
   ]
  },
  {
   "cell_type": "code",
   "execution_count": 25,
   "id": "1be90578",
   "metadata": {},
   "outputs": [],
   "source": [
    "search_ele = driver.find_element(By.XPATH,\"//input[@type='search']\")"
   ]
  },
  {
   "cell_type": "code",
   "execution_count": 29,
   "id": "e5766f8a",
   "metadata": {},
   "outputs": [
    {
     "ename": "StaleElementReferenceException",
     "evalue": "Message: stale element reference: stale element not found\n  (Session info: chrome=123.0.6312.122)\nStacktrace:\n#0 0x5c2fbb907993 <unknown>\n#1 0x5c2fbb602136 <unknown>\n#2 0x5c2fbb612181 <unknown>\n#3 0x5c2fbb612a6a <unknown>\n#4 0x5c2fbb6080b5 <unknown>\n#5 0x5c2fbb606441 <unknown>\n#6 0x5c2fbb60943e <unknown>\n#7 0x5c2fbb6094cc <unknown>\n#8 0x5c2fbb64e8f2 <unknown>\n#9 0x5c2fbb6434a3 <unknown>\n#10 0x5c2fbb66ecd2 <unknown>\n#11 0x5c2fbb641598 <unknown>\n#12 0x5c2fbb66ee9e <unknown>\n#13 0x5c2fbb68d319 <unknown>\n#14 0x5c2fbb66ea73 <unknown>\n#15 0x5c2fbb63fc93 <unknown>\n#16 0x5c2fbb64065e <unknown>\n#17 0x5c2fbb8cc08b <unknown>\n#18 0x5c2fbb8d0005 <unknown>\n#19 0x5c2fbb8ba491 <unknown>\n#20 0x5c2fbb8d0b92 <unknown>\n#21 0x5c2fbb89f9ef <unknown>\n#22 0x5c2fbb8f6df8 <unknown>\n#23 0x5c2fbb8f6fcb <unknown>\n#24 0x5c2fbb906ae4 <unknown>\n#25 0x7d21e3a94ac3 <unknown>\n",
     "output_type": "error",
     "traceback": [
      "\u001b[0;31m---------------------------------------------------------------------------\u001b[0m",
      "\u001b[0;31mStaleElementReferenceException\u001b[0m            Traceback (most recent call last)",
      "Cell \u001b[0;32mIn [29], line 1\u001b[0m\n\u001b[0;32m----> 1\u001b[0m search_ele\u001b[38;5;241m.\u001b[39mclear()\n\u001b[1;32m      2\u001b[0m search_ele\u001b[38;5;241m.\u001b[39msend_keys(\u001b[38;5;124m'\u001b[39m\u001b[38;5;124mdra\u001b[39m\u001b[38;5;124m'\u001b[39m)\n\u001b[1;32m      3\u001b[0m result_element\u001b[38;5;241m=\u001b[39mdriver\u001b[38;5;241m.\u001b[39mfind_elements(By\u001b[38;5;241m.\u001b[39mXPATH,\u001b[38;5;124m\"\u001b[39m\u001b[38;5;124m//div[@role=\u001b[39m\u001b[38;5;124m'\u001b[39m\u001b[38;5;124moption\u001b[39m\u001b[38;5;124m'\u001b[39m\u001b[38;5;124m]/a/div[1]\u001b[39m\u001b[38;5;124m\"\u001b[39m)\n",
      "File \u001b[0;32m~/anaconda3/lib/python3.11/site-packages/selenium/webdriver/remote/webelement.py:109\u001b[0m, in \u001b[0;36mWebElement.clear\u001b[0;34m(self)\u001b[0m\n\u001b[1;32m    107\u001b[0m \u001b[38;5;28;01mdef\u001b[39;00m \u001b[38;5;21mclear\u001b[39m(\u001b[38;5;28mself\u001b[39m) \u001b[38;5;241m-\u001b[39m\u001b[38;5;241m>\u001b[39m \u001b[38;5;28;01mNone\u001b[39;00m:\n\u001b[1;32m    108\u001b[0m     \u001b[38;5;124;03m\"\"\"Clears the text if it's a text entry element.\"\"\"\u001b[39;00m\n\u001b[0;32m--> 109\u001b[0m     \u001b[38;5;28mself\u001b[39m\u001b[38;5;241m.\u001b[39m_execute(Command\u001b[38;5;241m.\u001b[39mCLEAR_ELEMENT)\n",
      "File \u001b[0;32m~/anaconda3/lib/python3.11/site-packages/selenium/webdriver/remote/webelement.py:396\u001b[0m, in \u001b[0;36mWebElement._execute\u001b[0;34m(self, command, params)\u001b[0m\n\u001b[1;32m    394\u001b[0m     params \u001b[38;5;241m=\u001b[39m {}\n\u001b[1;32m    395\u001b[0m params[\u001b[38;5;124m'\u001b[39m\u001b[38;5;124mid\u001b[39m\u001b[38;5;124m'\u001b[39m] \u001b[38;5;241m=\u001b[39m \u001b[38;5;28mself\u001b[39m\u001b[38;5;241m.\u001b[39m_id\n\u001b[0;32m--> 396\u001b[0m \u001b[38;5;28;01mreturn\u001b[39;00m \u001b[38;5;28mself\u001b[39m\u001b[38;5;241m.\u001b[39m_parent\u001b[38;5;241m.\u001b[39mexecute(command, params)\n",
      "File \u001b[0;32m~/anaconda3/lib/python3.11/site-packages/selenium/webdriver/remote/webdriver.py:428\u001b[0m, in \u001b[0;36mWebDriver.execute\u001b[0;34m(self, driver_command, params)\u001b[0m\n\u001b[1;32m    426\u001b[0m response \u001b[38;5;241m=\u001b[39m \u001b[38;5;28mself\u001b[39m\u001b[38;5;241m.\u001b[39mcommand_executor\u001b[38;5;241m.\u001b[39mexecute(driver_command, params)\n\u001b[1;32m    427\u001b[0m \u001b[38;5;28;01mif\u001b[39;00m response:\n\u001b[0;32m--> 428\u001b[0m     \u001b[38;5;28mself\u001b[39m\u001b[38;5;241m.\u001b[39merror_handler\u001b[38;5;241m.\u001b[39mcheck_response(response)\n\u001b[1;32m    429\u001b[0m     response[\u001b[38;5;124m'\u001b[39m\u001b[38;5;124mvalue\u001b[39m\u001b[38;5;124m'\u001b[39m] \u001b[38;5;241m=\u001b[39m \u001b[38;5;28mself\u001b[39m\u001b[38;5;241m.\u001b[39m_unwrap_value(\n\u001b[1;32m    430\u001b[0m         response\u001b[38;5;241m.\u001b[39mget(\u001b[38;5;124m'\u001b[39m\u001b[38;5;124mvalue\u001b[39m\u001b[38;5;124m'\u001b[39m, \u001b[38;5;28;01mNone\u001b[39;00m))\n\u001b[1;32m    431\u001b[0m     \u001b[38;5;28;01mreturn\u001b[39;00m response\n",
      "File \u001b[0;32m~/anaconda3/lib/python3.11/site-packages/selenium/webdriver/remote/errorhandler.py:243\u001b[0m, in \u001b[0;36mErrorHandler.check_response\u001b[0;34m(self, response)\u001b[0m\n\u001b[1;32m    241\u001b[0m         alert_text \u001b[38;5;241m=\u001b[39m value[\u001b[38;5;124m'\u001b[39m\u001b[38;5;124malert\u001b[39m\u001b[38;5;124m'\u001b[39m]\u001b[38;5;241m.\u001b[39mget(\u001b[38;5;124m'\u001b[39m\u001b[38;5;124mtext\u001b[39m\u001b[38;5;124m'\u001b[39m)\n\u001b[1;32m    242\u001b[0m     \u001b[38;5;28;01mraise\u001b[39;00m exception_class(message, screen, stacktrace, alert_text)  \u001b[38;5;66;03m# type: ignore[call-arg]  # mypy is not smart enough here\u001b[39;00m\n\u001b[0;32m--> 243\u001b[0m \u001b[38;5;28;01mraise\u001b[39;00m exception_class(message, screen, stacktrace)\n",
      "\u001b[0;31mStaleElementReferenceException\u001b[0m: Message: stale element reference: stale element not found\n  (Session info: chrome=123.0.6312.122)\nStacktrace:\n#0 0x5c2fbb907993 <unknown>\n#1 0x5c2fbb602136 <unknown>\n#2 0x5c2fbb612181 <unknown>\n#3 0x5c2fbb612a6a <unknown>\n#4 0x5c2fbb6080b5 <unknown>\n#5 0x5c2fbb606441 <unknown>\n#6 0x5c2fbb60943e <unknown>\n#7 0x5c2fbb6094cc <unknown>\n#8 0x5c2fbb64e8f2 <unknown>\n#9 0x5c2fbb6434a3 <unknown>\n#10 0x5c2fbb66ecd2 <unknown>\n#11 0x5c2fbb641598 <unknown>\n#12 0x5c2fbb66ee9e <unknown>\n#13 0x5c2fbb68d319 <unknown>\n#14 0x5c2fbb66ea73 <unknown>\n#15 0x5c2fbb63fc93 <unknown>\n#16 0x5c2fbb64065e <unknown>\n#17 0x5c2fbb8cc08b <unknown>\n#18 0x5c2fbb8d0005 <unknown>\n#19 0x5c2fbb8ba491 <unknown>\n#20 0x5c2fbb8d0b92 <unknown>\n#21 0x5c2fbb89f9ef <unknown>\n#22 0x5c2fbb8f6df8 <unknown>\n#23 0x5c2fbb8f6fcb <unknown>\n#24 0x5c2fbb906ae4 <unknown>\n#25 0x7d21e3a94ac3 <unknown>\n"
     ]
    }
   ],
   "source": [
    "search_ele.clear()\n",
    "search_ele.send_keys('dra')\n",
    "result_element=driver.find_elements(By.XPATH,\"//div[@role='option']/a/div[1]\")\n",
    "result_element[0].click()"
   ]
  },
  {
   "cell_type": "code",
   "execution_count": 30,
   "id": "25f656f1",
   "metadata": {},
   "outputs": [
    {
     "ename": "StaleElementReferenceException",
     "evalue": "Message: stale element reference: stale element not found\n  (Session info: chrome=123.0.6312.122)\nStacktrace:\n#0 0x5c2fbb907993 <unknown>\n#1 0x5c2fbb602136 <unknown>\n#2 0x5c2fbb612181 <unknown>\n#3 0x5c2fbb612a6a <unknown>\n#4 0x5c2fbb6080b5 <unknown>\n#5 0x5c2fbb606441 <unknown>\n#6 0x5c2fbb60943e <unknown>\n#7 0x5c2fbb6094cc <unknown>\n#8 0x5c2fbb64e8f2 <unknown>\n#9 0x5c2fbb6434a3 <unknown>\n#10 0x5c2fbb66ecd2 <unknown>\n#11 0x5c2fbb641598 <unknown>\n#12 0x5c2fbb66ee9e <unknown>\n#13 0x5c2fbb68d319 <unknown>\n#14 0x5c2fbb66ea73 <unknown>\n#15 0x5c2fbb63fc93 <unknown>\n#16 0x5c2fbb64065e <unknown>\n#17 0x5c2fbb8cc08b <unknown>\n#18 0x5c2fbb8d0005 <unknown>\n#19 0x5c2fbb8ba491 <unknown>\n#20 0x5c2fbb8d0b92 <unknown>\n#21 0x5c2fbb89f9ef <unknown>\n#22 0x5c2fbb8f6df8 <unknown>\n#23 0x5c2fbb8f6fcb <unknown>\n#24 0x5c2fbb906ae4 <unknown>\n#25 0x7d21e3a94ac3 <unknown>\n",
     "output_type": "error",
     "traceback": [
      "\u001b[0;31m---------------------------------------------------------------------------\u001b[0m",
      "\u001b[0;31mStaleElementReferenceException\u001b[0m            Traceback (most recent call last)",
      "Cell \u001b[0;32mIn [30], line 3\u001b[0m\n\u001b[1;32m      1\u001b[0m \u001b[38;5;28;01mfrom\u001b[39;00m \u001b[38;5;21;01mselenium\u001b[39;00m\u001b[38;5;21;01m.\u001b[39;00m\u001b[38;5;21;01mwebdriver\u001b[39;00m\u001b[38;5;21;01m.\u001b[39;00m\u001b[38;5;21;01msupport\u001b[39;00m\u001b[38;5;21;01m.\u001b[39;00m\u001b[38;5;21;01mui\u001b[39;00m \u001b[38;5;28;01mimport\u001b[39;00m WebDriverWait\n\u001b[1;32m      2\u001b[0m \u001b[38;5;28;01mfrom\u001b[39;00m \u001b[38;5;21;01mselenium\u001b[39;00m\u001b[38;5;21;01m.\u001b[39;00m\u001b[38;5;21;01mwebdriver\u001b[39;00m\u001b[38;5;21;01m.\u001b[39;00m\u001b[38;5;21;01msupport\u001b[39;00m \u001b[38;5;28;01mimport\u001b[39;00m expected_conditions \u001b[38;5;28;01mas\u001b[39;00m EC\n\u001b[0;32m----> 3\u001b[0m search_ele\u001b[38;5;241m.\u001b[39mclear()\n\u001b[1;32m      4\u001b[0m search_ele\u001b[38;5;241m.\u001b[39msend_keys(\u001b[38;5;124m'\u001b[39m\u001b[38;5;124mdra\u001b[39m\u001b[38;5;124m'\u001b[39m)\n\u001b[1;32m      5\u001b[0m result_element_explicit \u001b[38;5;241m=\u001b[39m WebDriverWait(driver,\u001b[38;5;241m5\u001b[39m)\u001b[38;5;241m.\u001b[39muntil(EC\u001b[38;5;241m.\u001b[39mpresence_of_element_located((By\u001b[38;5;241m.\u001b[39mXPATH,\u001b[38;5;124m\"\u001b[39m\u001b[38;5;124m//div[@role=\u001b[39m\u001b[38;5;124m'\u001b[39m\u001b[38;5;124moption\u001b[39m\u001b[38;5;124m'\u001b[39m\u001b[38;5;124m]/a/div[1]\u001b[39m\u001b[38;5;124m\"\u001b[39m)))\n",
      "File \u001b[0;32m~/anaconda3/lib/python3.11/site-packages/selenium/webdriver/remote/webelement.py:109\u001b[0m, in \u001b[0;36mWebElement.clear\u001b[0;34m(self)\u001b[0m\n\u001b[1;32m    107\u001b[0m \u001b[38;5;28;01mdef\u001b[39;00m \u001b[38;5;21mclear\u001b[39m(\u001b[38;5;28mself\u001b[39m) \u001b[38;5;241m-\u001b[39m\u001b[38;5;241m>\u001b[39m \u001b[38;5;28;01mNone\u001b[39;00m:\n\u001b[1;32m    108\u001b[0m     \u001b[38;5;124;03m\"\"\"Clears the text if it's a text entry element.\"\"\"\u001b[39;00m\n\u001b[0;32m--> 109\u001b[0m     \u001b[38;5;28mself\u001b[39m\u001b[38;5;241m.\u001b[39m_execute(Command\u001b[38;5;241m.\u001b[39mCLEAR_ELEMENT)\n",
      "File \u001b[0;32m~/anaconda3/lib/python3.11/site-packages/selenium/webdriver/remote/webelement.py:396\u001b[0m, in \u001b[0;36mWebElement._execute\u001b[0;34m(self, command, params)\u001b[0m\n\u001b[1;32m    394\u001b[0m     params \u001b[38;5;241m=\u001b[39m {}\n\u001b[1;32m    395\u001b[0m params[\u001b[38;5;124m'\u001b[39m\u001b[38;5;124mid\u001b[39m\u001b[38;5;124m'\u001b[39m] \u001b[38;5;241m=\u001b[39m \u001b[38;5;28mself\u001b[39m\u001b[38;5;241m.\u001b[39m_id\n\u001b[0;32m--> 396\u001b[0m \u001b[38;5;28;01mreturn\u001b[39;00m \u001b[38;5;28mself\u001b[39m\u001b[38;5;241m.\u001b[39m_parent\u001b[38;5;241m.\u001b[39mexecute(command, params)\n",
      "File \u001b[0;32m~/anaconda3/lib/python3.11/site-packages/selenium/webdriver/remote/webdriver.py:428\u001b[0m, in \u001b[0;36mWebDriver.execute\u001b[0;34m(self, driver_command, params)\u001b[0m\n\u001b[1;32m    426\u001b[0m response \u001b[38;5;241m=\u001b[39m \u001b[38;5;28mself\u001b[39m\u001b[38;5;241m.\u001b[39mcommand_executor\u001b[38;5;241m.\u001b[39mexecute(driver_command, params)\n\u001b[1;32m    427\u001b[0m \u001b[38;5;28;01mif\u001b[39;00m response:\n\u001b[0;32m--> 428\u001b[0m     \u001b[38;5;28mself\u001b[39m\u001b[38;5;241m.\u001b[39merror_handler\u001b[38;5;241m.\u001b[39mcheck_response(response)\n\u001b[1;32m    429\u001b[0m     response[\u001b[38;5;124m'\u001b[39m\u001b[38;5;124mvalue\u001b[39m\u001b[38;5;124m'\u001b[39m] \u001b[38;5;241m=\u001b[39m \u001b[38;5;28mself\u001b[39m\u001b[38;5;241m.\u001b[39m_unwrap_value(\n\u001b[1;32m    430\u001b[0m         response\u001b[38;5;241m.\u001b[39mget(\u001b[38;5;124m'\u001b[39m\u001b[38;5;124mvalue\u001b[39m\u001b[38;5;124m'\u001b[39m, \u001b[38;5;28;01mNone\u001b[39;00m))\n\u001b[1;32m    431\u001b[0m     \u001b[38;5;28;01mreturn\u001b[39;00m response\n",
      "File \u001b[0;32m~/anaconda3/lib/python3.11/site-packages/selenium/webdriver/remote/errorhandler.py:243\u001b[0m, in \u001b[0;36mErrorHandler.check_response\u001b[0;34m(self, response)\u001b[0m\n\u001b[1;32m    241\u001b[0m         alert_text \u001b[38;5;241m=\u001b[39m value[\u001b[38;5;124m'\u001b[39m\u001b[38;5;124malert\u001b[39m\u001b[38;5;124m'\u001b[39m]\u001b[38;5;241m.\u001b[39mget(\u001b[38;5;124m'\u001b[39m\u001b[38;5;124mtext\u001b[39m\u001b[38;5;124m'\u001b[39m)\n\u001b[1;32m    242\u001b[0m     \u001b[38;5;28;01mraise\u001b[39;00m exception_class(message, screen, stacktrace, alert_text)  \u001b[38;5;66;03m# type: ignore[call-arg]  # mypy is not smart enough here\u001b[39;00m\n\u001b[0;32m--> 243\u001b[0m \u001b[38;5;28;01mraise\u001b[39;00m exception_class(message, screen, stacktrace)\n",
      "\u001b[0;31mStaleElementReferenceException\u001b[0m: Message: stale element reference: stale element not found\n  (Session info: chrome=123.0.6312.122)\nStacktrace:\n#0 0x5c2fbb907993 <unknown>\n#1 0x5c2fbb602136 <unknown>\n#2 0x5c2fbb612181 <unknown>\n#3 0x5c2fbb612a6a <unknown>\n#4 0x5c2fbb6080b5 <unknown>\n#5 0x5c2fbb606441 <unknown>\n#6 0x5c2fbb60943e <unknown>\n#7 0x5c2fbb6094cc <unknown>\n#8 0x5c2fbb64e8f2 <unknown>\n#9 0x5c2fbb6434a3 <unknown>\n#10 0x5c2fbb66ecd2 <unknown>\n#11 0x5c2fbb641598 <unknown>\n#12 0x5c2fbb66ee9e <unknown>\n#13 0x5c2fbb68d319 <unknown>\n#14 0x5c2fbb66ea73 <unknown>\n#15 0x5c2fbb63fc93 <unknown>\n#16 0x5c2fbb64065e <unknown>\n#17 0x5c2fbb8cc08b <unknown>\n#18 0x5c2fbb8d0005 <unknown>\n#19 0x5c2fbb8ba491 <unknown>\n#20 0x5c2fbb8d0b92 <unknown>\n#21 0x5c2fbb89f9ef <unknown>\n#22 0x5c2fbb8f6df8 <unknown>\n#23 0x5c2fbb8f6fcb <unknown>\n#24 0x5c2fbb906ae4 <unknown>\n#25 0x7d21e3a94ac3 <unknown>\n"
     ]
    }
   ],
   "source": [
    "from selenium.webdriver.support.ui import WebDriverWait\n",
    "from selenium.webdriver.support import expected_conditions as EC\n",
    "search_ele.clear()\n",
    "search_ele.send_keys('dra')\n",
    "result_element_explicit = WebDriverWait(driver,5).until(EC.presence_of_element_located((By.XPATH,\"//div[@role='option']/a/div[1]\")))\n",
    "result_element_explicit.click()"
   ]
  },
  {
   "cell_type": "code",
   "execution_count": null,
   "id": "a3dbd9a6",
   "metadata": {},
   "outputs": [],
   "source": []
  },
  {
   "cell_type": "code",
   "execution_count": 21,
   "id": "5c90e8aa",
   "metadata": {},
   "outputs": [],
   "source": [
    "driver.close()"
   ]
  },
  {
   "cell_type": "code",
   "execution_count": null,
   "id": "feb2b7fd",
   "metadata": {},
   "outputs": [],
   "source": []
  }
 ],
 "metadata": {
  "kernelspec": {
   "display_name": "Python 3 (ipykernel)",
   "language": "python",
   "name": "python3"
  },
  "language_info": {
   "codemirror_mode": {
    "name": "ipython",
    "version": 3
   },
   "file_extension": ".py",
   "mimetype": "text/x-python",
   "name": "python",
   "nbconvert_exporter": "python",
   "pygments_lexer": "ipython3",
   "version": "3.11.5"
  }
 },
 "nbformat": 4,
 "nbformat_minor": 5
}
