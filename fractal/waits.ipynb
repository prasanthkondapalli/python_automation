{
 "cells": [
  {
   "cell_type": "code",
   "execution_count": 1,
   "id": "85b28b18",
   "metadata": {},
   "outputs": [],
   "source": [
    "from selenium import webdriver\n",
    "from selenium.webdriver.chrome.service import Service\n",
    "from selenium.webdriver.common.by import By"
   ]
  },
  {
   "cell_type": "code",
   "execution_count": 2,
   "id": "7a398a7b",
   "metadata": {},
   "outputs": [
    {
     "name": "stdout",
     "output_type": "stream",
     "text": [
      "importing Jupyter notebook from path.ipynb\n"
     ]
    }
   ],
   "source": [
    "import import_ipynb\n",
    "import path"
   ]
  },
  {
   "cell_type": "code",
   "execution_count": 3,
   "id": "3a18566b",
   "metadata": {},
   "outputs": [],
   "source": [
    "ser = Service(executable_path = path.driver_path)"
   ]
  },
  {
   "cell_type": "code",
   "execution_count": 4,
   "id": "bc1dc8c2",
   "metadata": {},
   "outputs": [],
   "source": [
    "driver = webdriver.Chrome(service=ser)"
   ]
  },
  {
   "cell_type": "code",
   "execution_count": 5,
   "id": "f7bd8356",
   "metadata": {},
   "outputs": [],
   "source": [
    "driver.get(path.radio_check_buttons)"
   ]
  },
  {
   "cell_type": "code",
   "execution_count": 9,
   "id": "ec51b391",
   "metadata": {},
   "outputs": [],
   "source": [
    "driver.implicitly_wait(10)\n",
    "email_ele = driver.find_element(By.XPATH,\"//input[@type='email']\")"
   ]
  },
  {
   "cell_type": "code",
   "execution_count": 10,
   "id": "0c024cd8",
   "metadata": {},
   "outputs": [],
   "source": [
    "email_ele.send_keys('hii')"
   ]
  },
  {
   "cell_type": "code",
   "execution_count": null,
   "id": "590ae079",
   "metadata": {},
   "outputs": [],
   "source": []
  }
 ],
 "metadata": {
  "kernelspec": {
   "display_name": "Python 3 (ipykernel)",
   "language": "python",
   "name": "python3"
  },
  "language_info": {
   "codemirror_mode": {
    "name": "ipython",
    "version": 3
   },
   "file_extension": ".py",
   "mimetype": "text/x-python",
   "name": "python",
   "nbconvert_exporter": "python",
   "pygments_lexer": "ipython3",
   "version": "3.11.5"
  }
 },
 "nbformat": 4,
 "nbformat_minor": 5
}
