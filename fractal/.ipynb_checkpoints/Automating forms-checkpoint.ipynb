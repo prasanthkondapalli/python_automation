{
 "cells": [
  {
   "cell_type": "code",
   "execution_count": 26,
   "id": "f1e3e346",
   "metadata": {},
   "outputs": [],
   "source": [
    "import import_ipynb\n",
    "import path\n",
    "from selenium import webdriver\n",
    "from selenium.webdriver.chrome.service import Service\n",
    "from selenium.webdriver.common.by import By\n"
   ]
  },
  {
   "cell_type": "code",
   "execution_count": 2,
   "id": "0f511eab",
   "metadata": {},
   "outputs": [],
   "source": [
    "from selenium.webdriver.common.action_chains import ActionChains"
   ]
  },
  {
   "cell_type": "code",
   "execution_count": 3,
   "id": "edc30d37",
   "metadata": {},
   "outputs": [],
   "source": [
    "ser = Service(executable_path=path.driver_path)"
   ]
  },
  {
   "cell_type": "code",
   "execution_count": 4,
   "id": "9d9e9c60",
   "metadata": {},
   "outputs": [],
   "source": [
    "driver = webdriver.Chrome(service=ser)"
   ]
  },
  {
   "cell_type": "code",
   "execution_count": 5,
   "id": "79171126",
   "metadata": {},
   "outputs": [],
   "source": [
    "driver.get(path.anonymous_login_url)"
   ]
  },
  {
   "cell_type": "markdown",
   "id": "1937632a",
   "metadata": {},
   "source": [
    "#### Button Actions\n",
    "+ click\n",
    "+ click and hold\n",
    "+ right click"
   ]
  },
  {
   "cell_type": "code",
   "execution_count": 6,
   "id": "d9fc23d3",
   "metadata": {},
   "outputs": [],
   "source": [
    "button = driver.find_element(By.XPATH,\"//button[@type='submit']\")"
   ]
  },
  {
   "cell_type": "code",
   "execution_count": 7,
   "id": "619fb086",
   "metadata": {},
   "outputs": [],
   "source": [
    "button.click()"
   ]
  },
  {
   "cell_type": "code",
   "execution_count": 8,
   "id": "0292f1aa",
   "metadata": {},
   "outputs": [],
   "source": [
    "action = ActionChains(driver=driver)"
   ]
  },
  {
   "cell_type": "code",
   "execution_count": 9,
   "id": "2cc42dec",
   "metadata": {},
   "outputs": [],
   "source": [
    "action.context_click(button).perform()"
   ]
  },
  {
   "cell_type": "code",
   "execution_count": 10,
   "id": "9b164ce7",
   "metadata": {},
   "outputs": [],
   "source": [
    "action.click_and_hold(button).perform()"
   ]
  },
  {
   "cell_type": "code",
   "execution_count": 12,
   "id": "ec8647a0",
   "metadata": {},
   "outputs": [],
   "source": [
    "# to release the button\n",
    "action.release().perform()"
   ]
  },
  {
   "cell_type": "code",
   "execution_count": 13,
   "id": "a613a585",
   "metadata": {},
   "outputs": [],
   "source": [
    "driver.quit()"
   ]
  },
  {
   "cell_type": "raw",
   "id": "f742c0ba",
   "metadata": {},
   "source": []
  },
  {
   "cell_type": "markdown",
   "id": "8a8bf84c",
   "metadata": {},
   "source": [
    "#### Text box interactions\n",
    "+ clear the field\n",
    "    + element.clear()\n",
    "+ send the keys into it\n",
    "    + element.send_keys('text')"
   ]
  },
  {
   "cell_type": "code",
   "execution_count": 14,
   "id": "a178d00b",
   "metadata": {},
   "outputs": [],
   "source": [
    "driver = webdriver.Chrome(service=ser)"
   ]
  },
  {
   "cell_type": "code",
   "execution_count": 15,
   "id": "bbfae1f9",
   "metadata": {},
   "outputs": [],
   "source": [
    "driver.get(path.admin_hr_login_urls)"
   ]
  },
  {
   "cell_type": "code",
   "execution_count": 16,
   "id": "228e0e09",
   "metadata": {},
   "outputs": [],
   "source": [
    "email_element = driver.find_element(By.XPATH,\"//input[@name='email']\")"
   ]
  },
  {
   "cell_type": "code",
   "execution_count": 23,
   "id": "deac9017",
   "metadata": {},
   "outputs": [],
   "source": [
    "email_element.clear()"
   ]
  },
  {
   "cell_type": "code",
   "execution_count": 24,
   "id": "e16513c6",
   "metadata": {},
   "outputs": [],
   "source": [
    "email_element.send_keys('hr@b.com')"
   ]
  },
  {
   "cell_type": "code",
   "execution_count": 19,
   "id": "f3bdc21f",
   "metadata": {},
   "outputs": [],
   "source": [
    "login_button = driver.find_element(By.XPATH,\"//button[@type='submit']\")"
   ]
  },
  {
   "cell_type": "code",
   "execution_count": 20,
   "id": "2239c6fa",
   "metadata": {},
   "outputs": [],
   "source": [
    "login_button.click()"
   ]
  },
  {
   "cell_type": "code",
   "execution_count": 21,
   "id": "85a24200",
   "metadata": {},
   "outputs": [
    {
     "data": {
      "text/plain": [
       "False"
      ]
     },
     "execution_count": 21,
     "metadata": {},
     "output_type": "execute_result"
    }
   ],
   "source": [
    "login_button.is_enabled()"
   ]
  },
  {
   "cell_type": "code",
   "execution_count": 22,
   "id": "9a04277a",
   "metadata": {},
   "outputs": [
    {
     "data": {
      "text/plain": [
       "'Login'"
      ]
     },
     "execution_count": 22,
     "metadata": {},
     "output_type": "execute_result"
    }
   ],
   "source": [
    "login_button.text"
   ]
  },
  {
   "cell_type": "code",
   "execution_count": 25,
   "id": "e1e23ab6",
   "metadata": {},
   "outputs": [],
   "source": [
    "driver.close()"
   ]
  },
  {
   "cell_type": "raw",
   "id": "175669a5",
   "metadata": {},
   "source": []
  },
  {
   "cell_type": "code",
   "execution_count": 27,
   "id": "5123b12b",
   "metadata": {},
   "outputs": [],
   "source": [
    "import path"
   ]
  },
  {
   "cell_type": "code",
   "execution_count": null,
   "id": "665ef624",
   "metadata": {},
   "outputs": [],
   "source": []
  }
 ],
 "metadata": {
  "kernelspec": {
   "display_name": "Python 3 (ipykernel)",
   "language": "python",
   "name": "python3"
  },
  "language_info": {
   "codemirror_mode": {
    "name": "ipython",
    "version": 3
   },
   "file_extension": ".py",
   "mimetype": "text/x-python",
   "name": "python",
   "nbconvert_exporter": "python",
   "pygments_lexer": "ipython3",
   "version": "3.11.5"
  }
 },
 "nbformat": 4,
 "nbformat_minor": 5
}
