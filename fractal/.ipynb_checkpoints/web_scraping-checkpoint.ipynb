{
 "cells": [
  {
   "cell_type": "code",
   "execution_count": 1,
   "id": "93fb5bb2",
   "metadata": {},
   "outputs": [
    {
     "name": "stdout",
     "output_type": "stream",
     "text": [
      "importing Jupyter notebook from path.ipynb\n"
     ]
    }
   ],
   "source": [
    "import import_ipynb\n",
    "import path"
   ]
  },
  {
   "cell_type": "code",
   "execution_count": 2,
   "id": "8fb14bff",
   "metadata": {},
   "outputs": [],
   "source": [
    "wekipedia_url = path.wekipedia_url"
   ]
  },
  {
   "cell_type": "code",
   "execution_count": 3,
   "id": "b84c9f88",
   "metadata": {},
   "outputs": [],
   "source": [
    "driver_path = path.driver_path"
   ]
  },
  {
   "cell_type": "code",
   "execution_count": 4,
   "id": "d899cff6",
   "metadata": {},
   "outputs": [],
   "source": [
    "from selenium import webdriver\n",
    "from selenium.webdriver.chrome.service import Service\n",
    "from selenium.webdriver.common.by import By"
   ]
  },
  {
   "cell_type": "code",
   "execution_count": 5,
   "id": "80489497",
   "metadata": {},
   "outputs": [],
   "source": [
    "ser = Service(executable_path=driver_path)"
   ]
  },
  {
   "cell_type": "code",
   "execution_count": 6,
   "id": "cdc29ab4",
   "metadata": {},
   "outputs": [],
   "source": [
    "driver = webdriver.Chrome(service=ser)"
   ]
  },
  {
   "cell_type": "code",
   "execution_count": 7,
   "id": "0ea902e2",
   "metadata": {},
   "outputs": [],
   "source": [
    "driver.get(wekipedia_url)"
   ]
  },
  {
   "cell_type": "code",
   "execution_count": 205,
   "id": "ca0ff441",
   "metadata": {},
   "outputs": [],
   "source": [
    "elements = driver.find_elements(By.XPATH,\"(//li//a//div[@class='vector-toc-text'])[1]\")"
   ]
  },
  {
   "cell_type": "code",
   "execution_count": 196,
   "id": "d8af20a2",
   "metadata": {},
   "outputs": [],
   "source": [
    "l1 = []"
   ]
  },
  {
   "cell_type": "code",
   "execution_count": 206,
   "id": "6a2b855a",
   "metadata": {},
   "outputs": [
    {
     "data": {
      "text/plain": [
       "1"
      ]
     },
     "execution_count": 206,
     "metadata": {},
     "output_type": "execute_result"
    }
   ],
   "source": [
    "len(elements)"
   ]
  },
  {
   "cell_type": "code",
   "execution_count": 208,
   "id": "569c1618",
   "metadata": {
    "scrolled": true
   },
   "outputs": [],
   "source": [
    "l1 =[i.text for i in elements]"
   ]
  },
  {
   "cell_type": "code",
   "execution_count": 209,
   "id": "120718d5",
   "metadata": {},
   "outputs": [
    {
     "name": "stdout",
     "output_type": "stream",
     "text": [
      "<generator object <genexpr> at 0x74197b2d1a40>\n"
     ]
    },
    {
     "data": {
      "text/plain": [
       "[None]"
      ]
     },
     "execution_count": 209,
     "metadata": {},
     "output_type": "execute_result"
    }
   ],
   "source": [
    "[print(i.text for i in elements)]"
   ]
  },
  {
   "cell_type": "code",
   "execution_count": 200,
   "id": "df210819",
   "metadata": {},
   "outputs": [
    {
     "data": {
      "text/plain": [
       "['', '', '', '', '', '', '', '']"
      ]
     },
     "execution_count": 200,
     "metadata": {},
     "output_type": "execute_result"
    }
   ],
   "source": [
    "l1"
   ]
  },
  {
   "cell_type": "code",
   "execution_count": 211,
   "id": "82212a25",
   "metadata": {},
   "outputs": [
    {
     "data": {
      "text/plain": [
       "'vector-toc-numb'"
      ]
     },
     "execution_count": 211,
     "metadata": {},
     "output_type": "execute_result"
    }
   ],
   "source": [
    "elements[0].get_attribute('class')"
   ]
  },
  {
   "cell_type": "code",
   "execution_count": 210,
   "id": "8b18e727",
   "metadata": {},
   "outputs": [
    {
     "data": {
      "text/plain": [
       "''"
      ]
     },
     "execution_count": 210,
     "metadata": {},
     "output_type": "execute_result"
    }
   ],
   "source": [
    "elements[0].text"
   ]
  },
  {
   "cell_type": "code",
   "execution_count": 27,
   "id": "c5d3c506",
   "metadata": {},
   "outputs": [],
   "source": [
    "list_of_elements = driver.find_elements(By.CSS_SELECTOR,'ul.vector-menu-content-list')"
   ]
  },
  {
   "cell_type": "code",
   "execution_count": 28,
   "id": "71a6b88c",
   "metadata": {},
   "outputs": [
    {
     "data": {
      "text/plain": [
       "16"
      ]
     },
     "execution_count": 28,
     "metadata": {},
     "output_type": "execute_result"
    }
   ],
   "source": [
    "len(list_of_elements)"
   ]
  },
  {
   "cell_type": "code",
   "execution_count": 40,
   "id": "bfa5c0dc",
   "metadata": {},
   "outputs": [
    {
     "name": "stdout",
     "output_type": "stream",
     "text": [
      "[<selenium.webdriver.remote.webelement.WebElement (session=\"227bab6f5607f060038eabb0bd4d0de8\", element=\"f.A7DEE51B1CA65463568604EA4ED7D26E.d.440D8C9DE3DD7F486139189453BACAFD.e.204\")>, <selenium.webdriver.remote.webelement.WebElement (session=\"227bab6f5607f060038eabb0bd4d0de8\", element=\"f.A7DEE51B1CA65463568604EA4ED7D26E.d.440D8C9DE3DD7F486139189453BACAFD.e.207\")>, <selenium.webdriver.remote.webelement.WebElement (session=\"227bab6f5607f060038eabb0bd4d0de8\", element=\"f.A7DEE51B1CA65463568604EA4ED7D26E.d.440D8C9DE3DD7F486139189453BACAFD.e.210\")>, <selenium.webdriver.remote.webelement.WebElement (session=\"227bab6f5607f060038eabb0bd4d0de8\", element=\"f.A7DEE51B1CA65463568604EA4ED7D26E.d.440D8C9DE3DD7F486139189453BACAFD.e.213\")>, <selenium.webdriver.remote.webelement.WebElement (session=\"227bab6f5607f060038eabb0bd4d0de8\", element=\"f.A7DEE51B1CA65463568604EA4ED7D26E.d.440D8C9DE3DD7F486139189453BACAFD.e.216\")>, <selenium.webdriver.remote.webelement.WebElement (session=\"227bab6f5607f060038eabb0bd4d0de8\", element=\"f.A7DEE51B1CA65463568604EA4ED7D26E.d.440D8C9DE3DD7F486139189453BACAFD.e.219\")>, <selenium.webdriver.remote.webelement.WebElement (session=\"227bab6f5607f060038eabb0bd4d0de8\", element=\"f.A7DEE51B1CA65463568604EA4ED7D26E.d.440D8C9DE3DD7F486139189453BACAFD.e.222\")>]\n",
      "[<selenium.webdriver.remote.webelement.WebElement (session=\"227bab6f5607f060038eabb0bd4d0de8\", element=\"f.A7DEE51B1CA65463568604EA4ED7D26E.d.440D8C9DE3DD7F486139189453BACAFD.e.228\")>, <selenium.webdriver.remote.webelement.WebElement (session=\"227bab6f5607f060038eabb0bd4d0de8\", element=\"f.A7DEE51B1CA65463568604EA4ED7D26E.d.440D8C9DE3DD7F486139189453BACAFD.e.231\")>, <selenium.webdriver.remote.webelement.WebElement (session=\"227bab6f5607f060038eabb0bd4d0de8\", element=\"f.A7DEE51B1CA65463568604EA4ED7D26E.d.440D8C9DE3DD7F486139189453BACAFD.e.234\")>, <selenium.webdriver.remote.webelement.WebElement (session=\"227bab6f5607f060038eabb0bd4d0de8\", element=\"f.A7DEE51B1CA65463568604EA4ED7D26E.d.440D8C9DE3DD7F486139189453BACAFD.e.237\")>, <selenium.webdriver.remote.webelement.WebElement (session=\"227bab6f5607f060038eabb0bd4d0de8\", element=\"f.A7DEE51B1CA65463568604EA4ED7D26E.d.440D8C9DE3DD7F486139189453BACAFD.e.240\")>]\n",
      "[]\n",
      "[]\n",
      "[]\n",
      "[<selenium.webdriver.remote.webelement.WebElement (session=\"227bab6f5607f060038eabb0bd4d0de8\", element=\"f.A7DEE51B1CA65463568604EA4ED7D26E.d.440D8C9DE3DD7F486139189453BACAFD.e.575\")>, <selenium.webdriver.remote.webelement.WebElement (session=\"227bab6f5607f060038eabb0bd4d0de8\", element=\"f.A7DEE51B1CA65463568604EA4ED7D26E.d.440D8C9DE3DD7F486139189453BACAFD.e.576\")>]\n",
      "[<selenium.webdriver.remote.webelement.WebElement (session=\"227bab6f5607f060038eabb0bd4d0de8\", element=\"f.A7DEE51B1CA65463568604EA4ED7D26E.d.440D8C9DE3DD7F486139189453BACAFD.e.256\")>, <selenium.webdriver.remote.webelement.WebElement (session=\"227bab6f5607f060038eabb0bd4d0de8\", element=\"f.A7DEE51B1CA65463568604EA4ED7D26E.d.440D8C9DE3DD7F486139189453BACAFD.e.260\")>]\n",
      "[<selenium.webdriver.remote.webelement.WebElement (session=\"227bab6f5607f060038eabb0bd4d0de8\", element=\"f.A7DEE51B1CA65463568604EA4ED7D26E.d.440D8C9DE3DD7F486139189453BACAFD.e.269\")>, <selenium.webdriver.remote.webelement.WebElement (session=\"227bab6f5607f060038eabb0bd4d0de8\", element=\"f.A7DEE51B1CA65463568604EA4ED7D26E.d.440D8C9DE3DD7F486139189453BACAFD.e.272\")>]\n",
      "[<selenium.webdriver.remote.webelement.WebElement (session=\"227bab6f5607f060038eabb0bd4d0de8\", element=\"f.A7DEE51B1CA65463568604EA4ED7D26E.d.440D8C9DE3DD7F486139189453BACAFD.e.315\")>, <selenium.webdriver.remote.webelement.WebElement (session=\"227bab6f5607f060038eabb0bd4d0de8\", element=\"f.A7DEE51B1CA65463568604EA4ED7D26E.d.440D8C9DE3DD7F486139189453BACAFD.e.317\")>, <selenium.webdriver.remote.webelement.WebElement (session=\"227bab6f5607f060038eabb0bd4d0de8\", element=\"f.A7DEE51B1CA65463568604EA4ED7D26E.d.440D8C9DE3DD7F486139189453BACAFD.e.319\")>, <selenium.webdriver.remote.webelement.WebElement (session=\"227bab6f5607f060038eabb0bd4d0de8\", element=\"f.A7DEE51B1CA65463568604EA4ED7D26E.d.440D8C9DE3DD7F486139189453BACAFD.e.321\")>, <selenium.webdriver.remote.webelement.WebElement (session=\"227bab6f5607f060038eabb0bd4d0de8\", element=\"f.A7DEE51B1CA65463568604EA4ED7D26E.d.440D8C9DE3DD7F486139189453BACAFD.e.323\")>, <selenium.webdriver.remote.webelement.WebElement (session=\"227bab6f5607f060038eabb0bd4d0de8\", element=\"f.A7DEE51B1CA65463568604EA4ED7D26E.d.440D8C9DE3DD7F486139189453BACAFD.e.325\")>, <selenium.webdriver.remote.webelement.WebElement (session=\"227bab6f5607f060038eabb0bd4d0de8\", element=\"f.A7DEE51B1CA65463568604EA4ED7D26E.d.440D8C9DE3DD7F486139189453BACAFD.e.327\")>, <selenium.webdriver.remote.webelement.WebElement (session=\"227bab6f5607f060038eabb0bd4d0de8\", element=\"f.A7DEE51B1CA65463568604EA4ED7D26E.d.440D8C9DE3DD7F486139189453BACAFD.e.329\")>, <selenium.webdriver.remote.webelement.WebElement (session=\"227bab6f5607f060038eabb0bd4d0de8\", element=\"f.A7DEE51B1CA65463568604EA4ED7D26E.d.440D8C9DE3DD7F486139189453BACAFD.e.331\")>, <selenium.webdriver.remote.webelement.WebElement (session=\"227bab6f5607f060038eabb0bd4d0de8\", element=\"f.A7DEE51B1CA65463568604EA4ED7D26E.d.440D8C9DE3DD7F486139189453BACAFD.e.333\")>, <selenium.webdriver.remote.webelement.WebElement (session=\"227bab6f5607f060038eabb0bd4d0de8\", element=\"f.A7DEE51B1CA65463568604EA4ED7D26E.d.440D8C9DE3DD7F486139189453BACAFD.e.335\")>, <selenium.webdriver.remote.webelement.WebElement (session=\"227bab6f5607f060038eabb0bd4d0de8\", element=\"f.A7DEE51B1CA65463568604EA4ED7D26E.d.440D8C9DE3DD7F486139189453BACAFD.e.337\")>, <selenium.webdriver.remote.webelement.WebElement (session=\"227bab6f5607f060038eabb0bd4d0de8\", element=\"f.A7DEE51B1CA65463568604EA4ED7D26E.d.440D8C9DE3DD7F486139189453BACAFD.e.339\")>, <selenium.webdriver.remote.webelement.WebElement (session=\"227bab6f5607f060038eabb0bd4d0de8\", element=\"f.A7DEE51B1CA65463568604EA4ED7D26E.d.440D8C9DE3DD7F486139189453BACAFD.e.341\")>, <selenium.webdriver.remote.webelement.WebElement (session=\"227bab6f5607f060038eabb0bd4d0de8\", element=\"f.A7DEE51B1CA65463568604EA4ED7D26E.d.440D8C9DE3DD7F486139189453BACAFD.e.343\")>, <selenium.webdriver.remote.webelement.WebElement (session=\"227bab6f5607f060038eabb0bd4d0de8\", element=\"f.A7DEE51B1CA65463568604EA4ED7D26E.d.440D8C9DE3DD7F486139189453BACAFD.e.345\")>, <selenium.webdriver.remote.webelement.WebElement (session=\"227bab6f5607f060038eabb0bd4d0de8\", element=\"f.A7DEE51B1CA65463568604EA4ED7D26E.d.440D8C9DE3DD7F486139189453BACAFD.e.347\")>, <selenium.webdriver.remote.webelement.WebElement (session=\"227bab6f5607f060038eabb0bd4d0de8\", element=\"f.A7DEE51B1CA65463568604EA4ED7D26E.d.440D8C9DE3DD7F486139189453BACAFD.e.349\")>, <selenium.webdriver.remote.webelement.WebElement (session=\"227bab6f5607f060038eabb0bd4d0de8\", element=\"f.A7DEE51B1CA65463568604EA4ED7D26E.d.440D8C9DE3DD7F486139189453BACAFD.e.351\")>, <selenium.webdriver.remote.webelement.WebElement (session=\"227bab6f5607f060038eabb0bd4d0de8\", element=\"f.A7DEE51B1CA65463568604EA4ED7D26E.d.440D8C9DE3DD7F486139189453BACAFD.e.353\")>, <selenium.webdriver.remote.webelement.WebElement (session=\"227bab6f5607f060038eabb0bd4d0de8\", element=\"f.A7DEE51B1CA65463568604EA4ED7D26E.d.440D8C9DE3DD7F486139189453BACAFD.e.355\")>, <selenium.webdriver.remote.webelement.WebElement (session=\"227bab6f5607f060038eabb0bd4d0de8\", element=\"f.A7DEE51B1CA65463568604EA4ED7D26E.d.440D8C9DE3DD7F486139189453BACAFD.e.357\")>, <selenium.webdriver.remote.webelement.WebElement (session=\"227bab6f5607f060038eabb0bd4d0de8\", element=\"f.A7DEE51B1CA65463568604EA4ED7D26E.d.440D8C9DE3DD7F486139189453BACAFD.e.359\")>, <selenium.webdriver.remote.webelement.WebElement (session=\"227bab6f5607f060038eabb0bd4d0de8\", element=\"f.A7DEE51B1CA65463568604EA4ED7D26E.d.440D8C9DE3DD7F486139189453BACAFD.e.361\")>, <selenium.webdriver.remote.webelement.WebElement (session=\"227bab6f5607f060038eabb0bd4d0de8\", element=\"f.A7DEE51B1CA65463568604EA4ED7D26E.d.440D8C9DE3DD7F486139189453BACAFD.e.363\")>, <selenium.webdriver.remote.webelement.WebElement (session=\"227bab6f5607f060038eabb0bd4d0de8\", element=\"f.A7DEE51B1CA65463568604EA4ED7D26E.d.440D8C9DE3DD7F486139189453BACAFD.e.365\")>, <selenium.webdriver.remote.webelement.WebElement (session=\"227bab6f5607f060038eabb0bd4d0de8\", element=\"f.A7DEE51B1CA65463568604EA4ED7D26E.d.440D8C9DE3DD7F486139189453BACAFD.e.367\")>, <selenium.webdriver.remote.webelement.WebElement (session=\"227bab6f5607f060038eabb0bd4d0de8\", element=\"f.A7DEE51B1CA65463568604EA4ED7D26E.d.440D8C9DE3DD7F486139189453BACAFD.e.369\")>, <selenium.webdriver.remote.webelement.WebElement (session=\"227bab6f5607f060038eabb0bd4d0de8\", element=\"f.A7DEE51B1CA65463568604EA4ED7D26E.d.440D8C9DE3DD7F486139189453BACAFD.e.371\")>, <selenium.webdriver.remote.webelement.WebElement (session=\"227bab6f5607f060038eabb0bd4d0de8\", element=\"f.A7DEE51B1CA65463568604EA4ED7D26E.d.440D8C9DE3DD7F486139189453BACAFD.e.373\")>, <selenium.webdriver.remote.webelement.WebElement (session=\"227bab6f5607f060038eabb0bd4d0de8\", element=\"f.A7DEE51B1CA65463568604EA4ED7D26E.d.440D8C9DE3DD7F486139189453BACAFD.e.375\")>, <selenium.webdriver.remote.webelement.WebElement (session=\"227bab6f5607f060038eabb0bd4d0de8\", element=\"f.A7DEE51B1CA65463568604EA4ED7D26E.d.440D8C9DE3DD7F486139189453BACAFD.e.377\")>, <selenium.webdriver.remote.webelement.WebElement (session=\"227bab6f5607f060038eabb0bd4d0de8\", element=\"f.A7DEE51B1CA65463568604EA4ED7D26E.d.440D8C9DE3DD7F486139189453BACAFD.e.379\")>, <selenium.webdriver.remote.webelement.WebElement (session=\"227bab6f5607f060038eabb0bd4d0de8\", element=\"f.A7DEE51B1CA65463568604EA4ED7D26E.d.440D8C9DE3DD7F486139189453BACAFD.e.381\")>, <selenium.webdriver.remote.webelement.WebElement (session=\"227bab6f5607f060038eabb0bd4d0de8\", element=\"f.A7DEE51B1CA65463568604EA4ED7D26E.d.440D8C9DE3DD7F486139189453BACAFD.e.383\")>, <selenium.webdriver.remote.webelement.WebElement (session=\"227bab6f5607f060038eabb0bd4d0de8\", element=\"f.A7DEE51B1CA65463568604EA4ED7D26E.d.440D8C9DE3DD7F486139189453BACAFD.e.385\")>, <selenium.webdriver.remote.webelement.WebElement (session=\"227bab6f5607f060038eabb0bd4d0de8\", element=\"f.A7DEE51B1CA65463568604EA4ED7D26E.d.440D8C9DE3DD7F486139189453BACAFD.e.387\")>, <selenium.webdriver.remote.webelement.WebElement (session=\"227bab6f5607f060038eabb0bd4d0de8\", element=\"f.A7DEE51B1CA65463568604EA4ED7D26E.d.440D8C9DE3DD7F486139189453BACAFD.e.389\")>, <selenium.webdriver.remote.webelement.WebElement (session=\"227bab6f5607f060038eabb0bd4d0de8\", element=\"f.A7DEE51B1CA65463568604EA4ED7D26E.d.440D8C9DE3DD7F486139189453BACAFD.e.391\")>, <selenium.webdriver.remote.webelement.WebElement (session=\"227bab6f5607f060038eabb0bd4d0de8\", element=\"f.A7DEE51B1CA65463568604EA4ED7D26E.d.440D8C9DE3DD7F486139189453BACAFD.e.393\")>, <selenium.webdriver.remote.webelement.WebElement (session=\"227bab6f5607f060038eabb0bd4d0de8\", element=\"f.A7DEE51B1CA65463568604EA4ED7D26E.d.440D8C9DE3DD7F486139189453BACAFD.e.395\")>, <selenium.webdriver.remote.webelement.WebElement (session=\"227bab6f5607f060038eabb0bd4d0de8\", element=\"f.A7DEE51B1CA65463568604EA4ED7D26E.d.440D8C9DE3DD7F486139189453BACAFD.e.397\")>, <selenium.webdriver.remote.webelement.WebElement (session=\"227bab6f5607f060038eabb0bd4d0de8\", element=\"f.A7DEE51B1CA65463568604EA4ED7D26E.d.440D8C9DE3DD7F486139189453BACAFD.e.399\")>, <selenium.webdriver.remote.webelement.WebElement (session=\"227bab6f5607f060038eabb0bd4d0de8\", element=\"f.A7DEE51B1CA65463568604EA4ED7D26E.d.440D8C9DE3DD7F486139189453BACAFD.e.401\")>, <selenium.webdriver.remote.webelement.WebElement (session=\"227bab6f5607f060038eabb0bd4d0de8\", element=\"f.A7DEE51B1CA65463568604EA4ED7D26E.d.440D8C9DE3DD7F486139189453BACAFD.e.403\")>, <selenium.webdriver.remote.webelement.WebElement (session=\"227bab6f5607f060038eabb0bd4d0de8\", element=\"f.A7DEE51B1CA65463568604EA4ED7D26E.d.440D8C9DE3DD7F486139189453BACAFD.e.405\")>]\n",
      "[<selenium.webdriver.remote.webelement.WebElement (session=\"227bab6f5607f060038eabb0bd4d0de8\", element=\"f.A7DEE51B1CA65463568604EA4ED7D26E.d.440D8C9DE3DD7F486139189453BACAFD.e.819\")>, <selenium.webdriver.remote.webelement.WebElement (session=\"227bab6f5607f060038eabb0bd4d0de8\", element=\"f.A7DEE51B1CA65463568604EA4ED7D26E.d.440D8C9DE3DD7F486139189453BACAFD.e.820\")>]\n",
      "[]\n",
      "[<selenium.webdriver.remote.webelement.WebElement (session=\"227bab6f5607f060038eabb0bd4d0de8\", element=\"f.A7DEE51B1CA65463568604EA4ED7D26E.d.440D8C9DE3DD7F486139189453BACAFD.e.821\")>, <selenium.webdriver.remote.webelement.WebElement (session=\"227bab6f5607f060038eabb0bd4d0de8\", element=\"f.A7DEE51B1CA65463568604EA4ED7D26E.d.440D8C9DE3DD7F486139189453BACAFD.e.822\")>, <selenium.webdriver.remote.webelement.WebElement (session=\"227bab6f5607f060038eabb0bd4d0de8\", element=\"f.A7DEE51B1CA65463568604EA4ED7D26E.d.440D8C9DE3DD7F486139189453BACAFD.e.823\")>]\n",
      "[<selenium.webdriver.remote.webelement.WebElement (session=\"227bab6f5607f060038eabb0bd4d0de8\", element=\"f.A7DEE51B1CA65463568604EA4ED7D26E.d.440D8C9DE3DD7F486139189453BACAFD.e.641\")>, <selenium.webdriver.remote.webelement.WebElement (session=\"227bab6f5607f060038eabb0bd4d0de8\", element=\"f.A7DEE51B1CA65463568604EA4ED7D26E.d.440D8C9DE3DD7F486139189453BACAFD.e.644\")>, <selenium.webdriver.remote.webelement.WebElement (session=\"227bab6f5607f060038eabb0bd4d0de8\", element=\"f.A7DEE51B1CA65463568604EA4ED7D26E.d.440D8C9DE3DD7F486139189453BACAFD.e.647\")>]\n",
      "[<selenium.webdriver.remote.webelement.WebElement (session=\"227bab6f5607f060038eabb0bd4d0de8\", element=\"f.A7DEE51B1CA65463568604EA4ED7D26E.d.440D8C9DE3DD7F486139189453BACAFD.e.653\")>, <selenium.webdriver.remote.webelement.WebElement (session=\"227bab6f5607f060038eabb0bd4d0de8\", element=\"f.A7DEE51B1CA65463568604EA4ED7D26E.d.440D8C9DE3DD7F486139189453BACAFD.e.656\")>, <selenium.webdriver.remote.webelement.WebElement (session=\"227bab6f5607f060038eabb0bd4d0de8\", element=\"f.A7DEE51B1CA65463568604EA4ED7D26E.d.440D8C9DE3DD7F486139189453BACAFD.e.659\")>, <selenium.webdriver.remote.webelement.WebElement (session=\"227bab6f5607f060038eabb0bd4d0de8\", element=\"f.A7DEE51B1CA65463568604EA4ED7D26E.d.440D8C9DE3DD7F486139189453BACAFD.e.662\")>, <selenium.webdriver.remote.webelement.WebElement (session=\"227bab6f5607f060038eabb0bd4d0de8\", element=\"f.A7DEE51B1CA65463568604EA4ED7D26E.d.440D8C9DE3DD7F486139189453BACAFD.e.665\")>, <selenium.webdriver.remote.webelement.WebElement (session=\"227bab6f5607f060038eabb0bd4d0de8\", element=\"f.A7DEE51B1CA65463568604EA4ED7D26E.d.440D8C9DE3DD7F486139189453BACAFD.e.668\")>, <selenium.webdriver.remote.webelement.WebElement (session=\"227bab6f5607f060038eabb0bd4d0de8\", element=\"f.A7DEE51B1CA65463568604EA4ED7D26E.d.440D8C9DE3DD7F486139189453BACAFD.e.671\")>, <selenium.webdriver.remote.webelement.WebElement (session=\"227bab6f5607f060038eabb0bd4d0de8\", element=\"f.A7DEE51B1CA65463568604EA4ED7D26E.d.440D8C9DE3DD7F486139189453BACAFD.e.674\")>, <selenium.webdriver.remote.webelement.WebElement (session=\"227bab6f5607f060038eabb0bd4d0de8\", element=\"f.A7DEE51B1CA65463568604EA4ED7D26E.d.440D8C9DE3DD7F486139189453BACAFD.e.677\")>, <selenium.webdriver.remote.webelement.WebElement (session=\"227bab6f5607f060038eabb0bd4d0de8\", element=\"f.A7DEE51B1CA65463568604EA4ED7D26E.d.440D8C9DE3DD7F486139189453BACAFD.e.680\")>, <selenium.webdriver.remote.webelement.WebElement (session=\"227bab6f5607f060038eabb0bd4d0de8\", element=\"f.A7DEE51B1CA65463568604EA4ED7D26E.d.440D8C9DE3DD7F486139189453BACAFD.e.683\")>]\n",
      "[<selenium.webdriver.remote.webelement.WebElement (session=\"227bab6f5607f060038eabb0bd4d0de8\", element=\"f.A7DEE51B1CA65463568604EA4ED7D26E.d.440D8C9DE3DD7F486139189453BACAFD.e.689\")>, <selenium.webdriver.remote.webelement.WebElement (session=\"227bab6f5607f060038eabb0bd4d0de8\", element=\"f.A7DEE51B1CA65463568604EA4ED7D26E.d.440D8C9DE3DD7F486139189453BACAFD.e.692\")>]\n",
      "[<selenium.webdriver.remote.webelement.WebElement (session=\"227bab6f5607f060038eabb0bd4d0de8\", element=\"f.A7DEE51B1CA65463568604EA4ED7D26E.d.440D8C9DE3DD7F486139189453BACAFD.e.698\")>]\n"
     ]
    },
    {
     "data": {
      "text/plain": [
       "[None,\n",
       " None,\n",
       " None,\n",
       " None,\n",
       " None,\n",
       " None,\n",
       " None,\n",
       " None,\n",
       " None,\n",
       " None,\n",
       " None,\n",
       " None,\n",
       " None,\n",
       " None,\n",
       " None,\n",
       " None]"
      ]
     },
     "execution_count": 40,
     "metadata": {},
     "output_type": "execute_result"
    }
   ],
   "source": [
    "[print(i.find_elements(By.TAG_NAME,'li'))  for i in list_of_elements]"
   ]
  },
  {
   "cell_type": "code",
   "execution_count": 49,
   "id": "dee77469",
   "metadata": {},
   "outputs": [
    {
     "data": {
      "text/plain": [
       "<selenium.webdriver.remote.webelement.WebElement (session=\"227bab6f5607f060038eabb0bd4d0de8\", element=\"f.A7DEE51B1CA65463568604EA4ED7D26E.d.440D8C9DE3DD7F486139189453BACAFD.e.204\")>"
      ]
     },
     "execution_count": 49,
     "metadata": {},
     "output_type": "execute_result"
    }
   ],
   "source": [
    "list_of_elements[0].find_element(By.TAG_NAME,'li')"
   ]
  },
  {
   "cell_type": "code",
   "execution_count": null,
   "id": "8a2764f0",
   "metadata": {},
   "outputs": [],
   "source": []
  }
 ],
 "metadata": {
  "kernelspec": {
   "display_name": "Python 3 (ipykernel)",
   "language": "python",
   "name": "python3"
  },
  "language_info": {
   "codemirror_mode": {
    "name": "ipython",
    "version": 3
   },
   "file_extension": ".py",
   "mimetype": "text/x-python",
   "name": "python",
   "nbconvert_exporter": "python",
   "pygments_lexer": "ipython3",
   "version": "3.11.5"
  }
 },
 "nbformat": 4,
 "nbformat_minor": 5
}
