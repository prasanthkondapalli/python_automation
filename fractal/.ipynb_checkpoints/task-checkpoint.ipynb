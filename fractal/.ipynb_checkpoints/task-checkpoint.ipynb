{
 "cells": [
  {
   "cell_type": "code",
   "execution_count": 1,
   "id": "f9ccbf64",
   "metadata": {},
   "outputs": [],
   "source": [
    "from selenium.webdriver.chrome.service import Service\n",
    "from selenium import webdriver\n",
    "from selenium.webdriver.common.by import By\n"
   ]
  },
  {
   "cell_type": "code",
   "execution_count": 2,
   "id": "0addb2ca",
   "metadata": {},
   "outputs": [
    {
     "name": "stdout",
     "output_type": "stream",
     "text": [
      "importing Jupyter notebook from path.ipynb\n"
     ]
    }
   ],
   "source": [
    "import import_ipynb \n",
    "import path"
   ]
  },
  {
   "cell_type": "code",
   "execution_count": 3,
   "id": "12de2db0",
   "metadata": {},
   "outputs": [],
   "source": [
    "ser = Service(executable_path=path.driver_path)"
   ]
  },
  {
   "cell_type": "code",
   "execution_count": 4,
   "id": "45e63397",
   "metadata": {},
   "outputs": [],
   "source": [
    "from selenium.webdriver.support.ui import Select"
   ]
  },
  {
   "cell_type": "code",
   "execution_count": 5,
   "id": "9cd0555f",
   "metadata": {},
   "outputs": [],
   "source": [
    "driver = webdriver.Chrome(service=ser)"
   ]
  },
  {
   "cell_type": "code",
   "execution_count": 6,
   "id": "ff5eb4c4",
   "metadata": {},
   "outputs": [],
   "source": [
    "driver.get(path.radio_check_buttons)"
   ]
  },
  {
   "cell_type": "code",
   "execution_count": 13,
   "id": "3888fe77",
   "metadata": {},
   "outputs": [],
   "source": [
    "f_name = driver.find_element(By.XPATH,\"//input[@name='fname']\")\n",
    "l_name = driver.find_element(By.XPATH,\"//input[@name='lname']\")\n",
    "email = driver.find_element(By.XPATH,\"//input[@type='email']\")\n",
    "subject = driver.find_element(By.XPATH,\"(//input[@type='text'])[3]\")\n",
    "message = driver.find_element(By.TAG_NAME,'textarea')"
   ]
  },
  {
   "cell_type": "code",
   "execution_count": 14,
   "id": "4de9294c",
   "metadata": {},
   "outputs": [],
   "source": [
    "f_name.send_keys('Hi')\n",
    "l_name.send_keys('Lname')\n",
    "email.send_keys('a@b.com')\n",
    "subject.send_keys('Subject')\n",
    "message.send_keys('Message')"
   ]
  },
  {
   "cell_type": "code",
   "execution_count": 15,
   "id": "a1d24ec2",
   "metadata": {},
   "outputs": [],
   "source": [
    "checkboxes = driver.find_elements(By.XPATH,\"//fieldset[@class='form-item field checkbox']/div/label/input\")"
   ]
  },
  {
   "cell_type": "code",
   "execution_count": 16,
   "id": "4e78906c",
   "metadata": {},
   "outputs": [
    {
     "data": {
      "text/plain": [
       "2"
      ]
     },
     "execution_count": 16,
     "metadata": {},
     "output_type": "execute_result"
    }
   ],
   "source": [
    "len(checkboxes)"
   ]
  },
  {
   "cell_type": "code",
   "execution_count": 17,
   "id": "1b61ce0e",
   "metadata": {},
   "outputs": [],
   "source": [
    "for i in checkboxes:\n",
    "    i.click()"
   ]
  },
  {
   "cell_type": "code",
   "execution_count": 24,
   "id": "568a7135",
   "metadata": {},
   "outputs": [],
   "source": [
    "radio_buttons = driver.find_elements(By.XPATH,'//fieldset[@id=\"radio-56c0f90d-260f-4304-b624-4635972a6fa9\"]/div/label/input')"
   ]
  },
  {
   "cell_type": "code",
   "execution_count": 25,
   "id": "1d826d97",
   "metadata": {},
   "outputs": [
    {
     "data": {
      "text/plain": [
       "2"
      ]
     },
     "execution_count": 25,
     "metadata": {},
     "output_type": "execute_result"
    }
   ],
   "source": [
    "len(radio_buttons)"
   ]
  },
  {
   "cell_type": "code",
   "execution_count": 20,
   "id": "33deea71",
   "metadata": {},
   "outputs": [],
   "source": [
    "import time"
   ]
  },
  {
   "cell_type": "code",
   "execution_count": 26,
   "id": "22b93a00",
   "metadata": {},
   "outputs": [
    {
     "ename": "ElementClickInterceptedException",
     "evalue": "Message: element click intercepted: Element <input class=\"loj47NF2EW4uatXeLLmw\" name=\"radio-56c0f90d-260f-4304-b624-4635972a6fa9-field\" type=\"radio\" value=\"Private Show\"> is not clickable at point (40, 553). Other element would receive the click: <span class=\"n0PhWfxoiZmhWz32eNK4 radio-outline\"></span>\n  (Session info: chrome=123.0.6312.58)\nStacktrace:\n#0 0x6339a3b78993 <unknown>\n#1 0x6339a3873136 <unknown>\n#2 0x6339a38c4963 <unknown>\n#3 0x6339a38c287e <unknown>\n#4 0x6339a38c0257 <unknown>\n#5 0x6339a38bf622 <unknown>\n#6 0x6339a38b2c07 <unknown>\n#7 0x6339a38dfcd2 <unknown>\n#8 0x6339a38b2598 <unknown>\n#9 0x6339a38dfe9e <unknown>\n#10 0x6339a38fe319 <unknown>\n#11 0x6339a38dfa73 <unknown>\n#12 0x6339a38b0c93 <unknown>\n#13 0x6339a38b165e <unknown>\n#14 0x6339a3b3d08b <unknown>\n#15 0x6339a3b41005 <unknown>\n#16 0x6339a3b2b491 <unknown>\n#17 0x6339a3b41b92 <unknown>\n#18 0x6339a3b109ef <unknown>\n#19 0x6339a3b67df8 <unknown>\n#20 0x6339a3b67fcb <unknown>\n#21 0x6339a3b77ae4 <unknown>\n#22 0x71f7b2894ac3 <unknown>\n",
     "output_type": "error",
     "traceback": [
      "\u001b[0;31m---------------------------------------------------------------------------\u001b[0m",
      "\u001b[0;31mElementClickInterceptedException\u001b[0m          Traceback (most recent call last)",
      "Cell \u001b[0;32mIn [26], line 2\u001b[0m\n\u001b[1;32m      1\u001b[0m \u001b[38;5;28;01mfor\u001b[39;00m i \u001b[38;5;129;01min\u001b[39;00m radio_buttons:\n\u001b[0;32m----> 2\u001b[0m     i\u001b[38;5;241m.\u001b[39mclick()\n\u001b[1;32m      3\u001b[0m     time\u001b[38;5;241m.\u001b[39msleep(\u001b[38;5;241m3\u001b[39m)\n",
      "File \u001b[0;32m~/anaconda3/lib/python3.11/site-packages/selenium/webdriver/remote/webelement.py:88\u001b[0m, in \u001b[0;36mWebElement.click\u001b[0;34m(self)\u001b[0m\n\u001b[1;32m     86\u001b[0m \u001b[38;5;28;01mdef\u001b[39;00m \u001b[38;5;21mclick\u001b[39m(\u001b[38;5;28mself\u001b[39m) \u001b[38;5;241m-\u001b[39m\u001b[38;5;241m>\u001b[39m \u001b[38;5;28;01mNone\u001b[39;00m:\n\u001b[1;32m     87\u001b[0m     \u001b[38;5;124;03m\"\"\"Clicks the element.\"\"\"\u001b[39;00m\n\u001b[0;32m---> 88\u001b[0m     \u001b[38;5;28mself\u001b[39m\u001b[38;5;241m.\u001b[39m_execute(Command\u001b[38;5;241m.\u001b[39mCLICK_ELEMENT)\n",
      "File \u001b[0;32m~/anaconda3/lib/python3.11/site-packages/selenium/webdriver/remote/webelement.py:396\u001b[0m, in \u001b[0;36mWebElement._execute\u001b[0;34m(self, command, params)\u001b[0m\n\u001b[1;32m    394\u001b[0m     params \u001b[38;5;241m=\u001b[39m {}\n\u001b[1;32m    395\u001b[0m params[\u001b[38;5;124m'\u001b[39m\u001b[38;5;124mid\u001b[39m\u001b[38;5;124m'\u001b[39m] \u001b[38;5;241m=\u001b[39m \u001b[38;5;28mself\u001b[39m\u001b[38;5;241m.\u001b[39m_id\n\u001b[0;32m--> 396\u001b[0m \u001b[38;5;28;01mreturn\u001b[39;00m \u001b[38;5;28mself\u001b[39m\u001b[38;5;241m.\u001b[39m_parent\u001b[38;5;241m.\u001b[39mexecute(command, params)\n",
      "File \u001b[0;32m~/anaconda3/lib/python3.11/site-packages/selenium/webdriver/remote/webdriver.py:428\u001b[0m, in \u001b[0;36mWebDriver.execute\u001b[0;34m(self, driver_command, params)\u001b[0m\n\u001b[1;32m    426\u001b[0m response \u001b[38;5;241m=\u001b[39m \u001b[38;5;28mself\u001b[39m\u001b[38;5;241m.\u001b[39mcommand_executor\u001b[38;5;241m.\u001b[39mexecute(driver_command, params)\n\u001b[1;32m    427\u001b[0m \u001b[38;5;28;01mif\u001b[39;00m response:\n\u001b[0;32m--> 428\u001b[0m     \u001b[38;5;28mself\u001b[39m\u001b[38;5;241m.\u001b[39merror_handler\u001b[38;5;241m.\u001b[39mcheck_response(response)\n\u001b[1;32m    429\u001b[0m     response[\u001b[38;5;124m'\u001b[39m\u001b[38;5;124mvalue\u001b[39m\u001b[38;5;124m'\u001b[39m] \u001b[38;5;241m=\u001b[39m \u001b[38;5;28mself\u001b[39m\u001b[38;5;241m.\u001b[39m_unwrap_value(\n\u001b[1;32m    430\u001b[0m         response\u001b[38;5;241m.\u001b[39mget(\u001b[38;5;124m'\u001b[39m\u001b[38;5;124mvalue\u001b[39m\u001b[38;5;124m'\u001b[39m, \u001b[38;5;28;01mNone\u001b[39;00m))\n\u001b[1;32m    431\u001b[0m     \u001b[38;5;28;01mreturn\u001b[39;00m response\n",
      "File \u001b[0;32m~/anaconda3/lib/python3.11/site-packages/selenium/webdriver/remote/errorhandler.py:243\u001b[0m, in \u001b[0;36mErrorHandler.check_response\u001b[0;34m(self, response)\u001b[0m\n\u001b[1;32m    241\u001b[0m         alert_text \u001b[38;5;241m=\u001b[39m value[\u001b[38;5;124m'\u001b[39m\u001b[38;5;124malert\u001b[39m\u001b[38;5;124m'\u001b[39m]\u001b[38;5;241m.\u001b[39mget(\u001b[38;5;124m'\u001b[39m\u001b[38;5;124mtext\u001b[39m\u001b[38;5;124m'\u001b[39m)\n\u001b[1;32m    242\u001b[0m     \u001b[38;5;28;01mraise\u001b[39;00m exception_class(message, screen, stacktrace, alert_text)  \u001b[38;5;66;03m# type: ignore[call-arg]  # mypy is not smart enough here\u001b[39;00m\n\u001b[0;32m--> 243\u001b[0m \u001b[38;5;28;01mraise\u001b[39;00m exception_class(message, screen, stacktrace)\n",
      "\u001b[0;31mElementClickInterceptedException\u001b[0m: Message: element click intercepted: Element <input class=\"loj47NF2EW4uatXeLLmw\" name=\"radio-56c0f90d-260f-4304-b624-4635972a6fa9-field\" type=\"radio\" value=\"Private Show\"> is not clickable at point (40, 553). Other element would receive the click: <span class=\"n0PhWfxoiZmhWz32eNK4 radio-outline\"></span>\n  (Session info: chrome=123.0.6312.58)\nStacktrace:\n#0 0x6339a3b78993 <unknown>\n#1 0x6339a3873136 <unknown>\n#2 0x6339a38c4963 <unknown>\n#3 0x6339a38c287e <unknown>\n#4 0x6339a38c0257 <unknown>\n#5 0x6339a38bf622 <unknown>\n#6 0x6339a38b2c07 <unknown>\n#7 0x6339a38dfcd2 <unknown>\n#8 0x6339a38b2598 <unknown>\n#9 0x6339a38dfe9e <unknown>\n#10 0x6339a38fe319 <unknown>\n#11 0x6339a38dfa73 <unknown>\n#12 0x6339a38b0c93 <unknown>\n#13 0x6339a38b165e <unknown>\n#14 0x6339a3b3d08b <unknown>\n#15 0x6339a3b41005 <unknown>\n#16 0x6339a3b2b491 <unknown>\n#17 0x6339a3b41b92 <unknown>\n#18 0x6339a3b109ef <unknown>\n#19 0x6339a3b67df8 <unknown>\n#20 0x6339a3b67fcb <unknown>\n#21 0x6339a3b77ae4 <unknown>\n#22 0x71f7b2894ac3 <unknown>\n"
     ]
    }
   ],
   "source": [
    "for i in radio_buttons:\n",
    "    i.click()\n",
    "    time.sleep(3)"
   ]
  },
  {
   "cell_type": "code",
   "execution_count": null,
   "id": "6c52012f",
   "metadata": {},
   "outputs": [],
   "source": []
  }
 ],
 "metadata": {
  "kernelspec": {
   "display_name": "Python 3 (ipykernel)",
   "language": "python",
   "name": "python3"
  },
  "language_info": {
   "codemirror_mode": {
    "name": "ipython",
    "version": 3
   },
   "file_extension": ".py",
   "mimetype": "text/x-python",
   "name": "python",
   "nbconvert_exporter": "python",
   "pygments_lexer": "ipython3",
   "version": "3.11.5"
  }
 },
 "nbformat": 4,
 "nbformat_minor": 5
}
