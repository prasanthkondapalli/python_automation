{
 "cells": [
  {
   "cell_type": "code",
   "execution_count": 1,
   "id": "7712c997",
   "metadata": {},
   "outputs": [
    {
     "name": "stdout",
     "output_type": "stream",
     "text": [
      "importing Jupyter notebook from path.ipynb\n"
     ]
    }
   ],
   "source": [
    "import import_ipynb\n",
    "import path"
   ]
  },
  {
   "cell_type": "code",
   "execution_count": 2,
   "id": "01423882",
   "metadata": {},
   "outputs": [],
   "source": [
    "wekipedia_url = path.wekipedia_url"
   ]
  },
  {
   "cell_type": "code",
   "execution_count": 3,
   "id": "1f82c858",
   "metadata": {},
   "outputs": [],
   "source": [
    "driver_path = path.driver_path"
   ]
  },
  {
   "cell_type": "code",
   "execution_count": 4,
   "id": "2a807806",
   "metadata": {},
   "outputs": [],
   "source": [
    "from selenium import webdriver\n",
    "from selenium.webdriver.chrome.service import Service\n",
    "from selenium.webdriver.common.by import By"
   ]
  },
  {
   "cell_type": "code",
   "execution_count": 5,
   "id": "094e9838",
   "metadata": {},
   "outputs": [],
   "source": [
    "ser = Service(executable_path=driver_path)"
   ]
  },
  {
   "cell_type": "code",
   "execution_count": 6,
   "id": "50847096",
   "metadata": {},
   "outputs": [],
   "source": [
    "driver = webdriver.Chrome(service=ser)"
   ]
  },
  {
   "cell_type": "code",
   "execution_count": 7,
   "id": "f76ebd8e",
   "metadata": {},
   "outputs": [],
   "source": [
    "driver.get(wekipedia_url)"
   ]
  },
  {
   "cell_type": "code",
   "execution_count": 8,
   "id": "a720c5eb",
   "metadata": {},
   "outputs": [],
   "source": [
    "elements = driver.find_elements(By.XPATH,'//div[@class=\"mw-content-ltr mw-parser-output\"]')"
   ]
  },
  {
   "cell_type": "code",
   "execution_count": 9,
   "id": "055a8478",
   "metadata": {},
   "outputs": [
    {
     "data": {
      "text/plain": [
       "1"
      ]
     },
     "execution_count": 9,
     "metadata": {},
     "output_type": "execute_result"
    }
   ],
   "source": [
    "len(elements)"
   ]
  },
  {
   "cell_type": "code",
   "execution_count": 10,
   "id": "bd660bfc",
   "metadata": {
    "scrolled": true
   },
   "outputs": [
    {
     "name": "stdout",
     "output_type": "stream",
     "text": [
      "Look up Python or python in Wiktionary, the free dictionary.\n",
      "Python may refer to:\n",
      "Snakes[edit]\n",
      "Pythonidae, a family of nonvenomous snakes found in Africa, Asia, and Australia\n",
      "Python (genus), a genus of Pythonidae found in Africa and Asia\n",
      "Python (mythology), a mythical serpent\n",
      "Computing[edit]\n",
      "Python (programming language), a widely used high-level programming language\n",
      "Python, a native code compiler for CMU Common Lisp\n",
      "Python, the internal project name for the PERQ 3 computer workstation\n",
      "People[edit]\n",
      "Python of Aenus (4th-century BCE), student of Plato\n",
      "Python (painter), (ca. 360–320 BCE) vase painter in Poseidonia\n",
      "Python of Byzantium, orator, diplomat of Philip II of Macedon\n",
      "Python of Catana, poet who accompanied Alexander the Great\n",
      "Python Anghelo (1954–2014) Romanian graphic artist\n",
      "Roller coasters[edit]\n",
      "Python (Efteling), a roller coaster in the Netherlands\n",
      "Python (Busch Gardens Tampa Bay), a defunct roller coaster\n",
      "Python (Coney Island, Cincinnati, Ohio), a steel roller coaster\n",
      "Vehicles[edit]\n",
      "Python (automobile maker), an Australian car company\n",
      "Python (Ford prototype), a Ford prototype sports car\n",
      "Weaponry[edit]\n",
      "Python (missile), a series of Israeli air-to-air missiles\n",
      "Python (nuclear primary), a gas-boosted fission primary used in thermonuclear weapons\n",
      "Colt Python, a revolver\n",
      "Other uses[edit]\n",
      "Python (codename), a British nuclear war contingency plan\n",
      "Python (film), a 2000 horror film by Richard Clabaugh\n",
      "Monty Python or the Pythons, a British comedy group\n",
      "Python (Monty) Pictures, a company owned by the troupe's surviving members\n",
      "Python, a work written by philosopher Timon of Phlius\n",
      "See also[edit]\n",
      "Pyton, a Norwegian magazine\n",
      "Pithon, a commune in northern France\n",
      "This disambiguation page lists articles associated with the title Python.\n",
      "If an internal link led you here, you may wish to change the link to point directly to the intended article.\n"
     ]
    }
   ],
   "source": [
    "for i in elements:\n",
    "    print(i.text)"
   ]
  },
  {
   "cell_type": "code",
   "execution_count": 14,
   "id": "c8b940b7",
   "metadata": {},
   "outputs": [
    {
     "ename": "AttributeError",
     "evalue": "'list' object has no attribute 'find_element'",
     "output_type": "error",
     "traceback": [
      "\u001b[0;31m---------------------------------------------------------------------------\u001b[0m",
      "\u001b[0;31mAttributeError\u001b[0m                            Traceback (most recent call last)",
      "Cell \u001b[0;32mIn [14], line 1\u001b[0m\n\u001b[0;32m----> 1\u001b[0m elements\u001b[38;5;241m.\u001b[39mfind_element(By\u001b[38;5;241m.\u001b[39mTAG_NAME,\u001b[38;5;124m'\u001b[39m\u001b[38;5;124mli\u001b[39m\u001b[38;5;124m'\u001b[39m)\n",
      "\u001b[0;31mAttributeError\u001b[0m: 'list' object has no attribute 'find_element'"
     ]
    }
   ],
   "source": [
    "elements.find_element(By.TAG_NAME,'li')"
   ]
  },
  {
   "cell_type": "code",
   "execution_count": 19,
   "id": "b8fbae2f",
   "metadata": {},
   "outputs": [
    {
     "data": {
      "text/plain": [
       "[<selenium.webdriver.remote.webelement.WebElement (session=\"227bab6f5607f060038eabb0bd4d0de8\", element=\"f.A7DEE51B1CA65463568604EA4ED7D26E.d.440D8C9DE3DD7F486139189453BACAFD.e.51\")>]"
      ]
     },
     "execution_count": 19,
     "metadata": {},
     "output_type": "execute_result"
    }
   ],
   "source": [
    "elements"
   ]
  },
  {
   "cell_type": "code",
   "execution_count": 27,
   "id": "b13929fc",
   "metadata": {},
   "outputs": [],
   "source": [
    "list_of_elements = driver.find_elements(By.CSS_SELECTOR,'ul.vector-menu-content-list')"
   ]
  },
  {
   "cell_type": "code",
   "execution_count": 28,
   "id": "c7c84c39",
   "metadata": {},
   "outputs": [
    {
     "data": {
      "text/plain": [
       "16"
      ]
     },
     "execution_count": 28,
     "metadata": {},
     "output_type": "execute_result"
    }
   ],
   "source": [
    "len(list_of_elements)"
   ]
  },
  {
   "cell_type": "code",
   "execution_count": 36,
   "id": "99988373",
   "metadata": {},
   "outputs": [
    {
     "name": "stdout",
     "output_type": "stream",
     "text": [
      "[]\n",
      "[]\n",
      "[]\n",
      "[]\n",
      "[]\n",
      "[]\n",
      "[]\n",
      "[]\n",
      "[]\n",
      "[]\n",
      "[]\n",
      "[]\n",
      "[]\n",
      "[]\n",
      "[]\n",
      "[]\n"
     ]
    },
    {
     "data": {
      "text/plain": [
       "[None,\n",
       " None,\n",
       " None,\n",
       " None,\n",
       " None,\n",
       " None,\n",
       " None,\n",
       " None,\n",
       " None,\n",
       " None,\n",
       " None,\n",
       " None,\n",
       " None,\n",
       " None,\n",
       " None,\n",
       " None]"
      ]
     },
     "execution_count": 36,
     "metadata": {},
     "output_type": "execute_result"
    }
   ],
   "source": [
    "[print(i.find_elements(By.,'ul'))  for i in list_of_elements]"
   ]
  },
  {
   "cell_type": "code",
   "execution_count": 26,
   "id": "0c81beac",
   "metadata": {},
   "outputs": [
    {
     "ename": "NoSuchElementException",
     "evalue": "Message: no such element: Unable to locate element: {\"method\":\"tag name\",\"selector\":\"a\"}\n  (Session info: chrome=123.0.6312.58)\nStacktrace:\n#0 0x6041c6db6993 <unknown>\n#1 0x6041c6ab1136 <unknown>\n#2 0x6041c6afbd48 <unknown>\n#3 0x6041c6afbe01 <unknown>\n#4 0x6041c6af06a6 <unknown>\n#5 0x6041c6b1dcfd <unknown>\n#6 0x6041c6af0598 <unknown>\n#7 0x6041c6b1de9e <unknown>\n#8 0x6041c6b3c319 <unknown>\n#9 0x6041c6b1da73 <unknown>\n#10 0x6041c6aeec93 <unknown>\n#11 0x6041c6aef65e <unknown>\n#12 0x6041c6d7b08b <unknown>\n#13 0x6041c6d7f005 <unknown>\n#14 0x6041c6d69491 <unknown>\n#15 0x6041c6d7fb92 <unknown>\n#16 0x6041c6d4e9ef <unknown>\n#17 0x6041c6da5df8 <unknown>\n#18 0x6041c6da5fcb <unknown>\n#19 0x6041c6db5ae4 <unknown>\n#20 0x7e0219c94ac3 <unknown>\n",
     "output_type": "error",
     "traceback": [
      "\u001b[0;31m---------------------------------------------------------------------------\u001b[0m",
      "\u001b[0;31mNoSuchElementException\u001b[0m                    Traceback (most recent call last)",
      "Cell \u001b[0;32mIn [26], line 1\u001b[0m\n\u001b[0;32m----> 1\u001b[0m list_of_elements[\u001b[38;5;241m0\u001b[39m]\u001b[38;5;241m.\u001b[39mfind_element(By\u001b[38;5;241m.\u001b[39mTAG_NAME,\u001b[38;5;124m'\u001b[39m\u001b[38;5;124ma\u001b[39m\u001b[38;5;124m'\u001b[39m)\n",
      "File \u001b[0;32m~/anaconda3/lib/python3.11/site-packages/selenium/webdriver/remote/webelement.py:419\u001b[0m, in \u001b[0;36mWebElement.find_element\u001b[0;34m(self, by, value)\u001b[0m\n\u001b[1;32m    416\u001b[0m     by \u001b[38;5;241m=\u001b[39m By\u001b[38;5;241m.\u001b[39mCSS_SELECTOR\n\u001b[1;32m    417\u001b[0m     value \u001b[38;5;241m=\u001b[39m \u001b[38;5;124m'\u001b[39m\u001b[38;5;124m[name=\u001b[39m\u001b[38;5;124m\"\u001b[39m\u001b[38;5;132;01m%s\u001b[39;00m\u001b[38;5;124m\"\u001b[39m\u001b[38;5;124m]\u001b[39m\u001b[38;5;124m'\u001b[39m \u001b[38;5;241m%\u001b[39m value\n\u001b[0;32m--> 419\u001b[0m \u001b[38;5;28;01mreturn\u001b[39;00m \u001b[38;5;28mself\u001b[39m\u001b[38;5;241m.\u001b[39m_execute(Command\u001b[38;5;241m.\u001b[39mFIND_CHILD_ELEMENT,\n\u001b[1;32m    420\u001b[0m                      {\u001b[38;5;124m\"\u001b[39m\u001b[38;5;124musing\u001b[39m\u001b[38;5;124m\"\u001b[39m: by, \u001b[38;5;124m\"\u001b[39m\u001b[38;5;124mvalue\u001b[39m\u001b[38;5;124m\"\u001b[39m: value})[\u001b[38;5;124m'\u001b[39m\u001b[38;5;124mvalue\u001b[39m\u001b[38;5;124m'\u001b[39m]\n",
      "File \u001b[0;32m~/anaconda3/lib/python3.11/site-packages/selenium/webdriver/remote/webelement.py:396\u001b[0m, in \u001b[0;36mWebElement._execute\u001b[0;34m(self, command, params)\u001b[0m\n\u001b[1;32m    394\u001b[0m     params \u001b[38;5;241m=\u001b[39m {}\n\u001b[1;32m    395\u001b[0m params[\u001b[38;5;124m'\u001b[39m\u001b[38;5;124mid\u001b[39m\u001b[38;5;124m'\u001b[39m] \u001b[38;5;241m=\u001b[39m \u001b[38;5;28mself\u001b[39m\u001b[38;5;241m.\u001b[39m_id\n\u001b[0;32m--> 396\u001b[0m \u001b[38;5;28;01mreturn\u001b[39;00m \u001b[38;5;28mself\u001b[39m\u001b[38;5;241m.\u001b[39m_parent\u001b[38;5;241m.\u001b[39mexecute(command, params)\n",
      "File \u001b[0;32m~/anaconda3/lib/python3.11/site-packages/selenium/webdriver/remote/webdriver.py:428\u001b[0m, in \u001b[0;36mWebDriver.execute\u001b[0;34m(self, driver_command, params)\u001b[0m\n\u001b[1;32m    426\u001b[0m response \u001b[38;5;241m=\u001b[39m \u001b[38;5;28mself\u001b[39m\u001b[38;5;241m.\u001b[39mcommand_executor\u001b[38;5;241m.\u001b[39mexecute(driver_command, params)\n\u001b[1;32m    427\u001b[0m \u001b[38;5;28;01mif\u001b[39;00m response:\n\u001b[0;32m--> 428\u001b[0m     \u001b[38;5;28mself\u001b[39m\u001b[38;5;241m.\u001b[39merror_handler\u001b[38;5;241m.\u001b[39mcheck_response(response)\n\u001b[1;32m    429\u001b[0m     response[\u001b[38;5;124m'\u001b[39m\u001b[38;5;124mvalue\u001b[39m\u001b[38;5;124m'\u001b[39m] \u001b[38;5;241m=\u001b[39m \u001b[38;5;28mself\u001b[39m\u001b[38;5;241m.\u001b[39m_unwrap_value(\n\u001b[1;32m    430\u001b[0m         response\u001b[38;5;241m.\u001b[39mget(\u001b[38;5;124m'\u001b[39m\u001b[38;5;124mvalue\u001b[39m\u001b[38;5;124m'\u001b[39m, \u001b[38;5;28;01mNone\u001b[39;00m))\n\u001b[1;32m    431\u001b[0m     \u001b[38;5;28;01mreturn\u001b[39;00m response\n",
      "File \u001b[0;32m~/anaconda3/lib/python3.11/site-packages/selenium/webdriver/remote/errorhandler.py:243\u001b[0m, in \u001b[0;36mErrorHandler.check_response\u001b[0;34m(self, response)\u001b[0m\n\u001b[1;32m    241\u001b[0m         alert_text \u001b[38;5;241m=\u001b[39m value[\u001b[38;5;124m'\u001b[39m\u001b[38;5;124malert\u001b[39m\u001b[38;5;124m'\u001b[39m]\u001b[38;5;241m.\u001b[39mget(\u001b[38;5;124m'\u001b[39m\u001b[38;5;124mtext\u001b[39m\u001b[38;5;124m'\u001b[39m)\n\u001b[1;32m    242\u001b[0m     \u001b[38;5;28;01mraise\u001b[39;00m exception_class(message, screen, stacktrace, alert_text)  \u001b[38;5;66;03m# type: ignore[call-arg]  # mypy is not smart enough here\u001b[39;00m\n\u001b[0;32m--> 243\u001b[0m \u001b[38;5;28;01mraise\u001b[39;00m exception_class(message, screen, stacktrace)\n",
      "\u001b[0;31mNoSuchElementException\u001b[0m: Message: no such element: Unable to locate element: {\"method\":\"tag name\",\"selector\":\"a\"}\n  (Session info: chrome=123.0.6312.58)\nStacktrace:\n#0 0x6041c6db6993 <unknown>\n#1 0x6041c6ab1136 <unknown>\n#2 0x6041c6afbd48 <unknown>\n#3 0x6041c6afbe01 <unknown>\n#4 0x6041c6af06a6 <unknown>\n#5 0x6041c6b1dcfd <unknown>\n#6 0x6041c6af0598 <unknown>\n#7 0x6041c6b1de9e <unknown>\n#8 0x6041c6b3c319 <unknown>\n#9 0x6041c6b1da73 <unknown>\n#10 0x6041c6aeec93 <unknown>\n#11 0x6041c6aef65e <unknown>\n#12 0x6041c6d7b08b <unknown>\n#13 0x6041c6d7f005 <unknown>\n#14 0x6041c6d69491 <unknown>\n#15 0x6041c6d7fb92 <unknown>\n#16 0x6041c6d4e9ef <unknown>\n#17 0x6041c6da5df8 <unknown>\n#18 0x6041c6da5fcb <unknown>\n#19 0x6041c6db5ae4 <unknown>\n#20 0x7e0219c94ac3 <unknown>\n"
     ]
    }
   ],
   "source": [
    "list_of_elements[0].find_element(By.TAG_NAME,'')"
   ]
  },
  {
   "cell_type": "code",
   "execution_count": null,
   "id": "7b8c3313",
   "metadata": {},
   "outputs": [],
   "source": []
  }
 ],
 "metadata": {
  "kernelspec": {
   "display_name": "Python 3 (ipykernel)",
   "language": "python",
   "name": "python3"
  },
  "language_info": {
   "codemirror_mode": {
    "name": "ipython",
    "version": 3
   },
   "file_extension": ".py",
   "mimetype": "text/x-python",
   "name": "python",
   "nbconvert_exporter": "python",
   "pygments_lexer": "ipython3",
   "version": "3.11.5"
  }
 },
 "nbformat": 4,
 "nbformat_minor": 5
}
