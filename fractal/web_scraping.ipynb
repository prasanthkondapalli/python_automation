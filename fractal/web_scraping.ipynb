{
 "cells": [
  {
   "cell_type": "code",
   "execution_count": 1,
   "id": "f172daf7",
   "metadata": {},
   "outputs": [
    {
     "name": "stdout",
     "output_type": "stream",
     "text": [
      "importing Jupyter notebook from path.ipynb\n"
     ]
    }
   ],
   "source": [
    "import import_ipynb\n",
    "import path"
   ]
  },
  {
   "cell_type": "code",
   "execution_count": 2,
   "id": "b58836c5",
   "metadata": {},
   "outputs": [],
   "source": [
    "wekipedia_url = path.wekipedia_url"
   ]
  },
  {
   "cell_type": "code",
   "execution_count": 3,
   "id": "a253b40f",
   "metadata": {},
   "outputs": [],
   "source": [
    "driver_path = path.driver_path"
   ]
  },
  {
   "cell_type": "code",
   "execution_count": 4,
   "id": "5f398fa2",
   "metadata": {},
   "outputs": [],
   "source": [
    "from selenium import webdriver\n",
    "from selenium.webdriver.chrome.service import Service\n",
    "from selenium.webdriver.common.by import By"
   ]
  },
  {
   "cell_type": "code",
   "execution_count": 5,
   "id": "cb7d3d23",
   "metadata": {},
   "outputs": [],
   "source": [
    "ser = Service(executable_path=driver_path)"
   ]
  },
  {
   "cell_type": "code",
   "execution_count": 6,
   "id": "7d577205",
   "metadata": {},
   "outputs": [],
   "source": [
    "driver = webdriver.Chrome(service=ser)"
   ]
  },
  {
   "cell_type": "code",
   "execution_count": 7,
   "id": "3f1ae17e",
   "metadata": {},
   "outputs": [],
   "source": [
    "driver.get(wekipedia_url)"
   ]
  },
  {
   "cell_type": "code",
   "execution_count": 220,
   "id": "1643bf79",
   "metadata": {},
   "outputs": [],
   "source": [
    "elements = driver.find_elements(By.XPATH,\"//div[@class='mw-content-ltr mw-parser-output']//ul//li//a\")"
   ]
  },
  {
   "cell_type": "code",
   "execution_count": 213,
   "id": "2ba74ed8",
   "metadata": {},
   "outputs": [],
   "source": [
    "l1 = []"
   ]
  },
  {
   "cell_type": "code",
   "execution_count": 244,
   "id": "4b50df07",
   "metadata": {},
   "outputs": [],
   "source": [
    "l2=[]"
   ]
  },
  {
   "cell_type": "code",
   "execution_count": 221,
   "id": "ed48697d",
   "metadata": {},
   "outputs": [
    {
     "data": {
      "text/plain": [
       "26"
      ]
     },
     "execution_count": 221,
     "metadata": {},
     "output_type": "execute_result"
    }
   ],
   "source": [
    "len(elements)"
   ]
  },
  {
   "cell_type": "code",
   "execution_count": 222,
   "id": "e710c2f0",
   "metadata": {
    "scrolled": true
   },
   "outputs": [],
   "source": [
    "l1 =[i.text for i in elements]"
   ]
  },
  {
   "cell_type": "code",
   "execution_count": 245,
   "id": "7109521c",
   "metadata": {},
   "outputs": [],
   "source": [
    "l2 = [i.get_attribute('href') for i in elements]"
   ]
  },
  {
   "cell_type": "code",
   "execution_count": 242,
   "id": "9ec2924f",
   "metadata": {},
   "outputs": [
    {
     "name": "stdout",
     "output_type": "stream",
     "text": [
      "<generator object <genexpr> at 0x74197b268200>\n"
     ]
    },
    {
     "data": {
      "text/plain": [
       "[None]"
      ]
     },
     "execution_count": 242,
     "metadata": {},
     "output_type": "execute_result"
    }
   ],
   "source": [
    "[print(i.get_attribute('href') for i in elements)]"
   ]
  },
  {
   "cell_type": "code",
   "execution_count": 224,
   "id": "54e69d4a",
   "metadata": {},
   "outputs": [
    {
     "data": {
      "text/plain": [
       "['Pythonidae',\n",
       " 'Python (genus)',\n",
       " 'Python (mythology)',\n",
       " 'Python (programming language)',\n",
       " 'CMU Common Lisp',\n",
       " 'PERQ 3',\n",
       " 'Python of Aenus',\n",
       " 'Python (painter)',\n",
       " 'Python of Byzantium',\n",
       " 'Python of Catana',\n",
       " 'Python Anghelo',\n",
       " 'Python (Efteling)',\n",
       " 'Python (Busch Gardens Tampa Bay)',\n",
       " 'Python (Coney Island, Cincinnati, Ohio)',\n",
       " 'Python (automobile maker)',\n",
       " 'Python (Ford prototype)',\n",
       " 'Python (missile)',\n",
       " 'Python (nuclear primary)',\n",
       " 'Colt Python',\n",
       " 'Python (codename)',\n",
       " 'Python (film)',\n",
       " 'Monty Python',\n",
       " 'Python (Monty) Pictures',\n",
       " 'Timon of Phlius',\n",
       " 'Pyton',\n",
       " 'Pithon']"
      ]
     },
     "execution_count": 224,
     "metadata": {},
     "output_type": "execute_result"
    }
   ],
   "source": [
    "l1"
   ]
  },
  {
   "cell_type": "code",
   "execution_count": 247,
   "id": "a689adc7",
   "metadata": {
    "scrolled": true
   },
   "outputs": [
    {
     "data": {
      "text/plain": [
       "['https://en.wikipedia.org/wiki/Pythonidae',\n",
       " 'https://en.wikipedia.org/wiki/Python_(genus)',\n",
       " 'https://en.wikipedia.org/wiki/Python_(mythology)',\n",
       " 'https://en.wikipedia.org/wiki/Python_(programming_language)',\n",
       " 'https://en.wikipedia.org/wiki/CMU_Common_Lisp',\n",
       " 'https://en.wikipedia.org/wiki/PERQ#PERQ_3',\n",
       " 'https://en.wikipedia.org/wiki/Python_of_Aenus',\n",
       " 'https://en.wikipedia.org/wiki/Python_(painter)',\n",
       " 'https://en.wikipedia.org/wiki/Python_of_Byzantium',\n",
       " 'https://en.wikipedia.org/wiki/Python_of_Catana',\n",
       " 'https://en.wikipedia.org/wiki/Python_Anghelo',\n",
       " 'https://en.wikipedia.org/wiki/Python_(Efteling)',\n",
       " 'https://en.wikipedia.org/wiki/Python_(Busch_Gardens_Tampa_Bay)',\n",
       " 'https://en.wikipedia.org/wiki/Python_(Coney_Island,_Cincinnati,_Ohio)',\n",
       " 'https://en.wikipedia.org/wiki/Python_(automobile_maker)',\n",
       " 'https://en.wikipedia.org/wiki/Python_(Ford_prototype)',\n",
       " 'https://en.wikipedia.org/wiki/Python_(missile)',\n",
       " 'https://en.wikipedia.org/wiki/Python_(nuclear_primary)',\n",
       " 'https://en.wikipedia.org/wiki/Colt_Python',\n",
       " 'https://en.wikipedia.org/wiki/Python_(codename)',\n",
       " 'https://en.wikipedia.org/wiki/Python_(film)',\n",
       " 'https://en.wikipedia.org/wiki/Monty_Python',\n",
       " 'https://en.wikipedia.org/wiki/Python_(Monty)_Pictures',\n",
       " 'https://en.wikipedia.org/wiki/Timon_of_Phlius',\n",
       " 'https://en.wikipedia.org/wiki/Pyton',\n",
       " 'https://en.wikipedia.org/wiki/Pithon']"
      ]
     },
     "execution_count": 247,
     "metadata": {},
     "output_type": "execute_result"
    }
   ],
   "source": [
    "l2"
   ]
  },
  {
   "cell_type": "code",
   "execution_count": 262,
   "id": "20485b25",
   "metadata": {},
   "outputs": [
    {
     "name": "stdout",
     "output_type": "stream",
     "text": [
      "<generator object <genexpr> at 0x74197b1f9e50>\n"
     ]
    },
    {
     "data": {
      "text/plain": [
       "[None]"
      ]
     },
     "execution_count": 262,
     "metadata": {},
     "output_type": "execute_result"
    }
   ],
   "source": [
    "[print  (i  for i in zip(l1,l2))]"
   ]
  },
  {
   "cell_type": "code",
   "execution_count": 265,
   "id": "9d750b61",
   "metadata": {},
   "outputs": [
    {
     "name": "stdout",
     "output_type": "stream",
     "text": [
      "['Pythonidae', 'https://en.wikipedia.org/wiki/Pythonidae']\n",
      "['Python (genus)', 'https://en.wikipedia.org/wiki/Python_(genus)']\n",
      "['Python (mythology)', 'https://en.wikipedia.org/wiki/Python_(mythology)']\n",
      "['Python (programming language)', 'https://en.wikipedia.org/wiki/Python_(programming_language)']\n",
      "['CMU Common Lisp', 'https://en.wikipedia.org/wiki/CMU_Common_Lisp']\n",
      "['PERQ 3', 'https://en.wikipedia.org/wiki/PERQ#PERQ_3']\n",
      "['Python of Aenus', 'https://en.wikipedia.org/wiki/Python_of_Aenus']\n",
      "['Python (painter)', 'https://en.wikipedia.org/wiki/Python_(painter)']\n",
      "['Python of Byzantium', 'https://en.wikipedia.org/wiki/Python_of_Byzantium']\n",
      "['Python of Catana', 'https://en.wikipedia.org/wiki/Python_of_Catana']\n",
      "['Python Anghelo', 'https://en.wikipedia.org/wiki/Python_Anghelo']\n",
      "['Python (Efteling)', 'https://en.wikipedia.org/wiki/Python_(Efteling)']\n",
      "['Python (Busch Gardens Tampa Bay)', 'https://en.wikipedia.org/wiki/Python_(Busch_Gardens_Tampa_Bay)']\n",
      "['Python (Coney Island, Cincinnati, Ohio)', 'https://en.wikipedia.org/wiki/Python_(Coney_Island,_Cincinnati,_Ohio)']\n",
      "['Python (automobile maker)', 'https://en.wikipedia.org/wiki/Python_(automobile_maker)']\n",
      "['Python (Ford prototype)', 'https://en.wikipedia.org/wiki/Python_(Ford_prototype)']\n",
      "['Python (missile)', 'https://en.wikipedia.org/wiki/Python_(missile)']\n",
      "['Python (nuclear primary)', 'https://en.wikipedia.org/wiki/Python_(nuclear_primary)']\n",
      "['Colt Python', 'https://en.wikipedia.org/wiki/Colt_Python']\n",
      "['Python (codename)', 'https://en.wikipedia.org/wiki/Python_(codename)']\n",
      "['Python (film)', 'https://en.wikipedia.org/wiki/Python_(film)']\n",
      "['Monty Python', 'https://en.wikipedia.org/wiki/Monty_Python']\n",
      "['Python (Monty) Pictures', 'https://en.wikipedia.org/wiki/Python_(Monty)_Pictures']\n",
      "['Timon of Phlius', 'https://en.wikipedia.org/wiki/Timon_of_Phlius']\n",
      "['Pyton', 'https://en.wikipedia.org/wiki/Pyton']\n",
      "['Pithon', 'https://en.wikipedia.org/wiki/Pithon']\n"
     ]
    }
   ],
   "source": [
    "for i in zip(l1,l2):\n",
    "    print(list(i))"
   ]
  },
  {
   "cell_type": "code",
   "execution_count": 243,
   "id": "34052055",
   "metadata": {},
   "outputs": [
    {
     "data": {
      "text/plain": [
       "'https://en.wikipedia.org/wiki/Pythonidae'"
      ]
     },
     "execution_count": 243,
     "metadata": {},
     "output_type": "execute_result"
    }
   ],
   "source": [
    "elements[0].get_attribute('href')"
   ]
  },
  {
   "cell_type": "code",
   "execution_count": 235,
   "id": "e3cd7cd1",
   "metadata": {},
   "outputs": [
    {
     "name": "stdout",
     "output_type": "stream",
     "text": [
      "Pythonidae\n",
      "Python (genus)\n",
      "Python (mythology)\n",
      "Python (programming language)\n",
      "CMU Common Lisp\n",
      "PERQ\n",
      "Python of Aenus\n",
      "Python (painter)\n",
      "Python of Byzantium\n",
      "Python of Catana\n",
      "Python Anghelo\n",
      "Python (Efteling)\n",
      "Python (Busch Gardens Tampa Bay)\n",
      "Python (Coney Island, Cincinnati, Ohio)\n",
      "Python (automobile maker)\n",
      "Python (Ford prototype)\n",
      "Python (missile)\n",
      "Python (nuclear primary)\n",
      "Colt Python\n",
      "Python (codename)\n",
      "Python (film)\n",
      "Monty Python\n",
      "Python (Monty) Pictures\n",
      "Timon of Phlius\n",
      "Pyton\n",
      "Pithon\n"
     ]
    }
   ],
   "source": [
    "for i in elements:\n",
    "    print(i.get_attribute('title'))"
   ]
  },
  {
   "cell_type": "code",
   "execution_count": 241,
   "id": "8974b2ae",
   "metadata": {},
   "outputs": [
    {
     "data": {
      "text/plain": [
       "<selenium.webdriver.remote.webelement.WebElement (session=\"227bab6f5607f060038eabb0bd4d0de8\", element=\"f.A7DEE51B1CA65463568604EA4ED7D26E.d.440D8C9DE3DD7F486139189453BACAFD.e.708\")>"
      ]
     },
     "execution_count": 241,
     "metadata": {},
     "output_type": "execute_result"
    }
   ],
   "source": [
    "elements[0]"
   ]
  },
  {
   "cell_type": "code",
   "execution_count": 27,
   "id": "acbe8057",
   "metadata": {},
   "outputs": [],
   "source": [
    "list_of_elements = driver.find_elements(By.CSS_SELECTOR,'ul.vector-menu-content-list')"
   ]
  },
  {
   "cell_type": "code",
   "execution_count": 28,
   "id": "43fb389a",
   "metadata": {},
   "outputs": [
    {
     "data": {
      "text/plain": [
       "16"
      ]
     },
     "execution_count": 28,
     "metadata": {},
     "output_type": "execute_result"
    }
   ],
   "source": [
    "len(list_of_elements)"
   ]
  },
  {
   "cell_type": "code",
   "execution_count": 40,
   "id": "5b1c9958",
   "metadata": {},
   "outputs": [
    {
     "name": "stdout",
     "output_type": "stream",
     "text": [
      "[<selenium.webdriver.remote.webelement.WebElement (session=\"227bab6f5607f060038eabb0bd4d0de8\", element=\"f.A7DEE51B1CA65463568604EA4ED7D26E.d.440D8C9DE3DD7F486139189453BACAFD.e.204\")>, <selenium.webdriver.remote.webelement.WebElement (session=\"227bab6f5607f060038eabb0bd4d0de8\", element=\"f.A7DEE51B1CA65463568604EA4ED7D26E.d.440D8C9DE3DD7F486139189453BACAFD.e.207\")>, <selenium.webdriver.remote.webelement.WebElement (session=\"227bab6f5607f060038eabb0bd4d0de8\", element=\"f.A7DEE51B1CA65463568604EA4ED7D26E.d.440D8C9DE3DD7F486139189453BACAFD.e.210\")>, <selenium.webdriver.remote.webelement.WebElement (session=\"227bab6f5607f060038eabb0bd4d0de8\", element=\"f.A7DEE51B1CA65463568604EA4ED7D26E.d.440D8C9DE3DD7F486139189453BACAFD.e.213\")>, <selenium.webdriver.remote.webelement.WebElement (session=\"227bab6f5607f060038eabb0bd4d0de8\", element=\"f.A7DEE51B1CA65463568604EA4ED7D26E.d.440D8C9DE3DD7F486139189453BACAFD.e.216\")>, <selenium.webdriver.remote.webelement.WebElement (session=\"227bab6f5607f060038eabb0bd4d0de8\", element=\"f.A7DEE51B1CA65463568604EA4ED7D26E.d.440D8C9DE3DD7F486139189453BACAFD.e.219\")>, <selenium.webdriver.remote.webelement.WebElement (session=\"227bab6f5607f060038eabb0bd4d0de8\", element=\"f.A7DEE51B1CA65463568604EA4ED7D26E.d.440D8C9DE3DD7F486139189453BACAFD.e.222\")>]\n",
      "[<selenium.webdriver.remote.webelement.WebElement (session=\"227bab6f5607f060038eabb0bd4d0de8\", element=\"f.A7DEE51B1CA65463568604EA4ED7D26E.d.440D8C9DE3DD7F486139189453BACAFD.e.228\")>, <selenium.webdriver.remote.webelement.WebElement (session=\"227bab6f5607f060038eabb0bd4d0de8\", element=\"f.A7DEE51B1CA65463568604EA4ED7D26E.d.440D8C9DE3DD7F486139189453BACAFD.e.231\")>, <selenium.webdriver.remote.webelement.WebElement (session=\"227bab6f5607f060038eabb0bd4d0de8\", element=\"f.A7DEE51B1CA65463568604EA4ED7D26E.d.440D8C9DE3DD7F486139189453BACAFD.e.234\")>, <selenium.webdriver.remote.webelement.WebElement (session=\"227bab6f5607f060038eabb0bd4d0de8\", element=\"f.A7DEE51B1CA65463568604EA4ED7D26E.d.440D8C9DE3DD7F486139189453BACAFD.e.237\")>, <selenium.webdriver.remote.webelement.WebElement (session=\"227bab6f5607f060038eabb0bd4d0de8\", element=\"f.A7DEE51B1CA65463568604EA4ED7D26E.d.440D8C9DE3DD7F486139189453BACAFD.e.240\")>]\n",
      "[]\n",
      "[]\n",
      "[]\n",
      "[<selenium.webdriver.remote.webelement.WebElement (session=\"227bab6f5607f060038eabb0bd4d0de8\", element=\"f.A7DEE51B1CA65463568604EA4ED7D26E.d.440D8C9DE3DD7F486139189453BACAFD.e.575\")>, <selenium.webdriver.remote.webelement.WebElement (session=\"227bab6f5607f060038eabb0bd4d0de8\", element=\"f.A7DEE51B1CA65463568604EA4ED7D26E.d.440D8C9DE3DD7F486139189453BACAFD.e.576\")>]\n",
      "[<selenium.webdriver.remote.webelement.WebElement (session=\"227bab6f5607f060038eabb0bd4d0de8\", element=\"f.A7DEE51B1CA65463568604EA4ED7D26E.d.440D8C9DE3DD7F486139189453BACAFD.e.256\")>, <selenium.webdriver.remote.webelement.WebElement (session=\"227bab6f5607f060038eabb0bd4d0de8\", element=\"f.A7DEE51B1CA65463568604EA4ED7D26E.d.440D8C9DE3DD7F486139189453BACAFD.e.260\")>]\n",
      "[<selenium.webdriver.remote.webelement.WebElement (session=\"227bab6f5607f060038eabb0bd4d0de8\", element=\"f.A7DEE51B1CA65463568604EA4ED7D26E.d.440D8C9DE3DD7F486139189453BACAFD.e.269\")>, <selenium.webdriver.remote.webelement.WebElement (session=\"227bab6f5607f060038eabb0bd4d0de8\", element=\"f.A7DEE51B1CA65463568604EA4ED7D26E.d.440D8C9DE3DD7F486139189453BACAFD.e.272\")>]\n",
      "[<selenium.webdriver.remote.webelement.WebElement (session=\"227bab6f5607f060038eabb0bd4d0de8\", element=\"f.A7DEE51B1CA65463568604EA4ED7D26E.d.440D8C9DE3DD7F486139189453BACAFD.e.315\")>, <selenium.webdriver.remote.webelement.WebElement (session=\"227bab6f5607f060038eabb0bd4d0de8\", element=\"f.A7DEE51B1CA65463568604EA4ED7D26E.d.440D8C9DE3DD7F486139189453BACAFD.e.317\")>, <selenium.webdriver.remote.webelement.WebElement (session=\"227bab6f5607f060038eabb0bd4d0de8\", element=\"f.A7DEE51B1CA65463568604EA4ED7D26E.d.440D8C9DE3DD7F486139189453BACAFD.e.319\")>, <selenium.webdriver.remote.webelement.WebElement (session=\"227bab6f5607f060038eabb0bd4d0de8\", element=\"f.A7DEE51B1CA65463568604EA4ED7D26E.d.440D8C9DE3DD7F486139189453BACAFD.e.321\")>, <selenium.webdriver.remote.webelement.WebElement (session=\"227bab6f5607f060038eabb0bd4d0de8\", element=\"f.A7DEE51B1CA65463568604EA4ED7D26E.d.440D8C9DE3DD7F486139189453BACAFD.e.323\")>, <selenium.webdriver.remote.webelement.WebElement (session=\"227bab6f5607f060038eabb0bd4d0de8\", element=\"f.A7DEE51B1CA65463568604EA4ED7D26E.d.440D8C9DE3DD7F486139189453BACAFD.e.325\")>, <selenium.webdriver.remote.webelement.WebElement (session=\"227bab6f5607f060038eabb0bd4d0de8\", element=\"f.A7DEE51B1CA65463568604EA4ED7D26E.d.440D8C9DE3DD7F486139189453BACAFD.e.327\")>, <selenium.webdriver.remote.webelement.WebElement (session=\"227bab6f5607f060038eabb0bd4d0de8\", element=\"f.A7DEE51B1CA65463568604EA4ED7D26E.d.440D8C9DE3DD7F486139189453BACAFD.e.329\")>, <selenium.webdriver.remote.webelement.WebElement (session=\"227bab6f5607f060038eabb0bd4d0de8\", element=\"f.A7DEE51B1CA65463568604EA4ED7D26E.d.440D8C9DE3DD7F486139189453BACAFD.e.331\")>, <selenium.webdriver.remote.webelement.WebElement (session=\"227bab6f5607f060038eabb0bd4d0de8\", element=\"f.A7DEE51B1CA65463568604EA4ED7D26E.d.440D8C9DE3DD7F486139189453BACAFD.e.333\")>, <selenium.webdriver.remote.webelement.WebElement (session=\"227bab6f5607f060038eabb0bd4d0de8\", element=\"f.A7DEE51B1CA65463568604EA4ED7D26E.d.440D8C9DE3DD7F486139189453BACAFD.e.335\")>, <selenium.webdriver.remote.webelement.WebElement (session=\"227bab6f5607f060038eabb0bd4d0de8\", element=\"f.A7DEE51B1CA65463568604EA4ED7D26E.d.440D8C9DE3DD7F486139189453BACAFD.e.337\")>, <selenium.webdriver.remote.webelement.WebElement (session=\"227bab6f5607f060038eabb0bd4d0de8\", element=\"f.A7DEE51B1CA65463568604EA4ED7D26E.d.440D8C9DE3DD7F486139189453BACAFD.e.339\")>, <selenium.webdriver.remote.webelement.WebElement (session=\"227bab6f5607f060038eabb0bd4d0de8\", element=\"f.A7DEE51B1CA65463568604EA4ED7D26E.d.440D8C9DE3DD7F486139189453BACAFD.e.341\")>, <selenium.webdriver.remote.webelement.WebElement (session=\"227bab6f5607f060038eabb0bd4d0de8\", element=\"f.A7DEE51B1CA65463568604EA4ED7D26E.d.440D8C9DE3DD7F486139189453BACAFD.e.343\")>, <selenium.webdriver.remote.webelement.WebElement (session=\"227bab6f5607f060038eabb0bd4d0de8\", element=\"f.A7DEE51B1CA65463568604EA4ED7D26E.d.440D8C9DE3DD7F486139189453BACAFD.e.345\")>, <selenium.webdriver.remote.webelement.WebElement (session=\"227bab6f5607f060038eabb0bd4d0de8\", element=\"f.A7DEE51B1CA65463568604EA4ED7D26E.d.440D8C9DE3DD7F486139189453BACAFD.e.347\")>, <selenium.webdriver.remote.webelement.WebElement (session=\"227bab6f5607f060038eabb0bd4d0de8\", element=\"f.A7DEE51B1CA65463568604EA4ED7D26E.d.440D8C9DE3DD7F486139189453BACAFD.e.349\")>, <selenium.webdriver.remote.webelement.WebElement (session=\"227bab6f5607f060038eabb0bd4d0de8\", element=\"f.A7DEE51B1CA65463568604EA4ED7D26E.d.440D8C9DE3DD7F486139189453BACAFD.e.351\")>, <selenium.webdriver.remote.webelement.WebElement (session=\"227bab6f5607f060038eabb0bd4d0de8\", element=\"f.A7DEE51B1CA65463568604EA4ED7D26E.d.440D8C9DE3DD7F486139189453BACAFD.e.353\")>, <selenium.webdriver.remote.webelement.WebElement (session=\"227bab6f5607f060038eabb0bd4d0de8\", element=\"f.A7DEE51B1CA65463568604EA4ED7D26E.d.440D8C9DE3DD7F486139189453BACAFD.e.355\")>, <selenium.webdriver.remote.webelement.WebElement (session=\"227bab6f5607f060038eabb0bd4d0de8\", element=\"f.A7DEE51B1CA65463568604EA4ED7D26E.d.440D8C9DE3DD7F486139189453BACAFD.e.357\")>, <selenium.webdriver.remote.webelement.WebElement (session=\"227bab6f5607f060038eabb0bd4d0de8\", element=\"f.A7DEE51B1CA65463568604EA4ED7D26E.d.440D8C9DE3DD7F486139189453BACAFD.e.359\")>, <selenium.webdriver.remote.webelement.WebElement (session=\"227bab6f5607f060038eabb0bd4d0de8\", element=\"f.A7DEE51B1CA65463568604EA4ED7D26E.d.440D8C9DE3DD7F486139189453BACAFD.e.361\")>, <selenium.webdriver.remote.webelement.WebElement (session=\"227bab6f5607f060038eabb0bd4d0de8\", element=\"f.A7DEE51B1CA65463568604EA4ED7D26E.d.440D8C9DE3DD7F486139189453BACAFD.e.363\")>, <selenium.webdriver.remote.webelement.WebElement (session=\"227bab6f5607f060038eabb0bd4d0de8\", element=\"f.A7DEE51B1CA65463568604EA4ED7D26E.d.440D8C9DE3DD7F486139189453BACAFD.e.365\")>, <selenium.webdriver.remote.webelement.WebElement (session=\"227bab6f5607f060038eabb0bd4d0de8\", element=\"f.A7DEE51B1CA65463568604EA4ED7D26E.d.440D8C9DE3DD7F486139189453BACAFD.e.367\")>, <selenium.webdriver.remote.webelement.WebElement (session=\"227bab6f5607f060038eabb0bd4d0de8\", element=\"f.A7DEE51B1CA65463568604EA4ED7D26E.d.440D8C9DE3DD7F486139189453BACAFD.e.369\")>, <selenium.webdriver.remote.webelement.WebElement (session=\"227bab6f5607f060038eabb0bd4d0de8\", element=\"f.A7DEE51B1CA65463568604EA4ED7D26E.d.440D8C9DE3DD7F486139189453BACAFD.e.371\")>, <selenium.webdriver.remote.webelement.WebElement (session=\"227bab6f5607f060038eabb0bd4d0de8\", element=\"f.A7DEE51B1CA65463568604EA4ED7D26E.d.440D8C9DE3DD7F486139189453BACAFD.e.373\")>, <selenium.webdriver.remote.webelement.WebElement (session=\"227bab6f5607f060038eabb0bd4d0de8\", element=\"f.A7DEE51B1CA65463568604EA4ED7D26E.d.440D8C9DE3DD7F486139189453BACAFD.e.375\")>, <selenium.webdriver.remote.webelement.WebElement (session=\"227bab6f5607f060038eabb0bd4d0de8\", element=\"f.A7DEE51B1CA65463568604EA4ED7D26E.d.440D8C9DE3DD7F486139189453BACAFD.e.377\")>, <selenium.webdriver.remote.webelement.WebElement (session=\"227bab6f5607f060038eabb0bd4d0de8\", element=\"f.A7DEE51B1CA65463568604EA4ED7D26E.d.440D8C9DE3DD7F486139189453BACAFD.e.379\")>, <selenium.webdriver.remote.webelement.WebElement (session=\"227bab6f5607f060038eabb0bd4d0de8\", element=\"f.A7DEE51B1CA65463568604EA4ED7D26E.d.440D8C9DE3DD7F486139189453BACAFD.e.381\")>, <selenium.webdriver.remote.webelement.WebElement (session=\"227bab6f5607f060038eabb0bd4d0de8\", element=\"f.A7DEE51B1CA65463568604EA4ED7D26E.d.440D8C9DE3DD7F486139189453BACAFD.e.383\")>, <selenium.webdriver.remote.webelement.WebElement (session=\"227bab6f5607f060038eabb0bd4d0de8\", element=\"f.A7DEE51B1CA65463568604EA4ED7D26E.d.440D8C9DE3DD7F486139189453BACAFD.e.385\")>, <selenium.webdriver.remote.webelement.WebElement (session=\"227bab6f5607f060038eabb0bd4d0de8\", element=\"f.A7DEE51B1CA65463568604EA4ED7D26E.d.440D8C9DE3DD7F486139189453BACAFD.e.387\")>, <selenium.webdriver.remote.webelement.WebElement (session=\"227bab6f5607f060038eabb0bd4d0de8\", element=\"f.A7DEE51B1CA65463568604EA4ED7D26E.d.440D8C9DE3DD7F486139189453BACAFD.e.389\")>, <selenium.webdriver.remote.webelement.WebElement (session=\"227bab6f5607f060038eabb0bd4d0de8\", element=\"f.A7DEE51B1CA65463568604EA4ED7D26E.d.440D8C9DE3DD7F486139189453BACAFD.e.391\")>, <selenium.webdriver.remote.webelement.WebElement (session=\"227bab6f5607f060038eabb0bd4d0de8\", element=\"f.A7DEE51B1CA65463568604EA4ED7D26E.d.440D8C9DE3DD7F486139189453BACAFD.e.393\")>, <selenium.webdriver.remote.webelement.WebElement (session=\"227bab6f5607f060038eabb0bd4d0de8\", element=\"f.A7DEE51B1CA65463568604EA4ED7D26E.d.440D8C9DE3DD7F486139189453BACAFD.e.395\")>, <selenium.webdriver.remote.webelement.WebElement (session=\"227bab6f5607f060038eabb0bd4d0de8\", element=\"f.A7DEE51B1CA65463568604EA4ED7D26E.d.440D8C9DE3DD7F486139189453BACAFD.e.397\")>, <selenium.webdriver.remote.webelement.WebElement (session=\"227bab6f5607f060038eabb0bd4d0de8\", element=\"f.A7DEE51B1CA65463568604EA4ED7D26E.d.440D8C9DE3DD7F486139189453BACAFD.e.399\")>, <selenium.webdriver.remote.webelement.WebElement (session=\"227bab6f5607f060038eabb0bd4d0de8\", element=\"f.A7DEE51B1CA65463568604EA4ED7D26E.d.440D8C9DE3DD7F486139189453BACAFD.e.401\")>, <selenium.webdriver.remote.webelement.WebElement (session=\"227bab6f5607f060038eabb0bd4d0de8\", element=\"f.A7DEE51B1CA65463568604EA4ED7D26E.d.440D8C9DE3DD7F486139189453BACAFD.e.403\")>, <selenium.webdriver.remote.webelement.WebElement (session=\"227bab6f5607f060038eabb0bd4d0de8\", element=\"f.A7DEE51B1CA65463568604EA4ED7D26E.d.440D8C9DE3DD7F486139189453BACAFD.e.405\")>]\n",
      "[<selenium.webdriver.remote.webelement.WebElement (session=\"227bab6f5607f060038eabb0bd4d0de8\", element=\"f.A7DEE51B1CA65463568604EA4ED7D26E.d.440D8C9DE3DD7F486139189453BACAFD.e.819\")>, <selenium.webdriver.remote.webelement.WebElement (session=\"227bab6f5607f060038eabb0bd4d0de8\", element=\"f.A7DEE51B1CA65463568604EA4ED7D26E.d.440D8C9DE3DD7F486139189453BACAFD.e.820\")>]\n",
      "[]\n",
      "[<selenium.webdriver.remote.webelement.WebElement (session=\"227bab6f5607f060038eabb0bd4d0de8\", element=\"f.A7DEE51B1CA65463568604EA4ED7D26E.d.440D8C9DE3DD7F486139189453BACAFD.e.821\")>, <selenium.webdriver.remote.webelement.WebElement (session=\"227bab6f5607f060038eabb0bd4d0de8\", element=\"f.A7DEE51B1CA65463568604EA4ED7D26E.d.440D8C9DE3DD7F486139189453BACAFD.e.822\")>, <selenium.webdriver.remote.webelement.WebElement (session=\"227bab6f5607f060038eabb0bd4d0de8\", element=\"f.A7DEE51B1CA65463568604EA4ED7D26E.d.440D8C9DE3DD7F486139189453BACAFD.e.823\")>]\n",
      "[<selenium.webdriver.remote.webelement.WebElement (session=\"227bab6f5607f060038eabb0bd4d0de8\", element=\"f.A7DEE51B1CA65463568604EA4ED7D26E.d.440D8C9DE3DD7F486139189453BACAFD.e.641\")>, <selenium.webdriver.remote.webelement.WebElement (session=\"227bab6f5607f060038eabb0bd4d0de8\", element=\"f.A7DEE51B1CA65463568604EA4ED7D26E.d.440D8C9DE3DD7F486139189453BACAFD.e.644\")>, <selenium.webdriver.remote.webelement.WebElement (session=\"227bab6f5607f060038eabb0bd4d0de8\", element=\"f.A7DEE51B1CA65463568604EA4ED7D26E.d.440D8C9DE3DD7F486139189453BACAFD.e.647\")>]\n",
      "[<selenium.webdriver.remote.webelement.WebElement (session=\"227bab6f5607f060038eabb0bd4d0de8\", element=\"f.A7DEE51B1CA65463568604EA4ED7D26E.d.440D8C9DE3DD7F486139189453BACAFD.e.653\")>, <selenium.webdriver.remote.webelement.WebElement (session=\"227bab6f5607f060038eabb0bd4d0de8\", element=\"f.A7DEE51B1CA65463568604EA4ED7D26E.d.440D8C9DE3DD7F486139189453BACAFD.e.656\")>, <selenium.webdriver.remote.webelement.WebElement (session=\"227bab6f5607f060038eabb0bd4d0de8\", element=\"f.A7DEE51B1CA65463568604EA4ED7D26E.d.440D8C9DE3DD7F486139189453BACAFD.e.659\")>, <selenium.webdriver.remote.webelement.WebElement (session=\"227bab6f5607f060038eabb0bd4d0de8\", element=\"f.A7DEE51B1CA65463568604EA4ED7D26E.d.440D8C9DE3DD7F486139189453BACAFD.e.662\")>, <selenium.webdriver.remote.webelement.WebElement (session=\"227bab6f5607f060038eabb0bd4d0de8\", element=\"f.A7DEE51B1CA65463568604EA4ED7D26E.d.440D8C9DE3DD7F486139189453BACAFD.e.665\")>, <selenium.webdriver.remote.webelement.WebElement (session=\"227bab6f5607f060038eabb0bd4d0de8\", element=\"f.A7DEE51B1CA65463568604EA4ED7D26E.d.440D8C9DE3DD7F486139189453BACAFD.e.668\")>, <selenium.webdriver.remote.webelement.WebElement (session=\"227bab6f5607f060038eabb0bd4d0de8\", element=\"f.A7DEE51B1CA65463568604EA4ED7D26E.d.440D8C9DE3DD7F486139189453BACAFD.e.671\")>, <selenium.webdriver.remote.webelement.WebElement (session=\"227bab6f5607f060038eabb0bd4d0de8\", element=\"f.A7DEE51B1CA65463568604EA4ED7D26E.d.440D8C9DE3DD7F486139189453BACAFD.e.674\")>, <selenium.webdriver.remote.webelement.WebElement (session=\"227bab6f5607f060038eabb0bd4d0de8\", element=\"f.A7DEE51B1CA65463568604EA4ED7D26E.d.440D8C9DE3DD7F486139189453BACAFD.e.677\")>, <selenium.webdriver.remote.webelement.WebElement (session=\"227bab6f5607f060038eabb0bd4d0de8\", element=\"f.A7DEE51B1CA65463568604EA4ED7D26E.d.440D8C9DE3DD7F486139189453BACAFD.e.680\")>, <selenium.webdriver.remote.webelement.WebElement (session=\"227bab6f5607f060038eabb0bd4d0de8\", element=\"f.A7DEE51B1CA65463568604EA4ED7D26E.d.440D8C9DE3DD7F486139189453BACAFD.e.683\")>]\n",
      "[<selenium.webdriver.remote.webelement.WebElement (session=\"227bab6f5607f060038eabb0bd4d0de8\", element=\"f.A7DEE51B1CA65463568604EA4ED7D26E.d.440D8C9DE3DD7F486139189453BACAFD.e.689\")>, <selenium.webdriver.remote.webelement.WebElement (session=\"227bab6f5607f060038eabb0bd4d0de8\", element=\"f.A7DEE51B1CA65463568604EA4ED7D26E.d.440D8C9DE3DD7F486139189453BACAFD.e.692\")>]\n",
      "[<selenium.webdriver.remote.webelement.WebElement (session=\"227bab6f5607f060038eabb0bd4d0de8\", element=\"f.A7DEE51B1CA65463568604EA4ED7D26E.d.440D8C9DE3DD7F486139189453BACAFD.e.698\")>]\n"
     ]
    },
    {
     "data": {
      "text/plain": [
       "[None,\n",
       " None,\n",
       " None,\n",
       " None,\n",
       " None,\n",
       " None,\n",
       " None,\n",
       " None,\n",
       " None,\n",
       " None,\n",
       " None,\n",
       " None,\n",
       " None,\n",
       " None,\n",
       " None,\n",
       " None]"
      ]
     },
     "execution_count": 40,
     "metadata": {},
     "output_type": "execute_result"
    }
   ],
   "source": [
    "[print(i.find_elements(By.TAG_NAME,'li'))  for i in list_of_elements]"
   ]
  },
  {
   "cell_type": "code",
   "execution_count": 49,
   "id": "8af4bfbc",
   "metadata": {},
   "outputs": [
    {
     "data": {
      "text/plain": [
       "<selenium.webdriver.remote.webelement.WebElement (session=\"227bab6f5607f060038eabb0bd4d0de8\", element=\"f.A7DEE51B1CA65463568604EA4ED7D26E.d.440D8C9DE3DD7F486139189453BACAFD.e.204\")>"
      ]
     },
     "execution_count": 49,
     "metadata": {},
     "output_type": "execute_result"
    }
   ],
   "source": [
    "list_of_elements[0].find_element(By.TAG_NAME,'li')"
   ]
  },
  {
   "cell_type": "code",
   "execution_count": 266,
   "id": "f1b3ca49",
   "metadata": {},
   "outputs": [],
   "source": [
    "driver.quit()"
   ]
  },
  {
   "cell_type": "code",
   "execution_count": 267,
   "id": "6365ccb8",
   "metadata": {},
   "outputs": [
    {
     "data": {
      "text/plain": [
       "['Pythonidae',\n",
       " 'Python (genus)',\n",
       " 'Python (mythology)',\n",
       " 'Python (programming language)',\n",
       " 'CMU Common Lisp',\n",
       " 'PERQ 3',\n",
       " 'Python of Aenus',\n",
       " 'Python (painter)',\n",
       " 'Python of Byzantium',\n",
       " 'Python of Catana',\n",
       " 'Python Anghelo',\n",
       " 'Python (Efteling)',\n",
       " 'Python (Busch Gardens Tampa Bay)',\n",
       " 'Python (Coney Island, Cincinnati, Ohio)',\n",
       " 'Python (automobile maker)',\n",
       " 'Python (Ford prototype)',\n",
       " 'Python (missile)',\n",
       " 'Python (nuclear primary)',\n",
       " 'Colt Python',\n",
       " 'Python (codename)',\n",
       " 'Python (film)',\n",
       " 'Monty Python',\n",
       " 'Python (Monty) Pictures',\n",
       " 'Timon of Phlius',\n",
       " 'Pyton',\n",
       " 'Pithon']"
      ]
     },
     "execution_count": 267,
     "metadata": {},
     "output_type": "execute_result"
    }
   ],
   "source": [
    "l1"
   ]
  },
  {
   "cell_type": "code",
   "execution_count": 268,
   "id": "fbbb73db",
   "metadata": {},
   "outputs": [],
   "source": [
    "l3 ={}"
   ]
  },
  {
   "cell_type": "code",
   "execution_count": 273,
   "id": "4e21856c",
   "metadata": {},
   "outputs": [],
   "source": [
    "l3 = dict(zip(l1,l2))"
   ]
  },
  {
   "cell_type": "code",
   "execution_count": 274,
   "id": "60eb7080",
   "metadata": {
    "scrolled": true
   },
   "outputs": [
    {
     "data": {
      "text/plain": [
       "{'Pythonidae': 'https://en.wikipedia.org/wiki/Pythonidae',\n",
       " 'Python (genus)': 'https://en.wikipedia.org/wiki/Python_(genus)',\n",
       " 'Python (mythology)': 'https://en.wikipedia.org/wiki/Python_(mythology)',\n",
       " 'Python (programming language)': 'https://en.wikipedia.org/wiki/Python_(programming_language)',\n",
       " 'CMU Common Lisp': 'https://en.wikipedia.org/wiki/CMU_Common_Lisp',\n",
       " 'PERQ 3': 'https://en.wikipedia.org/wiki/PERQ#PERQ_3',\n",
       " 'Python of Aenus': 'https://en.wikipedia.org/wiki/Python_of_Aenus',\n",
       " 'Python (painter)': 'https://en.wikipedia.org/wiki/Python_(painter)',\n",
       " 'Python of Byzantium': 'https://en.wikipedia.org/wiki/Python_of_Byzantium',\n",
       " 'Python of Catana': 'https://en.wikipedia.org/wiki/Python_of_Catana',\n",
       " 'Python Anghelo': 'https://en.wikipedia.org/wiki/Python_Anghelo',\n",
       " 'Python (Efteling)': 'https://en.wikipedia.org/wiki/Python_(Efteling)',\n",
       " 'Python (Busch Gardens Tampa Bay)': 'https://en.wikipedia.org/wiki/Python_(Busch_Gardens_Tampa_Bay)',\n",
       " 'Python (Coney Island, Cincinnati, Ohio)': 'https://en.wikipedia.org/wiki/Python_(Coney_Island,_Cincinnati,_Ohio)',\n",
       " 'Python (automobile maker)': 'https://en.wikipedia.org/wiki/Python_(automobile_maker)',\n",
       " 'Python (Ford prototype)': 'https://en.wikipedia.org/wiki/Python_(Ford_prototype)',\n",
       " 'Python (missile)': 'https://en.wikipedia.org/wiki/Python_(missile)',\n",
       " 'Python (nuclear primary)': 'https://en.wikipedia.org/wiki/Python_(nuclear_primary)',\n",
       " 'Colt Python': 'https://en.wikipedia.org/wiki/Colt_Python',\n",
       " 'Python (codename)': 'https://en.wikipedia.org/wiki/Python_(codename)',\n",
       " 'Python (film)': 'https://en.wikipedia.org/wiki/Python_(film)',\n",
       " 'Monty Python': 'https://en.wikipedia.org/wiki/Monty_Python',\n",
       " 'Python (Monty) Pictures': 'https://en.wikipedia.org/wiki/Python_(Monty)_Pictures',\n",
       " 'Timon of Phlius': 'https://en.wikipedia.org/wiki/Timon_of_Phlius',\n",
       " 'Pyton': 'https://en.wikipedia.org/wiki/Pyton',\n",
       " 'Pithon': 'https://en.wikipedia.org/wiki/Pithon'}"
      ]
     },
     "execution_count": 274,
     "metadata": {},
     "output_type": "execute_result"
    }
   ],
   "source": [
    "l3"
   ]
  },
  {
   "cell_type": "code",
   "execution_count": null,
   "id": "9974a9a1",
   "metadata": {},
   "outputs": [],
   "source": []
  }
 ],
 "metadata": {
  "kernelspec": {
   "display_name": "Python 3 (ipykernel)",
   "language": "python",
   "name": "python3"
  },
  "language_info": {
   "codemirror_mode": {
    "name": "ipython",
    "version": 3
   },
   "file_extension": ".py",
   "mimetype": "text/x-python",
   "name": "python",
   "nbconvert_exporter": "python",
   "pygments_lexer": "ipython3",
   "version": "3.11.5"
  }
 },
 "nbformat": 4,
 "nbformat_minor": 5
}
