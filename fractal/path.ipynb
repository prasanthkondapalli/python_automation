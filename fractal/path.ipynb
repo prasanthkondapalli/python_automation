{
 "cells": [
  {
   "cell_type": "code",
   "execution_count": 3,
   "id": "41f15ade",
   "metadata": {},
   "outputs": [],
   "source": [
    "driver_path = '/home/thrymr/Downloads/chrome_driver/chromedriver-linux64/chromedriver'"
   ]
  },
  {
   "cell_type": "code",
   "execution_count": 2,
   "id": "fab9eb10",
   "metadata": {},
   "outputs": [],
   "source": [
    "anonymous_login_url = 'https://fractal360.in/anonymous-login'"
   ]
  },
  {
   "cell_type": "code",
   "execution_count": 1,
   "id": "40ed86c6",
   "metadata": {},
   "outputs": [],
   "source": [
    "admin_hr_login_urls = 'https://fractal360.in/admin/sign-in'"
   ]
  },
  {
   "cell_type": "code",
   "execution_count": 4,
   "id": "77a7480b",
   "metadata": {},
   "outputs": [],
   "source": [
    "wekipedia_url = 'https://en.wikipedia.org/wiki/Python'"
   ]
  },
  {
   "cell_type": "code",
   "execution_count": null,
   "id": "90adfc59",
   "metadata": {},
   "outputs": [],
   "source": []
  }
 ],
 "metadata": {
  "kernelspec": {
   "display_name": "Python 3 (ipykernel)",
   "language": "python",
   "name": "python3"
  },
  "language_info": {
   "codemirror_mode": {
    "name": "ipython",
    "version": 3
   },
   "file_extension": ".py",
   "mimetype": "text/x-python",
   "name": "python",
   "nbconvert_exporter": "python",
   "pygments_lexer": "ipython3",
   "version": "3.11.5"
  }
 },
 "nbformat": 4,
 "nbformat_minor": 5
}
