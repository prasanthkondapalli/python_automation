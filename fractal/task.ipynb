{
 "cells": [
  {
   "cell_type": "code",
   "execution_count": 1,
   "id": "f9ccbf64",
   "metadata": {},
   "outputs": [],
   "source": [
    "from selenium.webdriver.chrome.service import Service\n",
    "from selenium import webdriver\n",
    "from selenium.webdriver.common.by import By\n"
   ]
  },
  {
   "cell_type": "code",
   "execution_count": 2,
   "id": "0addb2ca",
   "metadata": {},
   "outputs": [
    {
     "name": "stdout",
     "output_type": "stream",
     "text": [
      "importing Jupyter notebook from path.ipynb\n"
     ]
    }
   ],
   "source": [
    "import import_ipynb \n",
    "import path"
   ]
  },
  {
   "cell_type": "code",
   "execution_count": 3,
   "id": "12de2db0",
   "metadata": {},
   "outputs": [],
   "source": [
    "ser = Service(executable_path=path.driver_path)"
   ]
  },
  {
   "cell_type": "code",
   "execution_count": 4,
   "id": "45e63397",
   "metadata": {},
   "outputs": [],
   "source": [
    "from selenium.webdriver.support.ui import Select"
   ]
  },
  {
   "cell_type": "code",
   "execution_count": 5,
   "id": "9cd0555f",
   "metadata": {},
   "outputs": [],
   "source": [
    "driver = webdriver.Chrome(service=ser)"
   ]
  },
  {
   "cell_type": "code",
   "execution_count": 6,
   "id": "ff5eb4c4",
   "metadata": {},
   "outputs": [],
   "source": [
    "driver.get(path.radio_check_buttons)"
   ]
  },
  {
   "cell_type": "code",
   "execution_count": 7,
   "id": "3888fe77",
   "metadata": {},
   "outputs": [],
   "source": [
    "f_name = driver.find_element(By.XPATH,\"//input[@name='fname']\")\n",
    "l_name = driver.find_element(By.XPATH,\"//input[@name='lname']\")\n",
    "email = driver.find_element(By.XPATH,\"//input[@type='email']\")\n",
    "subject = driver.find_element(By.XPATH,\"(//input[@type='text'])[3]\")\n",
    "message = driver.find_element(By.TAG_NAME,'textarea')"
   ]
  },
  {
   "cell_type": "code",
   "execution_count": 8,
   "id": "4de9294c",
   "metadata": {},
   "outputs": [],
   "source": [
    "f_name.send_keys('Hi')\n",
    "l_name.send_keys('Lname')\n",
    "email.send_keys('a@b.com')\n",
    "subject.send_keys('Subject')\n",
    "message.send_keys('Message')"
   ]
  },
  {
   "cell_type": "code",
   "execution_count": 9,
   "id": "a1d24ec2",
   "metadata": {},
   "outputs": [],
   "source": [
    "checkboxes = driver.find_elements(By.XPATH,\"//fieldset[@class='form-item field checkbox']/div/label/input\")"
   ]
  },
  {
   "cell_type": "code",
   "execution_count": 10,
   "id": "4e78906c",
   "metadata": {},
   "outputs": [
    {
     "data": {
      "text/plain": [
       "2"
      ]
     },
     "execution_count": 10,
     "metadata": {},
     "output_type": "execute_result"
    }
   ],
   "source": [
    "len(checkboxes)"
   ]
  },
  {
   "cell_type": "code",
   "execution_count": 11,
   "id": "1b61ce0e",
   "metadata": {},
   "outputs": [],
   "source": [
    "for i in checkboxes:\n",
    "    i.click()"
   ]
  },
  {
   "cell_type": "code",
   "execution_count": 12,
   "id": "568a7135",
   "metadata": {},
   "outputs": [],
   "source": [
    "radio_buttons = driver.find_elements(By.XPATH,\"//div[@class='option']/label/span[@class='radio-label']\")"
   ]
  },
  {
   "cell_type": "code",
   "execution_count": 13,
   "id": "1d826d97",
   "metadata": {},
   "outputs": [
    {
     "data": {
      "text/plain": [
       "2"
      ]
     },
     "execution_count": 13,
     "metadata": {},
     "output_type": "execute_result"
    }
   ],
   "source": [
    "len(radio_buttons)"
   ]
  },
  {
   "cell_type": "code",
   "execution_count": 14,
   "id": "33deea71",
   "metadata": {},
   "outputs": [],
   "source": [
    "import time"
   ]
  },
  {
   "cell_type": "code",
   "execution_count": 15,
   "id": "22b93a00",
   "metadata": {},
   "outputs": [],
   "source": [
    "for i in radio_buttons:\n",
    "    i.click()\n",
    "    time.sleep(3)"
   ]
  },
  {
   "cell_type": "raw",
   "id": "5dc8560f",
   "metadata": {},
   "source": [
    "dropdown\n",
    "by using select method"
   ]
  },
  {
   "cell_type": "code",
   "execution_count": 16,
   "id": "c3078556",
   "metadata": {},
   "outputs": [],
   "source": [
    "dropdown_button_ele = driver.find_element(By.XPATH,\"//select[@id='select-e1f50715-c8a7-48eb-bc99-2c245676068c-field']\")"
   ]
  },
  {
   "cell_type": "code",
   "execution_count": 17,
   "id": "bddcc16e",
   "metadata": {},
   "outputs": [],
   "source": [
    "from selenium.webdriver.support.ui import Select"
   ]
  },
  {
   "cell_type": "code",
   "execution_count": 18,
   "id": "0c408811",
   "metadata": {},
   "outputs": [],
   "source": [
    "dropdown_button = Select(dropdown_button_ele)"
   ]
  },
  {
   "cell_type": "code",
   "execution_count": 19,
   "id": "69c82606",
   "metadata": {},
   "outputs": [],
   "source": [
    "dropdown_button.select_by_index(1)"
   ]
  },
  {
   "cell_type": "code",
   "execution_count": 20,
   "id": "e1c586ed",
   "metadata": {},
   "outputs": [],
   "source": [
    "dropdown_button.select_by_value('Google')"
   ]
  },
  {
   "cell_type": "code",
   "execution_count": 21,
   "id": "346d17fd",
   "metadata": {},
   "outputs": [
    {
     "data": {
      "text/plain": [
       "[<selenium.webdriver.remote.webelement.WebElement (session=\"aa5be9352d14f88bf5dd0744cddc07c9\", element=\"f.D6F7E3F20F8E11125AC59FF20A5CB71C.d.2D4675AA7736316725994DDB184BF39B.e.58\")>,\n",
       " <selenium.webdriver.remote.webelement.WebElement (session=\"aa5be9352d14f88bf5dd0744cddc07c9\", element=\"f.D6F7E3F20F8E11125AC59FF20A5CB71C.d.2D4675AA7736316725994DDB184BF39B.e.60\")>,\n",
       " <selenium.webdriver.remote.webelement.WebElement (session=\"aa5be9352d14f88bf5dd0744cddc07c9\", element=\"f.D6F7E3F20F8E11125AC59FF20A5CB71C.d.2D4675AA7736316725994DDB184BF39B.e.62\")>,\n",
       " <selenium.webdriver.remote.webelement.WebElement (session=\"aa5be9352d14f88bf5dd0744cddc07c9\", element=\"f.D6F7E3F20F8E11125AC59FF20A5CB71C.d.2D4675AA7736316725994DDB184BF39B.e.64\")>]"
      ]
     },
     "execution_count": 21,
     "metadata": {},
     "output_type": "execute_result"
    }
   ],
   "source": [
    "dropdown_button.options"
   ]
  },
  {
   "cell_type": "code",
   "execution_count": 22,
   "id": "07f8ab93",
   "metadata": {},
   "outputs": [],
   "source": [
    "dropdown_button.select_by_visible_text('Instagram')"
   ]
  },
  {
   "cell_type": "raw",
   "id": "928580d2",
   "metadata": {},
   "source": [
    "by using normal elements method."
   ]
  },
  {
   "cell_type": "code",
   "execution_count": 23,
   "id": "248dc7a6",
   "metadata": {},
   "outputs": [],
   "source": [
    "dropdown_button_elements = driver.find_elements(By.XPATH,\"//select[@id='select-e1f50715-c8a7-48eb-bc99-2c245676068c-field']/option\")"
   ]
  },
  {
   "cell_type": "code",
   "execution_count": 24,
   "id": "149d6b6e",
   "metadata": {},
   "outputs": [
    {
     "data": {
      "text/plain": [
       "4"
      ]
     },
     "execution_count": 24,
     "metadata": {},
     "output_type": "execute_result"
    }
   ],
   "source": [
    "len(dropdown_button_elements)"
   ]
  },
  {
   "cell_type": "code",
   "execution_count": 25,
   "id": "6c5fd11e",
   "metadata": {},
   "outputs": [],
   "source": [
    "dropdown_button_elements[3].click()"
   ]
  },
  {
   "cell_type": "code",
   "execution_count": 26,
   "id": "ef43ed07",
   "metadata": {},
   "outputs": [],
   "source": [
    "survey_radio_buttons_elememnts = driver.find_elements(By.XPATH,\"//fieldset[@class='item']/div/label\")"
   ]
  },
  {
   "cell_type": "code",
   "execution_count": 27,
   "id": "45405be8",
   "metadata": {},
   "outputs": [
    {
     "data": {
      "text/plain": [
       "5"
      ]
     },
     "execution_count": 27,
     "metadata": {},
     "output_type": "execute_result"
    }
   ],
   "source": [
    "len(survey_radio_buttons_elememnts)"
   ]
  },
  {
   "cell_type": "code",
   "execution_count": 28,
   "id": "1c2cdeca",
   "metadata": {},
   "outputs": [],
   "source": [
    "#survey_radio_buttons_elememnts[0].click()"
   ]
  },
  {
   "cell_type": "code",
   "execution_count": null,
   "id": "926ba9f4",
   "metadata": {},
   "outputs": [],
   "source": [
    "time.sleep(2)\n",
    "for i in survey_radio_buttons_elememnts:\n",
    "    time.sleep(3)\n",
    "    i.click()"
   ]
  },
  {
   "cell_type": "code",
   "execution_count": null,
   "id": "6276a0ef",
   "metadata": {},
   "outputs": [],
   "source": [
    "submit_button = driver.find_element(By.XPATH,\"//button[@type='submit']\")"
   ]
  },
  {
   "cell_type": "code",
   "execution_count": null,
   "id": "494166ea",
   "metadata": {},
   "outputs": [],
   "source": [
    "time.sleep(2)\n",
    "submit_button.click()"
   ]
  },
  {
   "cell_type": "code",
   "execution_count": null,
   "id": "2bd1f90a",
   "metadata": {},
   "outputs": [],
   "source": [
    "driver.close()"
   ]
  },
  {
   "cell_type": "code",
   "execution_count": null,
   "id": "7856e61d",
   "metadata": {},
   "outputs": [],
   "source": []
  }
 ],
 "metadata": {
  "kernelspec": {
   "display_name": "Python 3 (ipykernel)",
   "language": "python",
   "name": "python3"
  },
  "language_info": {
   "codemirror_mode": {
    "name": "ipython",
    "version": 3
   },
   "file_extension": ".py",
   "mimetype": "text/x-python",
   "name": "python",
   "nbconvert_exporter": "python",
   "pygments_lexer": "ipython3",
   "version": "3.11.5"
  }
 },
 "nbformat": 4,
 "nbformat_minor": 5
}
