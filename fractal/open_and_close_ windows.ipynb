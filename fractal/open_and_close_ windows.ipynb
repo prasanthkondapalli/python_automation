{
 "cells": [
  {
   "cell_type": "code",
   "execution_count": 1,
   "id": "66901c40",
   "metadata": {},
   "outputs": [
    {
     "name": "stdout",
     "output_type": "stream",
     "text": [
      "importing Jupyter notebook from path.ipynb\n"
     ]
    }
   ],
   "source": [
    "import import_ipynb\n",
    "import path\n",
    "from selenium.webdriver.chrome.service import Service\n",
    "from selenium.webdriver.common.by import By"
   ]
  },
  {
   "cell_type": "code",
   "execution_count": 2,
   "id": "e7146858",
   "metadata": {},
   "outputs": [],
   "source": [
    "from selenium import webdriver"
   ]
  },
  {
   "cell_type": "code",
   "execution_count": 3,
   "id": "df9bf54e",
   "metadata": {},
   "outputs": [],
   "source": [
    "ser = Service(executable_path=path.driver_path)"
   ]
  },
  {
   "cell_type": "code",
   "execution_count": 83,
   "id": "e1fe851b",
   "metadata": {},
   "outputs": [],
   "source": [
    "driver = webdriver.Chrome(service=ser)"
   ]
  },
  {
   "cell_type": "code",
   "execution_count": 84,
   "id": "6f088aca",
   "metadata": {},
   "outputs": [],
   "source": [
    "driver.get(path.admin_hr_login_urls)"
   ]
  },
  {
   "cell_type": "markdown",
   "id": "e7e9d341",
   "metadata": {},
   "source": [
    "### Opening new Window"
   ]
  },
  {
   "cell_type": "code",
   "execution_count": 85,
   "id": "8477e965",
   "metadata": {},
   "outputs": [],
   "source": [
    "driver.switch_to.new_window('window')"
   ]
  },
  {
   "cell_type": "code",
   "execution_count": 58,
   "id": "a84fc233",
   "metadata": {},
   "outputs": [],
   "source": [
    "driver.get(path.candidate_login)"
   ]
  },
  {
   "cell_type": "code",
   "execution_count": 63,
   "id": "bc6fe659",
   "metadata": {},
   "outputs": [],
   "source": [
    "driver.quit()"
   ]
  },
  {
   "cell_type": "code",
   "execution_count": 61,
   "id": "e5800adc",
   "metadata": {},
   "outputs": [],
   "source": [
    "driver.close()"
   ]
  },
  {
   "cell_type": "markdown",
   "id": "ac3d7e84",
   "metadata": {},
   "source": [
    "### Old method to open new window"
   ]
  },
  {
   "cell_type": "code",
   "execution_count": 59,
   "id": "39d534d4",
   "metadata": {},
   "outputs": [],
   "source": [
    "driver2 = webdriver.Chrome(service=ser)"
   ]
  },
  {
   "cell_type": "code",
   "execution_count": 60,
   "id": "8f817280",
   "metadata": {},
   "outputs": [],
   "source": [
    "driver2.get(path.anonymous_login_url)"
   ]
  },
  {
   "cell_type": "code",
   "execution_count": 62,
   "id": "2da2bf10",
   "metadata": {},
   "outputs": [],
   "source": [
    "driver2.close()"
   ]
  },
  {
   "cell_type": "markdown",
   "id": "5c96431e",
   "metadata": {},
   "source": [
    "### Opening New Tab."
   ]
  },
  {
   "cell_type": "code",
   "execution_count": 66,
   "id": "0578e4e5",
   "metadata": {},
   "outputs": [],
   "source": [
    "driver.switch_to.new_window('tab')"
   ]
  },
  {
   "cell_type": "code",
   "execution_count": 67,
   "id": "4a28afe8",
   "metadata": {},
   "outputs": [],
   "source": [
    "driver.get(path.anonymous_login_url)"
   ]
  },
  {
   "cell_type": "code",
   "execution_count": null,
   "id": "772502fe",
   "metadata": {},
   "outputs": [],
   "source": []
  },
  {
   "cell_type": "markdown",
   "id": "3bae2686",
   "metadata": {},
   "source": [
    "+ Getting tabs IDs"
   ]
  },
  {
   "cell_type": "code",
   "execution_count": 68,
   "id": "3fb544db",
   "metadata": {},
   "outputs": [
    {
     "data": {
      "text/plain": [
       "['6CDA3C20D6036D5A854093E96CE6C369', '0082E282FBB980731274CC9C050E7B75']"
      ]
     },
     "execution_count": 68,
     "metadata": {},
     "output_type": "execute_result"
    }
   ],
   "source": [
    "driver.window_handles"
   ]
  },
  {
   "cell_type": "code",
   "execution_count": null,
   "id": "1cfa1cd7",
   "metadata": {},
   "outputs": [],
   "source": []
  },
  {
   "cell_type": "markdown",
   "id": "10865c07",
   "metadata": {},
   "source": [
    "+ Getting Current tab Url and ID"
   ]
  },
  {
   "cell_type": "code",
   "execution_count": 69,
   "id": "b52eb8db",
   "metadata": {},
   "outputs": [
    {
     "data": {
      "text/plain": [
       "'https://fractal360.in/anonymous-login'"
      ]
     },
     "execution_count": 69,
     "metadata": {},
     "output_type": "execute_result"
    }
   ],
   "source": [
    "driver.current_url"
   ]
  },
  {
   "cell_type": "code",
   "execution_count": 70,
   "id": "e5d40950",
   "metadata": {},
   "outputs": [
    {
     "data": {
      "text/plain": [
       "'0082E282FBB980731274CC9C050E7B75'"
      ]
     },
     "execution_count": 70,
     "metadata": {},
     "output_type": "execute_result"
    }
   ],
   "source": [
    "driver.current_window_handle"
   ]
  },
  {
   "cell_type": "markdown",
   "id": "3a51359e",
   "metadata": {},
   "source": [
    "### switching between tabs"
   ]
  },
  {
   "cell_type": "code",
   "execution_count": 71,
   "id": "6f0064ac",
   "metadata": {},
   "outputs": [],
   "source": [
    "tab_ids = driver.window_handles"
   ]
  },
  {
   "cell_type": "code",
   "execution_count": 73,
   "id": "009339d0",
   "metadata": {},
   "outputs": [],
   "source": [
    "driver.switch_to.window(tab_ids[0]) #switched to tab one"
   ]
  },
  {
   "cell_type": "code",
   "execution_count": 74,
   "id": "83c071b5",
   "metadata": {},
   "outputs": [],
   "source": [
    "driver.switch_to.window(tab_ids[1]) # switching to another tab."
   ]
  },
  {
   "cell_type": "code",
   "execution_count": null,
   "id": "7e0151ac",
   "metadata": {},
   "outputs": [],
   "source": []
  },
  {
   "cell_type": "markdown",
   "id": "7d76cead",
   "metadata": {},
   "source": [
    "Use For loop to looping into the tabs"
   ]
  },
  {
   "cell_type": "code",
   "execution_count": 75,
   "id": "9d2ed8bf",
   "metadata": {},
   "outputs": [],
   "source": [
    "import time"
   ]
  },
  {
   "cell_type": "code",
   "execution_count": 80,
   "id": "cc2903c6",
   "metadata": {},
   "outputs": [
    {
     "name": "stdout",
     "output_type": "stream",
     "text": [
      "current tab url: https://fractal360.in/admin/sign-in\n",
      "current tab url: https://fractal360.in/anonymous-login\n"
     ]
    }
   ],
   "source": [
    "for i in tab_ids:\n",
    "    driver.switch_to.window(i)\n",
    "    print(f'current tab url: {driver.current_url}')\n",
    "    time.sleep(5)\n",
    "    "
   ]
  },
  {
   "cell_type": "code",
   "execution_count": 81,
   "id": "30b1fd99",
   "metadata": {},
   "outputs": [],
   "source": [
    "driver.close()"
   ]
  },
  {
   "cell_type": "code",
   "execution_count": 82,
   "id": "84adfaa6",
   "metadata": {},
   "outputs": [],
   "source": [
    "driver.quit()"
   ]
  },
  {
   "cell_type": "code",
   "execution_count": null,
   "id": "4fac98f2",
   "metadata": {},
   "outputs": [],
   "source": []
  }
 ],
 "metadata": {
  "kernelspec": {
   "display_name": "Python 3 (ipykernel)",
   "language": "python",
   "name": "python3"
  },
  "language_info": {
   "codemirror_mode": {
    "name": "ipython",
    "version": 3
   },
   "file_extension": ".py",
   "mimetype": "text/x-python",
   "name": "python",
   "nbconvert_exporter": "python",
   "pygments_lexer": "ipython3",
   "version": "3.11.5"
  }
 },
 "nbformat": 4,
 "nbformat_minor": 5
}
