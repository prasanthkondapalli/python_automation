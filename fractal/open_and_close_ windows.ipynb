{
 "cells": [
  {
   "cell_type": "code",
   "execution_count": 1,
   "id": "897ee116",
   "metadata": {},
   "outputs": [
    {
     "name": "stdout",
     "output_type": "stream",
     "text": [
      "importing Jupyter notebook from path.ipynb\n"
     ]
    }
   ],
   "source": [
    "import import_ipynb\n",
    "import path\n",
    "from selenium.webdriver.chrome.service import Service\n",
    "from selenium.webdriver.common.by import By"
   ]
  },
  {
   "cell_type": "code",
   "execution_count": 2,
   "id": "7e532e33",
   "metadata": {},
   "outputs": [],
   "source": [
    "from selenium import webdriver"
   ]
  },
  {
   "cell_type": "code",
   "execution_count": 3,
   "id": "2420ef46",
   "metadata": {},
   "outputs": [],
   "source": [
    "ser = Service(executable_path=path.driver_path)"
   ]
  },
  {
   "cell_type": "code",
   "execution_count": 64,
   "id": "9cbb6a4a",
   "metadata": {},
   "outputs": [],
   "source": [
    "driver = webdriver.Chrome(service=ser)"
   ]
  },
  {
   "cell_type": "code",
   "execution_count": 65,
   "id": "7f629fc2",
   "metadata": {},
   "outputs": [],
   "source": [
    "driver.get(path.admin_hr_login_urls)"
   ]
  },
  {
   "cell_type": "markdown",
   "id": "96e85f8d",
   "metadata": {},
   "source": [
    "### Opening new Window"
   ]
  },
  {
   "cell_type": "code",
   "execution_count": 57,
   "id": "276474e9",
   "metadata": {},
   "outputs": [],
   "source": [
    "driver.switch_to.new_window('window')"
   ]
  },
  {
   "cell_type": "code",
   "execution_count": 58,
   "id": "fc03619b",
   "metadata": {},
   "outputs": [],
   "source": [
    "driver.get(path.candidate_login)"
   ]
  },
  {
   "cell_type": "code",
   "execution_count": 63,
   "id": "5845c3d0",
   "metadata": {},
   "outputs": [],
   "source": [
    "driver.quit()"
   ]
  },
  {
   "cell_type": "code",
   "execution_count": 61,
   "id": "2f042e2e",
   "metadata": {},
   "outputs": [],
   "source": [
    "driver.close()"
   ]
  },
  {
   "cell_type": "markdown",
   "id": "5d8d4844",
   "metadata": {},
   "source": [
    "### Old method to open new window"
   ]
  },
  {
   "cell_type": "code",
   "execution_count": 59,
   "id": "1ab3ffa2",
   "metadata": {},
   "outputs": [],
   "source": [
    "driver2 = webdriver.Chrome(service=ser)"
   ]
  },
  {
   "cell_type": "code",
   "execution_count": 60,
   "id": "39f1bc91",
   "metadata": {},
   "outputs": [],
   "source": [
    "driver2.get(path.anonymous_login_url)"
   ]
  },
  {
   "cell_type": "code",
   "execution_count": 62,
   "id": "9b735ccb",
   "metadata": {},
   "outputs": [],
   "source": [
    "driver2.close()"
   ]
  },
  {
   "cell_type": "markdown",
   "id": "f1bc9112",
   "metadata": {},
   "source": [
    "### Opening New Tab."
   ]
  },
  {
   "cell_type": "code",
   "execution_count": 66,
   "id": "02170b6e",
   "metadata": {},
   "outputs": [],
   "source": [
    "driver.switch_to.new_window('tab')"
   ]
  },
  {
   "cell_type": "code",
   "execution_count": 67,
   "id": "f86ac630",
   "metadata": {},
   "outputs": [],
   "source": [
    "driver.get(path.anonymous_login_url)"
   ]
  },
  {
   "cell_type": "code",
   "execution_count": null,
   "id": "2fc99aef",
   "metadata": {},
   "outputs": [],
   "source": []
  },
  {
   "cell_type": "markdown",
   "id": "853bf5c8",
   "metadata": {},
   "source": [
    "+ Getting tabs IDs"
   ]
  },
  {
   "cell_type": "code",
   "execution_count": 68,
   "id": "dd6e1fec",
   "metadata": {},
   "outputs": [
    {
     "data": {
      "text/plain": [
       "['6CDA3C20D6036D5A854093E96CE6C369', '0082E282FBB980731274CC9C050E7B75']"
      ]
     },
     "execution_count": 68,
     "metadata": {},
     "output_type": "execute_result"
    }
   ],
   "source": [
    "driver.window_handles"
   ]
  },
  {
   "cell_type": "code",
   "execution_count": null,
   "id": "58352775",
   "metadata": {},
   "outputs": [],
   "source": []
  },
  {
   "cell_type": "markdown",
   "id": "c512f310",
   "metadata": {},
   "source": [
    "+ Getting Current tab Url and ID"
   ]
  },
  {
   "cell_type": "code",
   "execution_count": 69,
   "id": "094f27ab",
   "metadata": {},
   "outputs": [
    {
     "data": {
      "text/plain": [
       "'https://fractal360.in/anonymous-login'"
      ]
     },
     "execution_count": 69,
     "metadata": {},
     "output_type": "execute_result"
    }
   ],
   "source": [
    "driver.current_url"
   ]
  },
  {
   "cell_type": "code",
   "execution_count": 70,
   "id": "296617b8",
   "metadata": {},
   "outputs": [
    {
     "data": {
      "text/plain": [
       "'0082E282FBB980731274CC9C050E7B75'"
      ]
     },
     "execution_count": 70,
     "metadata": {},
     "output_type": "execute_result"
    }
   ],
   "source": [
    "driver.current_window_handle"
   ]
  },
  {
   "cell_type": "markdown",
   "id": "2e0151a2",
   "metadata": {},
   "source": [
    "### switching between tabs"
   ]
  },
  {
   "cell_type": "code",
   "execution_count": 71,
   "id": "7dc63ba6",
   "metadata": {},
   "outputs": [],
   "source": [
    "tab_ids = driver.window_handles"
   ]
  },
  {
   "cell_type": "code",
   "execution_count": 73,
   "id": "0254a105",
   "metadata": {},
   "outputs": [],
   "source": [
    "driver.switch_to.window(tab_ids[0]) #switched to tab one"
   ]
  },
  {
   "cell_type": "code",
   "execution_count": 74,
   "id": "db3c36cb",
   "metadata": {},
   "outputs": [],
   "source": [
    "driver.switch_to.window(tab_ids[1]) # switching to another tab."
   ]
  },
  {
   "cell_type": "code",
   "execution_count": null,
   "id": "1f7c41b0",
   "metadata": {},
   "outputs": [],
   "source": []
  },
  {
   "cell_type": "markdown",
   "id": "c632e26f",
   "metadata": {},
   "source": [
    "Use For loop to looping into the tabs"
   ]
  },
  {
   "cell_type": "code",
   "execution_count": 75,
   "id": "7c2eb14d",
   "metadata": {},
   "outputs": [],
   "source": [
    "import time"
   ]
  },
  {
   "cell_type": "code",
   "execution_count": 76,
   "id": "3144866b",
   "metadata": {},
   "outputs": [],
   "source": [
    "for i in tab_ids:\n",
    "    driver.switch_to.window(i)\n",
    "    print(f'current)\n",
    "    time.sleep(5)\n",
    "    "
   ]
  },
  {
   "cell_type": "code",
   "execution_count": null,
   "id": "9ba9c984",
   "metadata": {},
   "outputs": [],
   "source": []
  }
 ],
 "metadata": {
  "kernelspec": {
   "display_name": "Python 3 (ipykernel)",
   "language": "python",
   "name": "python3"
  },
  "language_info": {
   "codemirror_mode": {
    "name": "ipython",
    "version": 3
   },
   "file_extension": ".py",
   "mimetype": "text/x-python",
   "name": "python",
   "nbconvert_exporter": "python",
   "pygments_lexer": "ipython3",
   "version": "3.11.5"
  }
 },
 "nbformat": 4,
 "nbformat_minor": 5
}
