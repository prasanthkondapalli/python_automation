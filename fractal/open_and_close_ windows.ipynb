{
 "cells": [
  {
   "cell_type": "code",
   "execution_count": 1,
   "id": "af387f09",
   "metadata": {},
   "outputs": [
    {
     "name": "stdout",
     "output_type": "stream",
     "text": [
      "importing Jupyter notebook from path.ipynb\n"
     ]
    }
   ],
   "source": [
    "import import_ipynb\n",
    "import path\n",
    "from selenium.webdriver.chrome.service import Service\n",
    "from selenium.webdriver.common.by import By"
   ]
  },
  {
   "cell_type": "code",
   "execution_count": 2,
   "id": "d4556050",
   "metadata": {},
   "outputs": [],
   "source": [
    "from selenium import webdriver"
   ]
  },
  {
   "cell_type": "code",
   "execution_count": 3,
   "id": "bfbf75c9",
   "metadata": {},
   "outputs": [],
   "source": [
    "ser = Service(executable_path=path.driver_path)"
   ]
  },
  {
   "cell_type": "code",
   "execution_count": 55,
   "id": "c17013a6",
   "metadata": {},
   "outputs": [],
   "source": [
    "driver = webdriver.Chrome(service=ser)"
   ]
  },
  {
   "cell_type": "code",
   "execution_count": 56,
   "id": "c67ef878",
   "metadata": {},
   "outputs": [],
   "source": [
    "driver.get(path.admin_hr_login_urls)"
   ]
  },
  {
   "cell_type": "code",
   "execution_count": 57,
   "id": "bcd2ac3c",
   "metadata": {},
   "outputs": [],
   "source": [
    "driver.switch_to.new_window('window')"
   ]
  },
  {
   "cell_type": "code",
   "execution_count": 58,
   "id": "ea149d07",
   "metadata": {},
   "outputs": [],
   "source": [
    "driver.get(path.candidate_login)"
   ]
  },
  {
   "cell_type": "code",
   "execution_count": 63,
   "id": "8b2adffe",
   "metadata": {},
   "outputs": [],
   "source": [
    "driver.quit()"
   ]
  },
  {
   "cell_type": "code",
   "execution_count": 61,
   "id": "52d10a73",
   "metadata": {},
   "outputs": [],
   "source": [
    "driver.close()"
   ]
  },
  {
   "cell_type": "code",
   "execution_count": 59,
   "id": "ad8e9260",
   "metadata": {},
   "outputs": [],
   "source": [
    "driver2 = webdriver.Chrome(service=ser)"
   ]
  },
  {
   "cell_type": "code",
   "execution_count": 60,
   "id": "79743944",
   "metadata": {},
   "outputs": [],
   "source": [
    "driver2.get(path.anonymous_login_url)"
   ]
  },
  {
   "cell_type": "code",
   "execution_count": 62,
   "id": "e1899183",
   "metadata": {},
   "outputs": [],
   "source": [
    "driver2.close()"
   ]
  },
  {
   "cell_type": "code",
   "execution_count": null,
   "id": "e7ca1b05",
   "metadata": {},
   "outputs": [],
   "source": []
  }
 ],
 "metadata": {
  "kernelspec": {
   "display_name": "Python 3 (ipykernel)",
   "language": "python",
   "name": "python3"
  },
  "language_info": {
   "codemirror_mode": {
    "name": "ipython",
    "version": 3
   },
   "file_extension": ".py",
   "mimetype": "text/x-python",
   "name": "python",
   "nbconvert_exporter": "python",
   "pygments_lexer": "ipython3",
   "version": "3.11.5"
  }
 },
 "nbformat": 4,
 "nbformat_minor": 5
}
