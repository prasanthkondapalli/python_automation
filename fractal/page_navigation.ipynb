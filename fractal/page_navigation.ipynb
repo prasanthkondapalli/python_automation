{
 "cells": [
  {
   "cell_type": "code",
   "execution_count": 1,
   "id": "9e5ff8eb",
   "metadata": {},
   "outputs": [
    {
     "name": "stdout",
     "output_type": "stream",
     "text": [
      "importing Jupyter notebook from path.ipynb\n"
     ]
    }
   ],
   "source": [
    "import import_ipynb\n",
    "import path\n",
    "from selenium.webdriver.chrome.service import Service\n",
    "from selenium.webdriver.common.by import By"
   ]
  },
  {
   "cell_type": "code",
   "execution_count": 2,
   "id": "7ca15a96",
   "metadata": {},
   "outputs": [],
   "source": [
    "from selenium import webdriver"
   ]
  },
  {
   "cell_type": "code",
   "execution_count": 3,
   "id": "fd19011c",
   "metadata": {},
   "outputs": [],
   "source": [
    "ser = Service(executable_path=path.driver_path)"
   ]
  },
  {
   "cell_type": "code",
   "execution_count": 97,
   "id": "2600cd90",
   "metadata": {},
   "outputs": [],
   "source": [
    "driver = webdriver.Chrome(service=ser)"
   ]
  },
  {
   "cell_type": "code",
   "execution_count": 84,
   "id": "634f8d84",
   "metadata": {},
   "outputs": [],
   "source": [
    "driver.get(path.admin_hr_login_urls)"
   ]
  },
  {
   "cell_type": "markdown",
   "id": "eba86610",
   "metadata": {},
   "source": [
    "### Opening new Window"
   ]
  },
  {
   "cell_type": "code",
   "execution_count": 85,
   "id": "c06fc195",
   "metadata": {},
   "outputs": [],
   "source": [
    "driver.switch_to.new_window('window')"
   ]
  },
  {
   "cell_type": "code",
   "execution_count": 86,
   "id": "e8ec3d15",
   "metadata": {},
   "outputs": [],
   "source": [
    "driver.get(path.candidate_login)"
   ]
  },
  {
   "cell_type": "code",
   "execution_count": 98,
   "id": "b549eb33",
   "metadata": {},
   "outputs": [],
   "source": [
    "driver.quit()"
   ]
  },
  {
   "cell_type": "code",
   "execution_count": 61,
   "id": "1e89db24",
   "metadata": {},
   "outputs": [],
   "source": [
    "driver.close()"
   ]
  },
  {
   "cell_type": "markdown",
   "id": "ce0dbd98",
   "metadata": {},
   "source": [
    "### Old method to open new window"
   ]
  },
  {
   "cell_type": "code",
   "execution_count": 59,
   "id": "26ec5ce7",
   "metadata": {},
   "outputs": [],
   "source": [
    "driver2 = webdriver.Chrome(service=ser)"
   ]
  },
  {
   "cell_type": "code",
   "execution_count": 60,
   "id": "0c522a8b",
   "metadata": {},
   "outputs": [],
   "source": [
    "driver2.get(path.anonymous_login_url)"
   ]
  },
  {
   "cell_type": "code",
   "execution_count": 62,
   "id": "2e0d5892",
   "metadata": {},
   "outputs": [],
   "source": [
    "driver2.close()"
   ]
  },
  {
   "cell_type": "markdown",
   "id": "9f5a4e17",
   "metadata": {},
   "source": [
    "### Opening New Tab."
   ]
  },
  {
   "cell_type": "code",
   "execution_count": 66,
   "id": "6f5ffb12",
   "metadata": {},
   "outputs": [],
   "source": [
    "driver.switch_to.new_window('tab')"
   ]
  },
  {
   "cell_type": "code",
   "execution_count": 67,
   "id": "d87ddfb2",
   "metadata": {},
   "outputs": [],
   "source": [
    "driver.get(path.anonymous_login_url)"
   ]
  },
  {
   "cell_type": "raw",
   "id": "4f007c9f",
   "metadata": {},
   "source": []
  },
  {
   "cell_type": "markdown",
   "id": "064c70d7",
   "metadata": {},
   "source": [
    "+ Getting tabs/window IDs"
   ]
  },
  {
   "cell_type": "code",
   "execution_count": 68,
   "id": "4ea52be4",
   "metadata": {},
   "outputs": [
    {
     "data": {
      "text/plain": [
       "['6CDA3C20D6036D5A854093E96CE6C369', '0082E282FBB980731274CC9C050E7B75']"
      ]
     },
     "execution_count": 68,
     "metadata": {},
     "output_type": "execute_result"
    }
   ],
   "source": [
    "driver.window_handles"
   ]
  },
  {
   "cell_type": "raw",
   "id": "b2c55ff0",
   "metadata": {},
   "source": []
  },
  {
   "cell_type": "markdown",
   "id": "2b931815",
   "metadata": {},
   "source": [
    "+ Getting Current Tab/Windows Url and ID"
   ]
  },
  {
   "cell_type": "code",
   "execution_count": 87,
   "id": "a0d3be32",
   "metadata": {},
   "outputs": [
    {
     "data": {
      "text/plain": [
       "'https://fractal360.in/sign-in'"
      ]
     },
     "execution_count": 87,
     "metadata": {},
     "output_type": "execute_result"
    }
   ],
   "source": [
    "driver.current_url"
   ]
  },
  {
   "cell_type": "code",
   "execution_count": 88,
   "id": "59aca049",
   "metadata": {},
   "outputs": [
    {
     "data": {
      "text/plain": [
       "'2547CA435A774639774514F50F93A66B'"
      ]
     },
     "execution_count": 88,
     "metadata": {},
     "output_type": "execute_result"
    }
   ],
   "source": [
    "driver.current_window_handle"
   ]
  },
  {
   "cell_type": "markdown",
   "id": "6db3e108",
   "metadata": {},
   "source": [
    "### switching between Tabs and Windows"
   ]
  },
  {
   "cell_type": "code",
   "execution_count": 89,
   "id": "b7f9a31b",
   "metadata": {},
   "outputs": [],
   "source": [
    "tab_ids = driver.window_handles"
   ]
  },
  {
   "cell_type": "code",
   "execution_count": 90,
   "id": "e4a8964c",
   "metadata": {},
   "outputs": [
    {
     "data": {
      "text/plain": [
       "['87481633A6BC7C2ADCCFDFB138048AF0', '2547CA435A774639774514F50F93A66B']"
      ]
     },
     "execution_count": 90,
     "metadata": {},
     "output_type": "execute_result"
    }
   ],
   "source": [
    "tab_ids"
   ]
  },
  {
   "cell_type": "code",
   "execution_count": 91,
   "id": "c1c4eeb8",
   "metadata": {},
   "outputs": [],
   "source": [
    "driver.switch_to.window(tab_ids[0]) #switched to tab one"
   ]
  },
  {
   "cell_type": "code",
   "execution_count": 92,
   "id": "a4ec1521",
   "metadata": {},
   "outputs": [],
   "source": [
    "driver.switch_to.window(tab_ids[1]) # switching to another tab."
   ]
  },
  {
   "cell_type": "raw",
   "id": "92ab3f1d",
   "metadata": {},
   "source": []
  },
  {
   "cell_type": "markdown",
   "id": "f7a1702e",
   "metadata": {},
   "source": [
    "Use For loop to looping into the tabs"
   ]
  },
  {
   "cell_type": "code",
   "execution_count": 93,
   "id": "f8589099",
   "metadata": {},
   "outputs": [],
   "source": [
    "import time"
   ]
  },
  {
   "cell_type": "code",
   "execution_count": 94,
   "id": "c171103f",
   "metadata": {},
   "outputs": [
    {
     "name": "stdout",
     "output_type": "stream",
     "text": [
      "current tab url: https://fractal360.in/admin/sign-in\n",
      "current tab url: https://fractal360.in/sign-in\n"
     ]
    }
   ],
   "source": [
    "for i in tab_ids:\n",
    "    driver.switch_to.window(i)\n",
    "    print(f'current tab url: {driver.current_url}')\n",
    "    time.sleep(5)\n",
    "    "
   ]
  },
  {
   "cell_type": "code",
   "execution_count": 81,
   "id": "f0212f8a",
   "metadata": {},
   "outputs": [],
   "source": [
    "driver.close() #closes the current window/Tabs"
   ]
  },
  {
   "cell_type": "code",
   "execution_count": 96,
   "id": "0f1299c5",
   "metadata": {},
   "outputs": [],
   "source": [
    "driver.quit() #closes all the windows/tabs"
   ]
  },
  {
   "cell_type": "raw",
   "id": "5f2e31e1",
   "metadata": {},
   "source": []
  },
  {
   "cell_type": "markdown",
   "id": "503f732e",
   "metadata": {},
   "source": [
    "### Switching to Iframes\n",
    "+ driver.switch_to.frame(iframe_element)\n",
    "+ driver.switch_to.default_content()"
   ]
  },
  {
   "cell_type": "code",
   "execution_count": 99,
   "id": "14f7aa11",
   "metadata": {},
   "outputs": [],
   "source": [
    "driver = webdriver.Chrome(service=ser)"
   ]
  },
  {
   "cell_type": "code",
   "execution_count": 101,
   "id": "a5b04a3b",
   "metadata": {},
   "outputs": [],
   "source": [
    "driver.get('https://jqueryui.com/draggable/')"
   ]
  },
  {
   "cell_type": "code",
   "execution_count": 117,
   "id": "58414c23",
   "metadata": {
    "scrolled": true
   },
   "outputs": [
    {
     "data": {
      "text/plain": [
       "'Allow elements to be moved using the mouse.'"
      ]
     },
     "execution_count": 117,
     "metadata": {},
     "output_type": "execute_result"
    }
   ],
   "source": [
    "driver.find_element(By.XPATH,'//div[@id=\"content\"]/p').text"
   ]
  },
  {
   "cell_type": "code",
   "execution_count": 103,
   "id": "fa1028ff",
   "metadata": {},
   "outputs": [],
   "source": [
    "iframe_ele = driver.find_element(By.CSS_SELECTOR,'iframe.demo-frame')"
   ]
  },
  {
   "cell_type": "code",
   "execution_count": 110,
   "id": "7bf70620",
   "metadata": {},
   "outputs": [],
   "source": [
    "# by using iframe element switching to iframe\n",
    "driver.switch_to.frame(iframe_ele)"
   ]
  },
  {
   "cell_type": "code",
   "execution_count": 112,
   "id": "dc7f927e",
   "metadata": {},
   "outputs": [],
   "source": [
    "i_ele = driver.find_element(By.XPATH,'//div[@id=\"draggable\"]/p')"
   ]
  },
  {
   "cell_type": "markdown",
   "id": "8520e897",
   "metadata": {},
   "source": [
    "Reading the content"
   ]
  },
  {
   "cell_type": "code",
   "execution_count": 113,
   "id": "5d391afb",
   "metadata": {},
   "outputs": [
    {
     "data": {
      "text/plain": [
       "'Drag me around'"
      ]
     },
     "execution_count": 113,
     "metadata": {},
     "output_type": "execute_result"
    }
   ],
   "source": [
    "i_ele.text"
   ]
  },
  {
   "cell_type": "code",
   "execution_count": 114,
   "id": "7c86b88e",
   "metadata": {},
   "outputs": [
    {
     "data": {
      "text/plain": [
       "'p'"
      ]
     },
     "execution_count": 114,
     "metadata": {},
     "output_type": "execute_result"
    }
   ],
   "source": [
    "i_ele.tag_name"
   ]
  },
  {
   "cell_type": "markdown",
   "id": "9c3bc076",
   "metadata": {},
   "source": [
    "Switching back to Main frame"
   ]
  },
  {
   "cell_type": "code",
   "execution_count": 115,
   "id": "d073c10c",
   "metadata": {},
   "outputs": [],
   "source": [
    "driver.switch_to.default_content()"
   ]
  },
  {
   "cell_type": "code",
   "execution_count": 118,
   "id": "a3521b60",
   "metadata": {
    "scrolled": true
   },
   "outputs": [
    {
     "data": {
      "text/plain": [
       "'Draggable'"
      ]
     },
     "execution_count": 118,
     "metadata": {},
     "output_type": "execute_result"
    }
   ],
   "source": [
    "driver.find_element(By.XPATH,'//div[@id=\"content\"]/h1').text"
   ]
  },
  {
   "cell_type": "code",
   "execution_count": 119,
   "id": "7f4b5bf4",
   "metadata": {},
   "outputs": [],
   "source": [
    "driver.close()"
   ]
  },
  {
   "cell_type": "raw",
   "id": "cf1efb92",
   "metadata": {},
   "source": []
  },
  {
   "cell_type": "markdown",
   "id": "b503637b",
   "metadata": {},
   "source": [
    "### Backward and Forward navigation of the browser.\n",
    "+ driver.back()\n",
    "+ driver.forward()"
   ]
  },
  {
   "cell_type": "code",
   "execution_count": 120,
   "id": "918d33c4",
   "metadata": {},
   "outputs": [],
   "source": [
    "driver = webdriver.Chrome(service=ser)"
   ]
  },
  {
   "cell_type": "code",
   "execution_count": 121,
   "id": "d3793d38",
   "metadata": {},
   "outputs": [],
   "source": [
    "driver.get(path.admin_hr_login_urls)"
   ]
  },
  {
   "cell_type": "code",
   "execution_count": 122,
   "id": "b7db6e09",
   "metadata": {},
   "outputs": [],
   "source": [
    "driver.get(path.anonymous_login_url)"
   ]
  },
  {
   "cell_type": "code",
   "execution_count": 123,
   "id": "d9d4ad77",
   "metadata": {},
   "outputs": [],
   "source": [
    "driver.get(path.candidate_login)"
   ]
  },
  {
   "cell_type": "code",
   "execution_count": 124,
   "id": "9fe5f70b",
   "metadata": {},
   "outputs": [],
   "source": [
    "driver.back()"
   ]
  },
  {
   "cell_type": "code",
   "execution_count": 125,
   "id": "751b128b",
   "metadata": {},
   "outputs": [],
   "source": [
    "driver.back()"
   ]
  },
  {
   "cell_type": "code",
   "execution_count": 126,
   "id": "d5c12860",
   "metadata": {},
   "outputs": [],
   "source": [
    "driver.forward()"
   ]
  },
  {
   "cell_type": "code",
   "execution_count": 127,
   "id": "3450772c",
   "metadata": {},
   "outputs": [],
   "source": [
    "driver.forward()"
   ]
  },
  {
   "cell_type": "code",
   "execution_count": 130,
   "id": "f2710f76",
   "metadata": {},
   "outputs": [],
   "source": [
    "driver.forward()"
   ]
  },
  {
   "cell_type": "code",
   "execution_count": 131,
   "id": "19e4536f",
   "metadata": {},
   "outputs": [],
   "source": [
    "driver.close()"
   ]
  },
  {
   "cell_type": "raw",
   "id": "2c94bdd2",
   "metadata": {},
   "source": []
  },
  {
   "cell_type": "markdown",
   "id": "264991e0",
   "metadata": {},
   "source": [
    "### Alert Messages\n",
    "+ Switch to Alert message \n",
    "    + alert = driver.switch_to.alert\n",
    "+ To Accept\n",
    "    + alert.accept()\n",
    "+ To Denay\n",
    "    + alert.dismiss()"
   ]
  },
  {
   "cell_type": "code",
   "execution_count": 132,
   "id": "2909e4cc",
   "metadata": {},
   "outputs": [],
   "source": [
    "driver = webdriver.Chrome(service=ser)"
   ]
  },
  {
   "cell_type": "code",
   "execution_count": 133,
   "id": "06369329",
   "metadata": {},
   "outputs": [],
   "source": [
    "driver.get(path.admin_hr_login_urls)"
   ]
  },
  {
   "cell_type": "code",
   "execution_count": 144,
   "id": "c309545c",
   "metadata": {},
   "outputs": [],
   "source": [
    "#Creating a Alert popup\n",
    "driver.execute_script('confirm(\"Testing Alert message !!!\")')"
   ]
  },
  {
   "cell_type": "code",
   "execution_count": 138,
   "id": "1bf74776",
   "metadata": {},
   "outputs": [],
   "source": [
    "alert = driver.switch_to.alert"
   ]
  },
  {
   "cell_type": "code",
   "execution_count": 139,
   "id": "04ead494",
   "metadata": {},
   "outputs": [
    {
     "data": {
      "text/plain": [
       "'Testing Alert message !!!'"
      ]
     },
     "execution_count": 139,
     "metadata": {},
     "output_type": "execute_result"
    }
   ],
   "source": [
    "alert.text"
   ]
  },
  {
   "cell_type": "code",
   "execution_count": 145,
   "id": "fa89b1b3",
   "metadata": {},
   "outputs": [],
   "source": [
    "alert.dismiss()"
   ]
  },
  {
   "cell_type": "code",
   "execution_count": 146,
   "id": "1b652ee8",
   "metadata": {},
   "outputs": [],
   "source": [
    "# Creating a alert popup\n",
    "driver.execute_script('alert(\"testing Alert message 2 !!!\")')"
   ]
  },
  {
   "cell_type": "code",
   "execution_count": 147,
   "id": "5cad7dcb",
   "metadata": {},
   "outputs": [],
   "source": [
    "alert = driver.switch_to.alert"
   ]
  },
  {
   "cell_type": "code",
   "execution_count": 148,
   "id": "7894473e",
   "metadata": {},
   "outputs": [
    {
     "data": {
      "text/plain": [
       "'testing Alert message 2 !!!'"
      ]
     },
     "execution_count": 148,
     "metadata": {},
     "output_type": "execute_result"
    }
   ],
   "source": [
    "alert.text"
   ]
  },
  {
   "cell_type": "code",
   "execution_count": 149,
   "id": "23a7b06e",
   "metadata": {},
   "outputs": [],
   "source": [
    "alert.accept()"
   ]
  },
  {
   "cell_type": "code",
   "execution_count": 150,
   "id": "3abc75b5",
   "metadata": {},
   "outputs": [],
   "source": [
    "driver.quit()"
   ]
  },
  {
   "cell_type": "raw",
   "id": "950d518d",
   "metadata": {},
   "source": []
  },
  {
   "cell_type": "code",
   "execution_count": null,
   "id": "003a6ea8",
   "metadata": {},
   "outputs": [],
   "source": []
  }
 ],
 "metadata": {
  "kernelspec": {
   "display_name": "Python 3 (ipykernel)",
   "language": "python",
   "name": "python3"
  },
  "language_info": {
   "codemirror_mode": {
    "name": "ipython",
    "version": 3
   },
   "file_extension": ".py",
   "mimetype": "text/x-python",
   "name": "python",
   "nbconvert_exporter": "python",
   "pygments_lexer": "ipython3",
   "version": "3.11.5"
  }
 },
 "nbformat": 4,
 "nbformat_minor": 5
}
