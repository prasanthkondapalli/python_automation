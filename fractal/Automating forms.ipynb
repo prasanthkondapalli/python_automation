{
 "cells": [
  {
   "cell_type": "code",
   "execution_count": 290,
   "id": "299b5398",
   "metadata": {},
   "outputs": [],
   "source": [
    "import import_ipynb\n",
    "import path\n",
    "from selenium import webdriver\n",
    "from selenium.webdriver.chrome.service import Service\n",
    "from selenium.webdriver.common.by import By\n"
   ]
  },
  {
   "cell_type": "code",
   "execution_count": 291,
   "id": "da8e1f3a",
   "metadata": {},
   "outputs": [],
   "source": [
    "from selenium.webdriver.common.action_chains import ActionChains"
   ]
  },
  {
   "cell_type": "code",
   "execution_count": 292,
   "id": "b0dcb926",
   "metadata": {},
   "outputs": [],
   "source": [
    "ser = Service(executable_path=path.driver_path)"
   ]
  },
  {
   "cell_type": "code",
   "execution_count": 4,
   "id": "22d89d64",
   "metadata": {},
   "outputs": [],
   "source": [
    "driver = webdriver.Chrome(service=ser)"
   ]
  },
  {
   "cell_type": "code",
   "execution_count": 5,
   "id": "81fda123",
   "metadata": {},
   "outputs": [],
   "source": [
    "driver.get(path.anonymous_login_url)"
   ]
  },
  {
   "cell_type": "markdown",
   "id": "be65bf27",
   "metadata": {},
   "source": [
    "#### Button Actions\n",
    "+ click\n",
    "+ click and hold\n",
    "+ right click"
   ]
  },
  {
   "cell_type": "code",
   "execution_count": 6,
   "id": "b6a4a788",
   "metadata": {},
   "outputs": [],
   "source": [
    "button = driver.find_element(By.XPATH,\"//button[@type='submit']\")"
   ]
  },
  {
   "cell_type": "code",
   "execution_count": 7,
   "id": "772e1f54",
   "metadata": {},
   "outputs": [],
   "source": [
    "button.click()"
   ]
  },
  {
   "cell_type": "code",
   "execution_count": 8,
   "id": "679d3ea2",
   "metadata": {},
   "outputs": [],
   "source": [
    "action = ActionChains(driver=driver)"
   ]
  },
  {
   "cell_type": "code",
   "execution_count": 9,
   "id": "007525a9",
   "metadata": {},
   "outputs": [],
   "source": [
    "action.context_click(button).perform()"
   ]
  },
  {
   "cell_type": "code",
   "execution_count": 10,
   "id": "4a5b17c4",
   "metadata": {},
   "outputs": [],
   "source": [
    "action.click_and_hold(button).perform()"
   ]
  },
  {
   "cell_type": "code",
   "execution_count": 12,
   "id": "1b5658e1",
   "metadata": {},
   "outputs": [],
   "source": [
    "# to release the button\n",
    "action.release().perform()"
   ]
  },
  {
   "cell_type": "code",
   "execution_count": 13,
   "id": "e8e3a77c",
   "metadata": {},
   "outputs": [],
   "source": [
    "driver.quit()"
   ]
  },
  {
   "cell_type": "raw",
   "id": "aae6d39e",
   "metadata": {},
   "source": []
  },
  {
   "cell_type": "markdown",
   "id": "5ab4906a",
   "metadata": {},
   "source": [
    "#### Text box interactions\n",
    "+ clear the field\n",
    "    + element.clear()\n",
    "+ send the keys into it\n",
    "    + element.send_keys('text')"
   ]
  },
  {
   "cell_type": "code",
   "execution_count": 14,
   "id": "693cc7a9",
   "metadata": {},
   "outputs": [],
   "source": [
    "driver = webdriver.Chrome(service=ser)"
   ]
  },
  {
   "cell_type": "code",
   "execution_count": 15,
   "id": "26156521",
   "metadata": {},
   "outputs": [],
   "source": [
    "driver.get(path.admin_hr_login_urls)"
   ]
  },
  {
   "cell_type": "code",
   "execution_count": 16,
   "id": "a214eff6",
   "metadata": {},
   "outputs": [],
   "source": [
    "email_element = driver.find_element(By.XPATH,\"//input[@name='email']\")"
   ]
  },
  {
   "cell_type": "code",
   "execution_count": 23,
   "id": "0d931159",
   "metadata": {},
   "outputs": [],
   "source": [
    "email_element.clear()"
   ]
  },
  {
   "cell_type": "code",
   "execution_count": 24,
   "id": "fadba49e",
   "metadata": {},
   "outputs": [],
   "source": [
    "email_element.send_keys('hr@b.com')"
   ]
  },
  {
   "cell_type": "code",
   "execution_count": 19,
   "id": "90596282",
   "metadata": {},
   "outputs": [],
   "source": [
    "login_button = driver.find_element(By.XPATH,\"//button[@type='submit']\")"
   ]
  },
  {
   "cell_type": "code",
   "execution_count": 20,
   "id": "25236762",
   "metadata": {},
   "outputs": [],
   "source": [
    "login_button.click()"
   ]
  },
  {
   "cell_type": "code",
   "execution_count": 21,
   "id": "176aa104",
   "metadata": {},
   "outputs": [
    {
     "data": {
      "text/plain": [
       "False"
      ]
     },
     "execution_count": 21,
     "metadata": {},
     "output_type": "execute_result"
    }
   ],
   "source": [
    "login_button.is_enabled()"
   ]
  },
  {
   "cell_type": "code",
   "execution_count": 22,
   "id": "27992751",
   "metadata": {},
   "outputs": [
    {
     "data": {
      "text/plain": [
       "'Login'"
      ]
     },
     "execution_count": 22,
     "metadata": {},
     "output_type": "execute_result"
    }
   ],
   "source": [
    "login_button.text"
   ]
  },
  {
   "cell_type": "code",
   "execution_count": 26,
   "id": "bea0b713",
   "metadata": {},
   "outputs": [],
   "source": [
    "driver.close()"
   ]
  },
  {
   "cell_type": "raw",
   "id": "7315d857",
   "metadata": {},
   "source": []
  },
  {
   "cell_type": "markdown",
   "id": "8288a33d",
   "metadata": {},
   "source": [
    "#### Radio Buttons"
   ]
  },
  {
   "cell_type": "code",
   "execution_count": 4,
   "id": "93614972",
   "metadata": {},
   "outputs": [],
   "source": [
    "driver = webdriver.Chrome(service=ser)"
   ]
  },
  {
   "cell_type": "code",
   "execution_count": 5,
   "id": "94c1a341",
   "metadata": {},
   "outputs": [],
   "source": [
    "driver.get(path.radio_check_buttons)"
   ]
  },
  {
   "cell_type": "code",
   "execution_count": 32,
   "id": "a896d680",
   "metadata": {},
   "outputs": [],
   "source": [
    "checkboxes = driver.find_elements(By.XPATH,\"//input[@type='checkbox']\")"
   ]
  },
  {
   "cell_type": "code",
   "execution_count": 33,
   "id": "aad80be3",
   "metadata": {},
   "outputs": [],
   "source": [
    "checkboxe1 = checkboxes[1]"
   ]
  },
  {
   "cell_type": "code",
   "execution_count": 34,
   "id": "06545964",
   "metadata": {},
   "outputs": [
    {
     "data": {
      "text/plain": [
       "False"
      ]
     },
     "execution_count": 34,
     "metadata": {},
     "output_type": "execute_result"
    }
   ],
   "source": [
    "checkboxes[1].is_selected()"
   ]
  },
  {
   "cell_type": "code",
   "execution_count": 35,
   "id": "0ec2387f",
   "metadata": {},
   "outputs": [
    {
     "data": {
      "text/plain": [
       "''"
      ]
     },
     "execution_count": 35,
     "metadata": {},
     "output_type": "execute_result"
    }
   ],
   "source": [
    "checkboxes[1].text"
   ]
  },
  {
   "cell_type": "code",
   "execution_count": 36,
   "id": "bd79fc8b",
   "metadata": {},
   "outputs": [
    {
     "data": {
      "text/plain": [
       "'No Response Required'"
      ]
     },
     "execution_count": 36,
     "metadata": {},
     "output_type": "execute_result"
    }
   ],
   "source": [
    "checkboxes[1].get_attribute('value')"
   ]
  },
  {
   "cell_type": "code",
   "execution_count": 37,
   "id": "ff88d8b2",
   "metadata": {},
   "outputs": [
    {
     "data": {
      "text/plain": [
       "True"
      ]
     },
     "execution_count": 37,
     "metadata": {},
     "output_type": "execute_result"
    }
   ],
   "source": [
    "checkboxe1.is_enabled()"
   ]
  },
  {
   "cell_type": "code",
   "execution_count": 38,
   "id": "368563f0",
   "metadata": {},
   "outputs": [
    {
     "data": {
      "text/plain": [
       "False"
      ]
     },
     "execution_count": 38,
     "metadata": {},
     "output_type": "execute_result"
    }
   ],
   "source": [
    "checkboxe1.is_selected()"
   ]
  },
  {
   "cell_type": "code",
   "execution_count": 39,
   "id": "5be587ab",
   "metadata": {},
   "outputs": [],
   "source": [
    "checkboxe1.click()"
   ]
  },
  {
   "cell_type": "code",
   "execution_count": 40,
   "id": "046ab8db",
   "metadata": {},
   "outputs": [
    {
     "data": {
      "text/plain": [
       "True"
      ]
     },
     "execution_count": 40,
     "metadata": {},
     "output_type": "execute_result"
    }
   ],
   "source": [
    "checkboxe1.is_selected()"
   ]
  },
  {
   "cell_type": "code",
   "execution_count": 41,
   "id": "172f81c8",
   "metadata": {},
   "outputs": [],
   "source": [
    "checkboxe1.click()"
   ]
  },
  {
   "cell_type": "code",
   "execution_count": 49,
   "id": "ae78dbc0",
   "metadata": {},
   "outputs": [
    {
     "data": {
      "text/plain": [
       "False"
      ]
     },
     "execution_count": 49,
     "metadata": {},
     "output_type": "execute_result"
    }
   ],
   "source": [
    "checkboxe1.is_selected()"
   ]
  },
  {
   "cell_type": "code",
   "execution_count": 65,
   "id": "8487bfae",
   "metadata": {},
   "outputs": [],
   "source": [
    "radio_buttons = driver.find_elements(By.XPATH,\"//span[@class='radio-label']\")"
   ]
  },
  {
   "cell_type": "code",
   "execution_count": 66,
   "id": "ee8a3e94",
   "metadata": {},
   "outputs": [
    {
     "data": {
      "text/plain": [
       "2"
      ]
     },
     "execution_count": 66,
     "metadata": {},
     "output_type": "execute_result"
    }
   ],
   "source": [
    "len(radio_buttons)"
   ]
  },
  {
   "cell_type": "code",
   "execution_count": 79,
   "id": "647799c6",
   "metadata": {
    "scrolled": false
   },
   "outputs": [
    {
     "name": "stdout",
     "output_type": "stream",
     "text": [
      "None\n",
      "Private Show\n",
      "None\n",
      "Public Show\n"
     ]
    }
   ],
   "source": [
    "import time\n",
    "for i in radio_buttons:\n",
    "    print(i.get_attribute('value'))\n",
    "    print(i.text)\n",
    "    time.sleep(5)\n",
    "    i.click()\n"
   ]
  },
  {
   "cell_type": "code",
   "execution_count": 69,
   "id": "3b93b39c",
   "metadata": {},
   "outputs": [],
   "source": [
    "radio_button1 = radio_buttons[0]"
   ]
  },
  {
   "cell_type": "code",
   "execution_count": 70,
   "id": "08ecab01",
   "metadata": {},
   "outputs": [
    {
     "data": {
      "text/plain": [
       "False"
      ]
     },
     "execution_count": 70,
     "metadata": {},
     "output_type": "execute_result"
    }
   ],
   "source": [
    "radio_button1.is_selected()"
   ]
  },
  {
   "cell_type": "code",
   "execution_count": 71,
   "id": "3f67143f",
   "metadata": {},
   "outputs": [],
   "source": [
    "radio_button1.get_attribute('value')"
   ]
  },
  {
   "cell_type": "code",
   "execution_count": 13,
   "id": "5f7d2d8a",
   "metadata": {},
   "outputs": [],
   "source": [
    "import time"
   ]
  },
  {
   "cell_type": "code",
   "execution_count": 76,
   "id": "e542243a",
   "metadata": {},
   "outputs": [],
   "source": [
    "radio_button1.click()"
   ]
  },
  {
   "cell_type": "code",
   "execution_count": 55,
   "id": "0722c7df",
   "metadata": {},
   "outputs": [],
   "source": [
    "from selenium.webdriver.support.ui import WebDriverWait\n",
    "from selenium.webdriver.support import expected_conditions as EC"
   ]
  },
  {
   "cell_type": "code",
   "execution_count": 56,
   "id": "768da620",
   "metadata": {},
   "outputs": [],
   "source": [
    "wait_time = WebDriverWait(driver,10)"
   ]
  },
  {
   "cell_type": "code",
   "execution_count": 57,
   "id": "5b4bbc9b",
   "metadata": {},
   "outputs": [
    {
     "ename": "TimeoutException",
     "evalue": "Message: \n",
     "output_type": "error",
     "traceback": [
      "\u001b[0;31m---------------------------------------------------------------------------\u001b[0m",
      "\u001b[0;31mTimeoutException\u001b[0m                          Traceback (most recent call last)",
      "Cell \u001b[0;32mIn [57], line 1\u001b[0m\n\u001b[0;32m----> 1\u001b[0m radio_button_element \u001b[38;5;241m=\u001b[39m wait_time\u001b[38;5;241m.\u001b[39muntil(EC\u001b[38;5;241m.\u001b[39melement_to_be_clickable((By\u001b[38;5;241m.\u001b[39mXPATH,\u001b[38;5;124m'\u001b[39m\u001b[38;5;124m//input[@type=\u001b[39m\u001b[38;5;124m\"\u001b[39m\u001b[38;5;124mradio\u001b[39m\u001b[38;5;124m\"\u001b[39m\u001b[38;5;124m]\u001b[39m\u001b[38;5;124m'\u001b[39m)))\n",
      "File \u001b[0;32m~/anaconda3/lib/python3.11/site-packages/selenium/webdriver/support/wait.py:90\u001b[0m, in \u001b[0;36mWebDriverWait.until\u001b[0;34m(self, method, message)\u001b[0m\n\u001b[1;32m     88\u001b[0m     \u001b[38;5;28;01mif\u001b[39;00m time\u001b[38;5;241m.\u001b[39mmonotonic() \u001b[38;5;241m>\u001b[39m end_time:\n\u001b[1;32m     89\u001b[0m         \u001b[38;5;28;01mbreak\u001b[39;00m\n\u001b[0;32m---> 90\u001b[0m \u001b[38;5;28;01mraise\u001b[39;00m TimeoutException(message, screen, stacktrace)\n",
      "\u001b[0;31mTimeoutException\u001b[0m: Message: \n"
     ]
    }
   ],
   "source": [
    "radio_button_element = wait_time.until(EC.element_to_be_clickable((By.XPATH,'//input[@type=\"radio\"]')))"
   ]
  },
  {
   "cell_type": "code",
   "execution_count": null,
   "id": "a0e83a9c",
   "metadata": {},
   "outputs": [],
   "source": []
  },
  {
   "cell_type": "code",
   "execution_count": null,
   "id": "b6453ce9",
   "metadata": {},
   "outputs": [],
   "source": []
  },
  {
   "cell_type": "code",
   "execution_count": null,
   "id": "a4b3396e",
   "metadata": {},
   "outputs": [],
   "source": []
  },
  {
   "cell_type": "code",
   "execution_count": null,
   "id": "0a35a43f",
   "metadata": {},
   "outputs": [],
   "source": []
  },
  {
   "cell_type": "code",
   "execution_count": 73,
   "id": "7265f82c",
   "metadata": {},
   "outputs": [],
   "source": [
    "radio_button2 = radio_buttons[1]"
   ]
  },
  {
   "cell_type": "code",
   "execution_count": 74,
   "id": "34f85f52",
   "metadata": {},
   "outputs": [],
   "source": [
    "radio_button2.get_attribute('value')"
   ]
  },
  {
   "cell_type": "code",
   "execution_count": 77,
   "id": "43ac9b5e",
   "metadata": {},
   "outputs": [],
   "source": [
    "radio_button2.click()"
   ]
  },
  {
   "cell_type": "code",
   "execution_count": 80,
   "id": "1b790f48",
   "metadata": {},
   "outputs": [],
   "source": [
    "driver.close()"
   ]
  },
  {
   "cell_type": "raw",
   "id": "1b1489e0",
   "metadata": {},
   "source": []
  },
  {
   "cell_type": "markdown",
   "id": "c85b7e7f",
   "metadata": {},
   "source": [
    "#### Handling Dropdown buttons.\n",
    "Two way to handle dropdowns.\n",
    "+ Normal method.\n",
    "    * 1.1. finding elements and looping into it.\n",
    "+ Select method.\n",
    "    * looping the direct dropdown element by using select method\n",
    "    "
   ]
  },
  {
   "cell_type": "code",
   "execution_count": 81,
   "id": "cfa07427",
   "metadata": {},
   "outputs": [],
   "source": [
    "driver = webdriver.Chrome(service=ser)"
   ]
  },
  {
   "cell_type": "code",
   "execution_count": 82,
   "id": "1ef550de",
   "metadata": {},
   "outputs": [],
   "source": [
    "driver.get(path.radio_check_buttons)"
   ]
  },
  {
   "cell_type": "markdown",
   "id": "75186618",
   "metadata": {},
   "source": [
    "Normal method"
   ]
  },
  {
   "cell_type": "code",
   "execution_count": 83,
   "id": "d9ea722f",
   "metadata": {},
   "outputs": [],
   "source": [
    "dropdown = driver.find_element(By.ID,\"select-e1f50715-c8a7-48eb-bc99-2c245676068c-field\")"
   ]
  },
  {
   "cell_type": "code",
   "execution_count": 84,
   "id": "c572b88f",
   "metadata": {},
   "outputs": [],
   "source": [
    "options = dropdown.find_elements(By.TAG_NAME,'option')"
   ]
  },
  {
   "cell_type": "code",
   "execution_count": 86,
   "id": "165cb533",
   "metadata": {},
   "outputs": [
    {
     "name": "stdout",
     "output_type": "stream",
     "text": [
      "Select an option\n",
      "Google\n",
      "Facebook\n",
      "Instagram\n",
      "Other\n"
     ]
    }
   ],
   "source": [
    "for i in options:\n",
    "    print(i.text)"
   ]
  },
  {
   "cell_type": "code",
   "execution_count": 87,
   "id": "3437b048",
   "metadata": {},
   "outputs": [],
   "source": [
    "options[2].click()"
   ]
  },
  {
   "cell_type": "code",
   "execution_count": 89,
   "id": "a9c9eefd",
   "metadata": {},
   "outputs": [],
   "source": [
    "options[1].click()"
   ]
  },
  {
   "cell_type": "markdown",
   "id": "e1a45d91",
   "metadata": {},
   "source": [
    "Select method"
   ]
  },
  {
   "cell_type": "code",
   "execution_count": 90,
   "id": "beeb50a3",
   "metadata": {},
   "outputs": [],
   "source": [
    "from selenium.webdriver.support.ui import Select"
   ]
  },
  {
   "cell_type": "code",
   "execution_count": 91,
   "id": "fa05b85f",
   "metadata": {},
   "outputs": [],
   "source": [
    "select = Select(dropdown)"
   ]
  },
  {
   "cell_type": "code",
   "execution_count": 95,
   "id": "3f1344e6",
   "metadata": {},
   "outputs": [
    {
     "name": "stdout",
     "output_type": "stream",
     "text": [
      "Google\n",
      "Facebook\n",
      "Instagram\n",
      "Other\n"
     ]
    }
   ],
   "source": [
    "for i in select.options:\n",
    "    print(i.text)"
   ]
  },
  {
   "cell_type": "code",
   "execution_count": 103,
   "id": "857febe0",
   "metadata": {},
   "outputs": [],
   "source": [
    "select.select_by_index(1)"
   ]
  },
  {
   "cell_type": "code",
   "execution_count": 104,
   "id": "7e9d814f",
   "metadata": {},
   "outputs": [],
   "source": [
    "select.select_by_value('Instagram')"
   ]
  },
  {
   "cell_type": "code",
   "execution_count": 105,
   "id": "eb94868a",
   "metadata": {},
   "outputs": [],
   "source": [
    "select.select_by_visible_text('Other')"
   ]
  },
  {
   "cell_type": "code",
   "execution_count": 106,
   "id": "c79448a9",
   "metadata": {},
   "outputs": [],
   "source": [
    "driver.close()"
   ]
  },
  {
   "cell_type": "raw",
   "id": "9675f4ed",
   "metadata": {},
   "source": []
  },
  {
   "cell_type": "markdown",
   "id": "0c45b577",
   "metadata": {},
   "source": [
    "#### Date picker"
   ]
  },
  {
   "cell_type": "code",
   "execution_count": 13,
   "id": "8e749d89",
   "metadata": {},
   "outputs": [],
   "source": [
    "driver = webdriver.Chrome(service=ser)"
   ]
  },
  {
   "cell_type": "code",
   "execution_count": 14,
   "id": "9ba9b760",
   "metadata": {},
   "outputs": [],
   "source": [
    "driver.get(path.jqueryui + 'datepicker')"
   ]
  },
  {
   "cell_type": "code",
   "execution_count": 15,
   "id": "9326c6b2",
   "metadata": {},
   "outputs": [],
   "source": [
    "iframe_datepicker = driver.find_element(By.XPATH,\"//iframe[@class='demo-frame']\")"
   ]
  },
  {
   "cell_type": "code",
   "execution_count": 16,
   "id": "6181418e",
   "metadata": {},
   "outputs": [],
   "source": [
    "driver.switch_to.frame(iframe_datepicker)"
   ]
  },
  {
   "cell_type": "code",
   "execution_count": 18,
   "id": "73a5be1c",
   "metadata": {},
   "outputs": [],
   "source": [
    "datepicker = driver.find_element(By.XPATH,\"//input[@id='datepicker']\")"
   ]
  },
  {
   "cell_type": "code",
   "execution_count": 122,
   "id": "047ad446",
   "metadata": {},
   "outputs": [],
   "source": [
    "datepicker.click()"
   ]
  },
  {
   "cell_type": "code",
   "execution_count": 52,
   "id": "3ac854d3",
   "metadata": {},
   "outputs": [],
   "source": [
    "import datetime\n",
    "#By using current dater time read the day to select the feature dates"
   ]
  },
  {
   "cell_type": "code",
   "execution_count": 102,
   "id": "c6d0daba",
   "metadata": {},
   "outputs": [],
   "source": [
    "current_date = datetime.date.today()"
   ]
  },
  {
   "cell_type": "code",
   "execution_count": 103,
   "id": "23a22d91",
   "metadata": {},
   "outputs": [
    {
     "data": {
      "text/plain": [
       "datetime.date(2024, 4, 4)"
      ]
     },
     "execution_count": 103,
     "metadata": {},
     "output_type": "execute_result"
    }
   ],
   "source": [
    "current_date"
   ]
  },
  {
   "cell_type": "code",
   "execution_count": 104,
   "id": "0dd53992",
   "metadata": {},
   "outputs": [
    {
     "data": {
      "text/plain": [
       "2024"
      ]
     },
     "execution_count": 104,
     "metadata": {},
     "output_type": "execute_result"
    }
   ],
   "source": [
    "current_date.year"
   ]
  },
  {
   "cell_type": "code",
   "execution_count": 105,
   "id": "ed590955",
   "metadata": {},
   "outputs": [
    {
     "name": "stdout",
     "output_type": "stream",
     "text": [
      "2024\n"
     ]
    }
   ],
   "source": [
    "year = current_date.year\n",
    "print(year)"
   ]
  },
  {
   "cell_type": "code",
   "execution_count": 107,
   "id": "8a8e6a0f",
   "metadata": {},
   "outputs": [
    {
     "data": {
      "text/plain": [
       "4"
      ]
     },
     "execution_count": 107,
     "metadata": {},
     "output_type": "execute_result"
    }
   ],
   "source": [
    "month = current_date.month\n",
    "month"
   ]
  },
  {
   "cell_type": "code",
   "execution_count": 108,
   "id": "0b6f3ce8",
   "metadata": {},
   "outputs": [],
   "source": [
    "day = current_date.day"
   ]
  },
  {
   "cell_type": "code",
   "execution_count": 109,
   "id": "29d44a44",
   "metadata": {},
   "outputs": [
    {
     "data": {
      "text/plain": [
       "4"
      ]
     },
     "execution_count": 109,
     "metadata": {},
     "output_type": "execute_result"
    }
   ],
   "source": [
    "day"
   ]
  },
  {
   "cell_type": "code",
   "execution_count": 127,
   "id": "0b609188",
   "metadata": {},
   "outputs": [],
   "source": [
    "datepicker.clear()"
   ]
  },
  {
   "cell_type": "code",
   "execution_count": 146,
   "id": "6a28edc5",
   "metadata": {},
   "outputs": [],
   "source": [
    "datepicker.click()"
   ]
  },
  {
   "cell_type": "code",
   "execution_count": 150,
   "id": "b620b3c3",
   "metadata": {},
   "outputs": [],
   "source": [
    "# writing a formated string to pass the current date to select a date from the Screen and send a feature dates also...\n",
    "select_day = driver.find_element(By.XPATH,f\"(//td[@data-handler='selectDay']/a)[{day+10}]\")"
   ]
  },
  {
   "cell_type": "code",
   "execution_count": 151,
   "id": "571d5a6a",
   "metadata": {},
   "outputs": [],
   "source": [
    "select_day.click()"
   ]
  },
  {
   "cell_type": "code",
   "execution_count": 154,
   "id": "f09f0814",
   "metadata": {},
   "outputs": [],
   "source": [
    "# Switching to months by clicking next and prev\n",
    "months = driver.find_elements(By.XPATH,'//div[@id=\"ui-datepicker-div\"]/div/a')\n",
    "months[1].click()\n"
   ]
  },
  {
   "cell_type": "code",
   "execution_count": 159,
   "id": "f215c9a5",
   "metadata": {},
   "outputs": [],
   "source": [
    "# Sending keys by to the Date Picker.\n",
    "datepicker.clear()\n",
    "datepicker.send_keys(f'{month}/{day+1}/{year}')"
   ]
  },
  {
   "cell_type": "code",
   "execution_count": 160,
   "id": "04e8106b",
   "metadata": {},
   "outputs": [],
   "source": [
    "driver.switch_to.default_content()"
   ]
  },
  {
   "cell_type": "code",
   "execution_count": 162,
   "id": "2e485167",
   "metadata": {},
   "outputs": [],
   "source": [
    "driver.quit()"
   ]
  },
  {
   "cell_type": "raw",
   "id": "f620585d",
   "metadata": {},
   "source": []
  },
  {
   "cell_type": "markdown",
   "id": "47c8424a",
   "metadata": {},
   "source": [
    "#### File Upload and Download\n",
    "+ To Upload a file just like sending a keys to  element, here we need to pass path with filename.extention\n",
    "   \n",
    "+ To Download a file,\n",
    "    + Default browser download path. (or)\n",
    "    + change the Preference of the path and download to specified path."
   ]
  },
  {
   "cell_type": "raw",
   "id": "b63b099b",
   "metadata": {},
   "source": [
    "Uploading a file to application."
   ]
  },
  {
   "cell_type": "code",
   "execution_count": 163,
   "id": "3fb40c84",
   "metadata": {},
   "outputs": [],
   "source": [
    "base_url = 'https://f360qa.foyr.com/admin/sign-in'"
   ]
  },
  {
   "cell_type": "code",
   "execution_count": 252,
   "id": "917bc113",
   "metadata": {},
   "outputs": [],
   "source": [
    "driver = webdriver.Chrome(service=ser)"
   ]
  },
  {
   "cell_type": "code",
   "execution_count": 305,
   "id": "f5fcb245",
   "metadata": {},
   "outputs": [],
   "source": [
    "driver.get(base_url)"
   ]
  },
  {
   "cell_type": "code",
   "execution_count": 306,
   "id": "46f46296",
   "metadata": {},
   "outputs": [],
   "source": [
    "email_Id = driver.find_element(By.ID,'email')"
   ]
  },
  {
   "cell_type": "code",
   "execution_count": 307,
   "id": "834dfb75",
   "metadata": {},
   "outputs": [],
   "source": [
    "password = driver.find_element(By.NAME,'password')"
   ]
  },
  {
   "cell_type": "code",
   "execution_count": 308,
   "id": "7a25c0ec",
   "metadata": {},
   "outputs": [],
   "source": [
    "email_Id.clear()\n",
    "email_Id.send_keys('admin2610@mail.com')"
   ]
  },
  {
   "cell_type": "code",
   "execution_count": 309,
   "id": "5a6872ba",
   "metadata": {},
   "outputs": [],
   "source": [
    "password.clear()\n",
    "password.send_keys('Fractal@1234')"
   ]
  },
  {
   "cell_type": "code",
   "execution_count": 310,
   "id": "81f535d4",
   "metadata": {},
   "outputs": [],
   "source": [
    "login_button = driver.find_element(By.XPATH,\"//button[@type='submit']\")"
   ]
  },
  {
   "cell_type": "code",
   "execution_count": 311,
   "id": "0e3193db",
   "metadata": {},
   "outputs": [],
   "source": [
    "login_button.click()"
   ]
  },
  {
   "cell_type": "code",
   "execution_count": 312,
   "id": "09d2a59a",
   "metadata": {},
   "outputs": [],
   "source": [
    "button_xpath = \"//button[@class='border border-card_Bg_Color bg-white mr-4 py-[15px] pl-6 pr-[35px] relative rounded-xl text-sm font-semibold text-primary_Text_Color'][contains(.,'Bulk Actions')]\""
   ]
  },
  {
   "cell_type": "code",
   "execution_count": 313,
   "id": "2d3a3919",
   "metadata": {},
   "outputs": [],
   "source": [
    "dropdown = driver.find_element(By.XPATH,button_xpath)"
   ]
  },
  {
   "cell_type": "code",
   "execution_count": 264,
   "id": "83461c3c",
   "metadata": {},
   "outputs": [
    {
     "data": {
      "text/plain": [
       "'button'"
      ]
     },
     "execution_count": 264,
     "metadata": {},
     "output_type": "execute_result"
    }
   ],
   "source": [
    "dropdown.tag_name"
   ]
  },
  {
   "cell_type": "code",
   "execution_count": 314,
   "id": "613b80e2",
   "metadata": {},
   "outputs": [],
   "source": [
    "dropdown.click()"
   ]
  },
  {
   "cell_type": "code",
   "execution_count": 315,
   "id": "47dfabb5",
   "metadata": {},
   "outputs": [],
   "source": [
    "dropdown_options_xpath = \"//button[@class='text-[#57677E] font-medium text-sm py-2 cursor-pointer'][contains(.,'Bulk Upload')]\""
   ]
  },
  {
   "cell_type": "code",
   "execution_count": 316,
   "id": "499ecde6",
   "metadata": {},
   "outputs": [],
   "source": [
    "dropdown_option=driver.find_element(By.XPATH,dropdown_options_xpath)"
   ]
  },
  {
   "cell_type": "code",
   "execution_count": 317,
   "id": "cca634de",
   "metadata": {},
   "outputs": [
    {
     "data": {
      "text/plain": [
       "[<selenium.webdriver.remote.webelement.WebElement (session=\"1624725782d4d96fbe5ba33ee34ebbb0\", element=\"f.608C99FE19081B0D5E9DD8D59A96188C.d.67B637ED011C113A84423FD8C7591137.e.76\")>]"
      ]
     },
     "execution_count": 317,
     "metadata": {},
     "output_type": "execute_result"
    }
   ],
   "source": [
    "dropdown_options"
   ]
  },
  {
   "cell_type": "code",
   "execution_count": 318,
   "id": "30d6f592",
   "metadata": {},
   "outputs": [],
   "source": [
    "dropdown_option.click()"
   ]
  },
  {
   "cell_type": "code",
   "execution_count": 273,
   "id": "f49fc2b6",
   "metadata": {},
   "outputs": [],
   "source": [
    "xpath_to_upload = \"//input[@name='file']\""
   ]
  },
  {
   "cell_type": "code",
   "execution_count": 274,
   "id": "dd150a42",
   "metadata": {},
   "outputs": [],
   "source": [
    "upload_file = driver.find_element(By.XPATH,xpath_to_upload)"
   ]
  },
  {
   "cell_type": "code",
   "execution_count": 275,
   "id": "ca2bb7ff",
   "metadata": {},
   "outputs": [],
   "source": [
    "file_path_to_upload = '/home/thrymr/Documents/Test Drive 2.xlsx'"
   ]
  },
  {
   "cell_type": "code",
   "execution_count": 276,
   "id": "98abf9b2",
   "metadata": {},
   "outputs": [],
   "source": [
    "upload_file.send_keys(file_path_to_upload)"
   ]
  },
  {
   "cell_type": "raw",
   "id": "f1677883",
   "metadata": {},
   "source": [
    "Download a file"
   ]
  },
  {
   "cell_type": "code",
   "execution_count": 319,
   "id": "5eaa95f0",
   "metadata": {},
   "outputs": [],
   "source": [
    "download_xpath = \"//button[contains(@class,'text-[#3B82F6] font-medium text-sm underline decoration-[#3B82F6]')]\""
   ]
  },
  {
   "cell_type": "code",
   "execution_count": 320,
   "id": "f5c5c770",
   "metadata": {},
   "outputs": [],
   "source": [
    "download_file = driver.find_element(By.XPATH,download_xpath)"
   ]
  },
  {
   "cell_type": "code",
   "execution_count": 321,
   "id": "44df13e9",
   "metadata": {},
   "outputs": [],
   "source": [
    "download_file.click()"
   ]
  },
  {
   "cell_type": "raw",
   "id": "a93ce991",
   "metadata": {},
   "source": [
    "Download to Specified Path"
   ]
  },
  {
   "cell_type": "code",
   "execution_count": 281,
   "id": "e766a23d",
   "metadata": {},
   "outputs": [],
   "source": [
    "download_file_path = '/home/thrymr/Downloads/selenium_download/'"
   ]
  },
  {
   "cell_type": "code",
   "execution_count": 298,
   "id": "dc197228",
   "metadata": {},
   "outputs": [],
   "source": [
    "from selenium.webdriver.chrome.options import Options"
   ]
  },
  {
   "cell_type": "code",
   "execution_count": 299,
   "id": "dac15492",
   "metadata": {},
   "outputs": [],
   "source": [
    "opt = webdriver.ChromeOptions()"
   ]
  },
  {
   "cell_type": "code",
   "execution_count": 303,
   "id": "82847e5e",
   "metadata": {},
   "outputs": [],
   "source": [
    "opt.add_experimental_option('prefs',{'download.default_directory':download_file_path})"
   ]
  },
  {
   "cell_type": "raw",
   "id": "10959484",
   "metadata": {},
   "source": [
    "TO Download file to specific path, now we need to rerun the driver with opt paramenter that we specified above."
   ]
  },
  {
   "cell_type": "raw",
   "id": "20baaf95",
   "metadata": {},
   "source": [
    "driver = webdriver.Chrome(service=ser,options=opt)"
   ]
  },
  {
   "cell_type": "code",
   "execution_count": 322,
   "id": "a60fd508",
   "metadata": {},
   "outputs": [],
   "source": [
    "driver.quit()"
   ]
  },
  {
   "cell_type": "code",
   "execution_count": 304,
   "id": "4a1c660a",
   "metadata": {},
   "outputs": [],
   "source": [
    "driver = webdriver.Chrome(service=ser,options=opt)"
   ]
  },
  {
   "cell_type": "raw",
   "id": "e5043a02",
   "metadata": {},
   "source": [
    "again navigating application to Download file and execute code .. it will download to specifed file path.{download_file_path}"
   ]
  },
  {
   "cell_type": "raw",
   "id": "5fbdc536",
   "metadata": {},
   "source": []
  },
  {
   "cell_type": "markdown",
   "id": "53721d60",
   "metadata": {},
   "source": [
    "#### Drag and Drop"
   ]
  },
  {
   "cell_type": "code",
   "execution_count": 337,
   "id": "d1ec6098",
   "metadata": {},
   "outputs": [],
   "source": [
    "driver = webdriver.Chrome(service=ser)"
   ]
  },
  {
   "cell_type": "code",
   "execution_count": 338,
   "id": "2793eda6",
   "metadata": {},
   "outputs": [],
   "source": [
    "from selenium.webdriver.common.action_chains import ActionChains"
   ]
  },
  {
   "cell_type": "code",
   "execution_count": 339,
   "id": "6c41c9ac",
   "metadata": {},
   "outputs": [],
   "source": [
    "driver.get(path.jqueryui+'droppable/')"
   ]
  },
  {
   "cell_type": "code",
   "execution_count": 340,
   "id": "63fd6be8",
   "metadata": {},
   "outputs": [],
   "source": [
    "actions = ActionChains(driver=driver)"
   ]
  },
  {
   "cell_type": "code",
   "execution_count": 341,
   "id": "95a94529",
   "metadata": {},
   "outputs": [],
   "source": [
    "iframe_element = driver.find_element(By.CSS_SELECTOR,'iframe.demo-frame')"
   ]
  },
  {
   "cell_type": "code",
   "execution_count": 342,
   "id": "b992d67d",
   "metadata": {},
   "outputs": [],
   "source": [
    "driver.switch_to.frame(iframe_element)"
   ]
  },
  {
   "cell_type": "code",
   "execution_count": 343,
   "id": "9c4b72d6",
   "metadata": {},
   "outputs": [],
   "source": [
    "source_element = driver.find_element(By.ID,'draggable')"
   ]
  },
  {
   "cell_type": "code",
   "execution_count": 344,
   "id": "b20e7535",
   "metadata": {},
   "outputs": [],
   "source": [
    "target_element = driver.find_element(By.ID,'droppable')"
   ]
  },
  {
   "cell_type": "code",
   "execution_count": 348,
   "id": "6f71bec4",
   "metadata": {},
   "outputs": [],
   "source": [
    "actions.drag_and_drop(source_element,target_element).perform()"
   ]
  },
  {
   "cell_type": "code",
   "execution_count": 349,
   "id": "71eeeccb",
   "metadata": {},
   "outputs": [],
   "source": [
    "actions.drag_and_drop_by_offset(source=source_element,xoffset=20,yoffset=33).perform()"
   ]
  },
  {
   "cell_type": "code",
   "execution_count": null,
   "id": "27c0e34f",
   "metadata": {},
   "outputs": [],
   "source": []
  },
  {
   "cell_type": "code",
   "execution_count": 350,
   "id": "6ac8496e",
   "metadata": {},
   "outputs": [],
   "source": [
    "driver.switch_to.default_content()"
   ]
  },
  {
   "cell_type": "code",
   "execution_count": 351,
   "id": "589cb176",
   "metadata": {},
   "outputs": [],
   "source": [
    "driver.quit()"
   ]
  },
  {
   "cell_type": "raw",
   "id": "bf3296f3",
   "metadata": {},
   "source": []
  },
  {
   "cell_type": "markdown",
   "id": "34a7dac4",
   "metadata": {},
   "source": [
    "#### Sliders"
   ]
  },
  {
   "cell_type": "code",
   "execution_count": 352,
   "id": "8e5e2b7c",
   "metadata": {},
   "outputs": [],
   "source": [
    "driver = webdriver.Chrome(service=ser)"
   ]
  },
  {
   "cell_type": "code",
   "execution_count": 354,
   "id": "f51620d5",
   "metadata": {},
   "outputs": [],
   "source": [
    "driver.get(path.jqueryui+'slider')"
   ]
  },
  {
   "cell_type": "code",
   "execution_count": 355,
   "id": "5e1854c0",
   "metadata": {},
   "outputs": [],
   "source": [
    "iframe_element = driver.find_element(By.CSS_SELECTOR,'iframe.demo-frame')"
   ]
  },
  {
   "cell_type": "code",
   "execution_count": 356,
   "id": "ae3bf6f2",
   "metadata": {},
   "outputs": [],
   "source": [
    "from selenium.webdriver.common.action_chains import ActionChains"
   ]
  },
  {
   "cell_type": "code",
   "execution_count": 357,
   "id": "93e8028e",
   "metadata": {},
   "outputs": [],
   "source": [
    "driver.switch_to.frame(iframe_element)"
   ]
  },
  {
   "cell_type": "code",
   "execution_count": 358,
   "id": "5fc4a257",
   "metadata": {},
   "outputs": [],
   "source": [
    "slider_element = driver.find_element(By.XPATH,\"//div[@id='slider']/span\")"
   ]
  },
  {
   "cell_type": "code",
   "execution_count": 359,
   "id": "b03dc9bb",
   "metadata": {},
   "outputs": [],
   "source": [
    "actions = ActionChains(driver=driver)"
   ]
  },
  {
   "cell_type": "code",
   "execution_count": 360,
   "id": "d05c91be",
   "metadata": {},
   "outputs": [],
   "source": [
    "actions.move_to_element_with_offset(slider_element,50,0).click().perform()"
   ]
  },
  {
   "cell_type": "code",
   "execution_count": null,
   "id": "e8d58cac",
   "metadata": {},
   "outputs": [],
   "source": []
  }
 ],
 "metadata": {
  "kernelspec": {
   "display_name": "Python 3 (ipykernel)",
   "language": "python",
   "name": "python3"
  },
  "language_info": {
   "codemirror_mode": {
    "name": "ipython",
    "version": 3
   },
   "file_extension": ".py",
   "mimetype": "text/x-python",
   "name": "python",
   "nbconvert_exporter": "python",
   "pygments_lexer": "ipython3",
   "version": "3.11.5"
  }
 },
 "nbformat": 4,
 "nbformat_minor": 5
}
