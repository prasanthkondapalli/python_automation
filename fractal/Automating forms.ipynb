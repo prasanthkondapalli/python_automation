{
 "cells": [
  {
   "cell_type": "code",
   "execution_count": 1,
   "id": "299b5398",
   "metadata": {},
   "outputs": [
    {
     "name": "stdout",
     "output_type": "stream",
     "text": [
      "importing Jupyter notebook from path.ipynb\n"
     ]
    }
   ],
   "source": [
    "import import_ipynb\n",
    "import path\n",
    "from selenium import webdriver\n",
    "from selenium.webdriver.chrome.service import Service\n",
    "from selenium.webdriver.common.by import By\n"
   ]
  },
  {
   "cell_type": "code",
   "execution_count": 2,
   "id": "da8e1f3a",
   "metadata": {},
   "outputs": [],
   "source": [
    "from selenium.webdriver.common.action_chains import ActionChains"
   ]
  },
  {
   "cell_type": "code",
   "execution_count": 3,
   "id": "b0dcb926",
   "metadata": {},
   "outputs": [],
   "source": [
    "ser = Service(executable_path=path.driver_path)"
   ]
  },
  {
   "cell_type": "code",
   "execution_count": 4,
   "id": "22d89d64",
   "metadata": {},
   "outputs": [],
   "source": [
    "driver = webdriver.Chrome(service=ser)"
   ]
  },
  {
   "cell_type": "code",
   "execution_count": 5,
   "id": "81fda123",
   "metadata": {},
   "outputs": [],
   "source": [
    "driver.get(path.anonymous_login_url)"
   ]
  },
  {
   "cell_type": "markdown",
   "id": "be65bf27",
   "metadata": {},
   "source": [
    "#### Button Actions\n",
    "+ click\n",
    "+ click and hold\n",
    "+ right click"
   ]
  },
  {
   "cell_type": "code",
   "execution_count": 6,
   "id": "b6a4a788",
   "metadata": {},
   "outputs": [],
   "source": [
    "button = driver.find_element(By.XPATH,\"//button[@type='submit']\")"
   ]
  },
  {
   "cell_type": "code",
   "execution_count": 7,
   "id": "772e1f54",
   "metadata": {},
   "outputs": [],
   "source": [
    "button.click()"
   ]
  },
  {
   "cell_type": "code",
   "execution_count": 8,
   "id": "679d3ea2",
   "metadata": {},
   "outputs": [],
   "source": [
    "action = ActionChains(driver=driver)"
   ]
  },
  {
   "cell_type": "code",
   "execution_count": 9,
   "id": "007525a9",
   "metadata": {},
   "outputs": [],
   "source": [
    "action.context_click(button).perform()"
   ]
  },
  {
   "cell_type": "code",
   "execution_count": 10,
   "id": "4a5b17c4",
   "metadata": {},
   "outputs": [],
   "source": [
    "action.click_and_hold(button).perform()"
   ]
  },
  {
   "cell_type": "code",
   "execution_count": 12,
   "id": "1b5658e1",
   "metadata": {},
   "outputs": [],
   "source": [
    "# to release the button\n",
    "action.release().perform()"
   ]
  },
  {
   "cell_type": "code",
   "execution_count": 13,
   "id": "e8e3a77c",
   "metadata": {},
   "outputs": [],
   "source": [
    "driver.quit()"
   ]
  },
  {
   "cell_type": "raw",
   "id": "aae6d39e",
   "metadata": {},
   "source": []
  },
  {
   "cell_type": "markdown",
   "id": "5ab4906a",
   "metadata": {},
   "source": [
    "#### Text box interactions\n",
    "+ clear the field\n",
    "    + element.clear()\n",
    "+ send the keys into it\n",
    "    + element.send_keys('text')"
   ]
  },
  {
   "cell_type": "code",
   "execution_count": 14,
   "id": "693cc7a9",
   "metadata": {},
   "outputs": [],
   "source": [
    "driver = webdriver.Chrome(service=ser)"
   ]
  },
  {
   "cell_type": "code",
   "execution_count": 15,
   "id": "26156521",
   "metadata": {},
   "outputs": [],
   "source": [
    "driver.get(path.admin_hr_login_urls)"
   ]
  },
  {
   "cell_type": "code",
   "execution_count": 16,
   "id": "a214eff6",
   "metadata": {},
   "outputs": [],
   "source": [
    "email_element = driver.find_element(By.XPATH,\"//input[@name='email']\")"
   ]
  },
  {
   "cell_type": "code",
   "execution_count": 23,
   "id": "0d931159",
   "metadata": {},
   "outputs": [],
   "source": [
    "email_element.clear()"
   ]
  },
  {
   "cell_type": "code",
   "execution_count": 24,
   "id": "fadba49e",
   "metadata": {},
   "outputs": [],
   "source": [
    "email_element.send_keys('hr@b.com')"
   ]
  },
  {
   "cell_type": "code",
   "execution_count": 19,
   "id": "90596282",
   "metadata": {},
   "outputs": [],
   "source": [
    "login_button = driver.find_element(By.XPATH,\"//button[@type='submit']\")"
   ]
  },
  {
   "cell_type": "code",
   "execution_count": 20,
   "id": "25236762",
   "metadata": {},
   "outputs": [],
   "source": [
    "login_button.click()"
   ]
  },
  {
   "cell_type": "code",
   "execution_count": 21,
   "id": "176aa104",
   "metadata": {},
   "outputs": [
    {
     "data": {
      "text/plain": [
       "False"
      ]
     },
     "execution_count": 21,
     "metadata": {},
     "output_type": "execute_result"
    }
   ],
   "source": [
    "login_button.is_enabled()"
   ]
  },
  {
   "cell_type": "code",
   "execution_count": 22,
   "id": "27992751",
   "metadata": {},
   "outputs": [
    {
     "data": {
      "text/plain": [
       "'Login'"
      ]
     },
     "execution_count": 22,
     "metadata": {},
     "output_type": "execute_result"
    }
   ],
   "source": [
    "login_button.text"
   ]
  },
  {
   "cell_type": "code",
   "execution_count": 26,
   "id": "bea0b713",
   "metadata": {},
   "outputs": [],
   "source": [
    "driver.close()"
   ]
  },
  {
   "cell_type": "raw",
   "id": "7315d857",
   "metadata": {},
   "source": []
  },
  {
   "cell_type": "markdown",
   "id": "8288a33d",
   "metadata": {},
   "source": [
    "#### Radio Buttons"
   ]
  },
  {
   "cell_type": "code",
   "execution_count": 4,
   "id": "93614972",
   "metadata": {},
   "outputs": [],
   "source": [
    "driver = webdriver.Chrome(service=ser)"
   ]
  },
  {
   "cell_type": "code",
   "execution_count": 5,
   "id": "94c1a341",
   "metadata": {},
   "outputs": [],
   "source": [
    "driver.get(path.radio_check_buttons)"
   ]
  },
  {
   "cell_type": "code",
   "execution_count": 32,
   "id": "a896d680",
   "metadata": {},
   "outputs": [],
   "source": [
    "checkboxes = driver.find_elements(By.XPATH,\"//input[@type='checkbox']\")"
   ]
  },
  {
   "cell_type": "code",
   "execution_count": 33,
   "id": "aad80be3",
   "metadata": {},
   "outputs": [],
   "source": [
    "checkboxe1 = checkboxes[1]"
   ]
  },
  {
   "cell_type": "code",
   "execution_count": 34,
   "id": "06545964",
   "metadata": {},
   "outputs": [
    {
     "data": {
      "text/plain": [
       "False"
      ]
     },
     "execution_count": 34,
     "metadata": {},
     "output_type": "execute_result"
    }
   ],
   "source": [
    "checkboxes[1].is_selected()"
   ]
  },
  {
   "cell_type": "code",
   "execution_count": 35,
   "id": "0ec2387f",
   "metadata": {},
   "outputs": [
    {
     "data": {
      "text/plain": [
       "''"
      ]
     },
     "execution_count": 35,
     "metadata": {},
     "output_type": "execute_result"
    }
   ],
   "source": [
    "checkboxes[1].text"
   ]
  },
  {
   "cell_type": "code",
   "execution_count": 36,
   "id": "bd79fc8b",
   "metadata": {},
   "outputs": [
    {
     "data": {
      "text/plain": [
       "'No Response Required'"
      ]
     },
     "execution_count": 36,
     "metadata": {},
     "output_type": "execute_result"
    }
   ],
   "source": [
    "checkboxes[1].get_attribute('value')"
   ]
  },
  {
   "cell_type": "code",
   "execution_count": 37,
   "id": "ff88d8b2",
   "metadata": {},
   "outputs": [
    {
     "data": {
      "text/plain": [
       "True"
      ]
     },
     "execution_count": 37,
     "metadata": {},
     "output_type": "execute_result"
    }
   ],
   "source": [
    "checkboxe1.is_enabled()"
   ]
  },
  {
   "cell_type": "code",
   "execution_count": 38,
   "id": "368563f0",
   "metadata": {},
   "outputs": [
    {
     "data": {
      "text/plain": [
       "False"
      ]
     },
     "execution_count": 38,
     "metadata": {},
     "output_type": "execute_result"
    }
   ],
   "source": [
    "checkboxe1.is_selected()"
   ]
  },
  {
   "cell_type": "code",
   "execution_count": 39,
   "id": "5be587ab",
   "metadata": {},
   "outputs": [],
   "source": [
    "checkboxe1.click()"
   ]
  },
  {
   "cell_type": "code",
   "execution_count": 40,
   "id": "046ab8db",
   "metadata": {},
   "outputs": [
    {
     "data": {
      "text/plain": [
       "True"
      ]
     },
     "execution_count": 40,
     "metadata": {},
     "output_type": "execute_result"
    }
   ],
   "source": [
    "checkboxe1.is_selected()"
   ]
  },
  {
   "cell_type": "code",
   "execution_count": 41,
   "id": "172f81c8",
   "metadata": {},
   "outputs": [],
   "source": [
    "checkboxe1.click()"
   ]
  },
  {
   "cell_type": "code",
   "execution_count": 49,
   "id": "ae78dbc0",
   "metadata": {},
   "outputs": [
    {
     "data": {
      "text/plain": [
       "False"
      ]
     },
     "execution_count": 49,
     "metadata": {},
     "output_type": "execute_result"
    }
   ],
   "source": [
    "checkboxe1.is_selected()"
   ]
  },
  {
   "cell_type": "code",
   "execution_count": 65,
   "id": "8487bfae",
   "metadata": {},
   "outputs": [],
   "source": [
    "radio_buttons = driver.find_elements(By.XPATH,\"//span[@class='radio-label']\")"
   ]
  },
  {
   "cell_type": "code",
   "execution_count": 66,
   "id": "ee8a3e94",
   "metadata": {},
   "outputs": [
    {
     "data": {
      "text/plain": [
       "2"
      ]
     },
     "execution_count": 66,
     "metadata": {},
     "output_type": "execute_result"
    }
   ],
   "source": [
    "len(radio_buttons)"
   ]
  },
  {
   "cell_type": "code",
   "execution_count": 79,
   "id": "647799c6",
   "metadata": {
    "scrolled": false
   },
   "outputs": [
    {
     "name": "stdout",
     "output_type": "stream",
     "text": [
      "None\n",
      "Private Show\n",
      "None\n",
      "Public Show\n"
     ]
    }
   ],
   "source": [
    "import time\n",
    "for i in radio_buttons:\n",
    "    print(i.get_attribute('value'))\n",
    "    print(i.text)\n",
    "    time.sleep(5)\n",
    "    i.click()\n"
   ]
  },
  {
   "cell_type": "code",
   "execution_count": 69,
   "id": "3b93b39c",
   "metadata": {},
   "outputs": [],
   "source": [
    "radio_button1 = radio_buttons[0]"
   ]
  },
  {
   "cell_type": "code",
   "execution_count": 70,
   "id": "08ecab01",
   "metadata": {},
   "outputs": [
    {
     "data": {
      "text/plain": [
       "False"
      ]
     },
     "execution_count": 70,
     "metadata": {},
     "output_type": "execute_result"
    }
   ],
   "source": [
    "radio_button1.is_selected()"
   ]
  },
  {
   "cell_type": "code",
   "execution_count": 71,
   "id": "3f67143f",
   "metadata": {},
   "outputs": [],
   "source": [
    "radio_button1.get_attribute('value')"
   ]
  },
  {
   "cell_type": "code",
   "execution_count": 13,
   "id": "5f7d2d8a",
   "metadata": {},
   "outputs": [],
   "source": [
    "import time"
   ]
  },
  {
   "cell_type": "code",
   "execution_count": 76,
   "id": "e542243a",
   "metadata": {},
   "outputs": [],
   "source": [
    "radio_button1.click()"
   ]
  },
  {
   "cell_type": "code",
   "execution_count": 55,
   "id": "0722c7df",
   "metadata": {},
   "outputs": [],
   "source": [
    "from selenium.webdriver.support.ui import WebDriverWait\n",
    "from selenium.webdriver.support import expected_conditions as EC"
   ]
  },
  {
   "cell_type": "code",
   "execution_count": 56,
   "id": "768da620",
   "metadata": {},
   "outputs": [],
   "source": [
    "wait_time = WebDriverWait(driver,10)"
   ]
  },
  {
   "cell_type": "code",
   "execution_count": 57,
   "id": "5b4bbc9b",
   "metadata": {},
   "outputs": [
    {
     "ename": "TimeoutException",
     "evalue": "Message: \n",
     "output_type": "error",
     "traceback": [
      "\u001b[0;31m---------------------------------------------------------------------------\u001b[0m",
      "\u001b[0;31mTimeoutException\u001b[0m                          Traceback (most recent call last)",
      "Cell \u001b[0;32mIn [57], line 1\u001b[0m\n\u001b[0;32m----> 1\u001b[0m radio_button_element \u001b[38;5;241m=\u001b[39m wait_time\u001b[38;5;241m.\u001b[39muntil(EC\u001b[38;5;241m.\u001b[39melement_to_be_clickable((By\u001b[38;5;241m.\u001b[39mXPATH,\u001b[38;5;124m'\u001b[39m\u001b[38;5;124m//input[@type=\u001b[39m\u001b[38;5;124m\"\u001b[39m\u001b[38;5;124mradio\u001b[39m\u001b[38;5;124m\"\u001b[39m\u001b[38;5;124m]\u001b[39m\u001b[38;5;124m'\u001b[39m)))\n",
      "File \u001b[0;32m~/anaconda3/lib/python3.11/site-packages/selenium/webdriver/support/wait.py:90\u001b[0m, in \u001b[0;36mWebDriverWait.until\u001b[0;34m(self, method, message)\u001b[0m\n\u001b[1;32m     88\u001b[0m     \u001b[38;5;28;01mif\u001b[39;00m time\u001b[38;5;241m.\u001b[39mmonotonic() \u001b[38;5;241m>\u001b[39m end_time:\n\u001b[1;32m     89\u001b[0m         \u001b[38;5;28;01mbreak\u001b[39;00m\n\u001b[0;32m---> 90\u001b[0m \u001b[38;5;28;01mraise\u001b[39;00m TimeoutException(message, screen, stacktrace)\n",
      "\u001b[0;31mTimeoutException\u001b[0m: Message: \n"
     ]
    }
   ],
   "source": [
    "radio_button_element = wait_time.until(EC.element_to_be_clickable((By.XPATH,'//input[@type=\"radio\"]')))"
   ]
  },
  {
   "cell_type": "code",
   "execution_count": null,
   "id": "a0e83a9c",
   "metadata": {},
   "outputs": [],
   "source": []
  },
  {
   "cell_type": "code",
   "execution_count": null,
   "id": "b6453ce9",
   "metadata": {},
   "outputs": [],
   "source": []
  },
  {
   "cell_type": "code",
   "execution_count": null,
   "id": "a4b3396e",
   "metadata": {},
   "outputs": [],
   "source": []
  },
  {
   "cell_type": "code",
   "execution_count": null,
   "id": "0a35a43f",
   "metadata": {},
   "outputs": [],
   "source": []
  },
  {
   "cell_type": "code",
   "execution_count": 73,
   "id": "7265f82c",
   "metadata": {},
   "outputs": [],
   "source": [
    "radio_button2 = radio_buttons[1]"
   ]
  },
  {
   "cell_type": "code",
   "execution_count": 74,
   "id": "34f85f52",
   "metadata": {},
   "outputs": [],
   "source": [
    "radio_button2.get_attribute('value')"
   ]
  },
  {
   "cell_type": "code",
   "execution_count": 77,
   "id": "43ac9b5e",
   "metadata": {},
   "outputs": [],
   "source": [
    "radio_button2.click()"
   ]
  },
  {
   "cell_type": "code",
   "execution_count": 80,
   "id": "a1e6444a",
   "metadata": {},
   "outputs": [],
   "source": [
    "driver.close()"
   ]
  },
  {
   "cell_type": "raw",
   "id": "045cc4a5",
   "metadata": {},
   "source": []
  },
  {
   "cell_type": "markdown",
   "id": "74c0643d",
   "metadata": {},
   "source": [
    "#### Handling Dropdown buttons.\n",
    "Two way to handle dropdowns.\n",
    "+ Normal method.\n",
    "    * 1.1. finding elements and looping into it.\n",
    "+ Select method.\n",
    "    * looping the direct dropdown element by using select method\n",
    "    "
   ]
  },
  {
   "cell_type": "code",
   "execution_count": 81,
   "id": "12d0b303",
   "metadata": {},
   "outputs": [],
   "source": [
    "driver = webdriver.Chrome(service=ser)"
   ]
  },
  {
   "cell_type": "code",
   "execution_count": 82,
   "id": "85975dbc",
   "metadata": {},
   "outputs": [],
   "source": [
    "driver.get(path.radio_check_buttons)"
   ]
  },
  {
   "cell_type": "markdown",
   "id": "037a4aad",
   "metadata": {},
   "source": [
    "Normal method"
   ]
  },
  {
   "cell_type": "code",
   "execution_count": 83,
   "id": "75383dfc",
   "metadata": {},
   "outputs": [],
   "source": [
    "dropdown = driver.find_element(By.ID,\"select-e1f50715-c8a7-48eb-bc99-2c245676068c-field\")"
   ]
  },
  {
   "cell_type": "code",
   "execution_count": 84,
   "id": "ae5e0f78",
   "metadata": {},
   "outputs": [],
   "source": [
    "options = dropdown.find_elements(By.TAG_NAME,'option')"
   ]
  },
  {
   "cell_type": "code",
   "execution_count": 86,
   "id": "550ff7e0",
   "metadata": {},
   "outputs": [
    {
     "name": "stdout",
     "output_type": "stream",
     "text": [
      "Select an option\n",
      "Google\n",
      "Facebook\n",
      "Instagram\n",
      "Other\n"
     ]
    }
   ],
   "source": [
    "for i in options:\n",
    "    print(i.text)"
   ]
  },
  {
   "cell_type": "code",
   "execution_count": 87,
   "id": "3c76aea6",
   "metadata": {},
   "outputs": [],
   "source": [
    "options[2].click()"
   ]
  },
  {
   "cell_type": "code",
   "execution_count": 89,
   "id": "8b7ccffa",
   "metadata": {},
   "outputs": [],
   "source": [
    "options[1].click()"
   ]
  },
  {
   "cell_type": "markdown",
   "id": "e6e79681",
   "metadata": {},
   "source": [
    "Select method"
   ]
  },
  {
   "cell_type": "code",
   "execution_count": 90,
   "id": "eab4424d",
   "metadata": {},
   "outputs": [],
   "source": [
    "from selenium.webdriver.support.ui import Select"
   ]
  },
  {
   "cell_type": "code",
   "execution_count": 91,
   "id": "3773543d",
   "metadata": {},
   "outputs": [],
   "source": [
    "select = Select(dropdown)"
   ]
  },
  {
   "cell_type": "code",
   "execution_count": 95,
   "id": "5b87d544",
   "metadata": {},
   "outputs": [
    {
     "name": "stdout",
     "output_type": "stream",
     "text": [
      "Google\n",
      "Facebook\n",
      "Instagram\n",
      "Other\n"
     ]
    }
   ],
   "source": [
    "for i in select.options:\n",
    "    print(i.text)"
   ]
  },
  {
   "cell_type": "code",
   "execution_count": 103,
   "id": "53c24d67",
   "metadata": {},
   "outputs": [],
   "source": [
    "select.select_by_index(1)"
   ]
  },
  {
   "cell_type": "code",
   "execution_count": 104,
   "id": "1e8e6ba5",
   "metadata": {},
   "outputs": [],
   "source": [
    "select.select_by_value('Instagram')"
   ]
  },
  {
   "cell_type": "code",
   "execution_count": 105,
   "id": "3cf0379a",
   "metadata": {},
   "outputs": [],
   "source": [
    "select.select_by_visible_text('Other')"
   ]
  },
  {
   "cell_type": "code",
   "execution_count": 106,
   "id": "fb453fe6",
   "metadata": {},
   "outputs": [],
   "source": [
    "driver.close()"
   ]
  },
  {
   "cell_type": "raw",
   "id": "6fafc9bf",
   "metadata": {},
   "source": []
  },
  {
   "cell_type": "markdown",
   "id": "6e658da2",
   "metadata": {},
   "source": [
    "#### Date picker"
   ]
  },
  {
   "cell_type": "code",
   "execution_count": 13,
   "id": "333209eb",
   "metadata": {},
   "outputs": [],
   "source": [
    "driver = webdriver.Chrome(service=ser)"
   ]
  },
  {
   "cell_type": "code",
   "execution_count": 14,
   "id": "97d2cadc",
   "metadata": {},
   "outputs": [],
   "source": [
    "driver.get(path.jqueryui + 'datepicker')"
   ]
  },
  {
   "cell_type": "code",
   "execution_count": 15,
   "id": "2a920cc9",
   "metadata": {},
   "outputs": [],
   "source": [
    "iframe_datepicker = driver.find_element(By.XPATH,\"//iframe[@class='demo-frame']\")"
   ]
  },
  {
   "cell_type": "code",
   "execution_count": 16,
   "id": "42c2083b",
   "metadata": {},
   "outputs": [],
   "source": [
    "driver.switch_to.frame(iframe_datepicker)"
   ]
  },
  {
   "cell_type": "code",
   "execution_count": 18,
   "id": "79f0ceba",
   "metadata": {},
   "outputs": [],
   "source": [
    "datepicker = driver.find_element(By.XPATH,\"//input[@id='datepicker']\")"
   ]
  },
  {
   "cell_type": "code",
   "execution_count": 122,
   "id": "c27a4d14",
   "metadata": {},
   "outputs": [],
   "source": [
    "datepicker.click()"
   ]
  },
  {
   "cell_type": "code",
   "execution_count": 52,
   "id": "fc70af64",
   "metadata": {},
   "outputs": [],
   "source": [
    "import datetime\n",
    "#By using current dater time read the day to select the feature dates"
   ]
  },
  {
   "cell_type": "code",
   "execution_count": 102,
   "id": "5aa10da9",
   "metadata": {},
   "outputs": [],
   "source": [
    "current_date = datetime.date.today()"
   ]
  },
  {
   "cell_type": "code",
   "execution_count": 103,
   "id": "dd5b61bf",
   "metadata": {},
   "outputs": [
    {
     "data": {
      "text/plain": [
       "datetime.date(2024, 4, 4)"
      ]
     },
     "execution_count": 103,
     "metadata": {},
     "output_type": "execute_result"
    }
   ],
   "source": [
    "current_date"
   ]
  },
  {
   "cell_type": "code",
   "execution_count": 104,
   "id": "dd8a0f3b",
   "metadata": {},
   "outputs": [
    {
     "data": {
      "text/plain": [
       "2024"
      ]
     },
     "execution_count": 104,
     "metadata": {},
     "output_type": "execute_result"
    }
   ],
   "source": [
    "current_date.year"
   ]
  },
  {
   "cell_type": "code",
   "execution_count": 105,
   "id": "d1c64f91",
   "metadata": {},
   "outputs": [
    {
     "name": "stdout",
     "output_type": "stream",
     "text": [
      "2024\n"
     ]
    }
   ],
   "source": [
    "year = current_date.year\n",
    "print(year)"
   ]
  },
  {
   "cell_type": "code",
   "execution_count": 107,
   "id": "51009a74",
   "metadata": {},
   "outputs": [
    {
     "data": {
      "text/plain": [
       "4"
      ]
     },
     "execution_count": 107,
     "metadata": {},
     "output_type": "execute_result"
    }
   ],
   "source": [
    "month = current_date.month\n",
    "month"
   ]
  },
  {
   "cell_type": "code",
   "execution_count": 108,
   "id": "aa05d0b5",
   "metadata": {},
   "outputs": [],
   "source": [
    "day = current_date.day"
   ]
  },
  {
   "cell_type": "code",
   "execution_count": 109,
   "id": "7e6ec1a4",
   "metadata": {},
   "outputs": [
    {
     "data": {
      "text/plain": [
       "4"
      ]
     },
     "execution_count": 109,
     "metadata": {},
     "output_type": "execute_result"
    }
   ],
   "source": [
    "day"
   ]
  },
  {
   "cell_type": "code",
   "execution_count": 127,
   "id": "af05a6c5",
   "metadata": {},
   "outputs": [],
   "source": [
    "datepicker.clear()"
   ]
  },
  {
   "cell_type": "code",
   "execution_count": 146,
   "id": "acc98e96",
   "metadata": {},
   "outputs": [],
   "source": [
    "datepicker.click()"
   ]
  },
  {
   "cell_type": "code",
   "execution_count": 150,
   "id": "ea73b0a9",
   "metadata": {},
   "outputs": [],
   "source": [
    "# writing a formated string to pass the current date to select a date from the Screen and send a feature dates also...\n",
    "select_day = driver.find_element(By.XPATH,f\"(//td[@data-handler='selectDay']/a)[{day+10}]\")"
   ]
  },
  {
   "cell_type": "code",
   "execution_count": 151,
   "id": "ade2c91b",
   "metadata": {},
   "outputs": [],
   "source": [
    "select_day.click()"
   ]
  },
  {
   "cell_type": "code",
   "execution_count": 154,
   "id": "d2a254a8",
   "metadata": {},
   "outputs": [],
   "source": [
    "# Switching to months by clicking next and prev\n",
    "months = driver.find_elements(By.XPATH,'//div[@id=\"ui-datepicker-div\"]/div/a')\n",
    "months[1].click()\n"
   ]
  },
  {
   "cell_type": "code",
   "execution_count": 159,
   "id": "65489203",
   "metadata": {},
   "outputs": [],
   "source": [
    "# Sending keys by to the Date Picker.\n",
    "datepicker.clear()\n",
    "datepicker.send_keys(f'{month}/{day+1}/{year}')"
   ]
  },
  {
   "cell_type": "code",
   "execution_count": 160,
   "id": "6de001c8",
   "metadata": {},
   "outputs": [],
   "source": [
    "driver.switch_to.default_content()"
   ]
  },
  {
   "cell_type": "code",
   "execution_count": 162,
   "id": "0ccc3176",
   "metadata": {},
   "outputs": [],
   "source": [
    "driver.quit()"
   ]
  },
  {
   "cell_type": "raw",
   "id": "38472404",
   "metadata": {},
   "source": []
  },
  {
   "cell_type": "markdown",
   "id": "8036d9d0",
   "metadata": {},
   "source": [
    "#### File Upload and Download\n",
    "+ To Upload a file just like sending a keys to  element, here we need to pass path with filename.extention\n",
    "   \n",
    "+ To Download a file,\n",
    "    + Default browser download path. (or)\n",
    "    + change the Preference of the path and download to specified path."
   ]
  },
  {
   "cell_type": "raw",
   "id": "0e5fc782",
   "metadata": {},
   "source": [
    "Uploading a file to application."
   ]
  },
  {
   "cell_type": "code",
   "execution_count": 163,
   "id": "8235f286",
   "metadata": {},
   "outputs": [],
   "source": [
    "base_url = 'https://f360qa.foyr.com/admin/sign-in'"
   ]
  },
  {
   "cell_type": "code",
   "execution_count": 252,
   "id": "1ccac83a",
   "metadata": {},
   "outputs": [],
   "source": [
    "driver = webdriver.Chrome(service=ser)"
   ]
  },
  {
   "cell_type": "code",
   "execution_count": 305,
   "id": "3dcbe5ec",
   "metadata": {},
   "outputs": [],
   "source": [
    "driver.get(base_url)"
   ]
  },
  {
   "cell_type": "code",
   "execution_count": 306,
   "id": "a29f8bd7",
   "metadata": {},
   "outputs": [],
   "source": [
    "email_Id = driver.find_element(By.ID,'email')"
   ]
  },
  {
   "cell_type": "code",
   "execution_count": 307,
   "id": "93b5886c",
   "metadata": {},
   "outputs": [],
   "source": [
    "password = driver.find_element(By.NAME,'password')"
   ]
  },
  {
   "cell_type": "code",
   "execution_count": 308,
   "id": "2813b6a8",
   "metadata": {},
   "outputs": [],
   "source": [
    "email_Id.clear()\n",
    "email_Id.send_keys('admin2610@mail.com')"
   ]
  },
  {
   "cell_type": "code",
   "execution_count": 309,
   "id": "b44606b9",
   "metadata": {},
   "outputs": [],
   "source": [
    "password.clear()\n",
    "password.send_keys('Fractal@1234')"
   ]
  },
  {
   "cell_type": "code",
   "execution_count": 310,
   "id": "d13f4641",
   "metadata": {},
   "outputs": [],
   "source": [
    "login_button = driver.find_element(By.XPATH,\"//button[@type='submit']\")"
   ]
  },
  {
   "cell_type": "code",
   "execution_count": 311,
   "id": "8d7cc972",
   "metadata": {},
   "outputs": [],
   "source": [
    "login_button.click()"
   ]
  },
  {
   "cell_type": "code",
   "execution_count": 312,
   "id": "cecdf8b0",
   "metadata": {},
   "outputs": [],
   "source": [
    "button_xpath = \"//button[@class='border border-card_Bg_Color bg-white mr-4 py-[15px] pl-6 pr-[35px] relative rounded-xl text-sm font-semibold text-primary_Text_Color'][contains(.,'Bulk Actions')]\""
   ]
  },
  {
   "cell_type": "code",
   "execution_count": 313,
   "id": "f2fa8cc3",
   "metadata": {},
   "outputs": [],
   "source": [
    "dropdown = driver.find_element(By.XPATH,button_xpath)"
   ]
  },
  {
   "cell_type": "code",
   "execution_count": 264,
   "id": "6dd5a8d3",
   "metadata": {},
   "outputs": [
    {
     "data": {
      "text/plain": [
       "'button'"
      ]
     },
     "execution_count": 264,
     "metadata": {},
     "output_type": "execute_result"
    }
   ],
   "source": [
    "dropdown.tag_name"
   ]
  },
  {
   "cell_type": "code",
   "execution_count": 314,
   "id": "63c66be2",
   "metadata": {},
   "outputs": [],
   "source": [
    "dropdown.click()"
   ]
  },
  {
   "cell_type": "code",
   "execution_count": 315,
   "id": "5416f04b",
   "metadata": {},
   "outputs": [],
   "source": [
    "dropdown_options_xpath = \"//button[@class='text-[#57677E] font-medium text-sm py-2 cursor-pointer'][contains(.,'Bulk Upload')]\""
   ]
  },
  {
   "cell_type": "code",
   "execution_count": 316,
   "id": "759e8902",
   "metadata": {},
   "outputs": [],
   "source": [
    "dropdown_option=driver.find_element(By.XPATH,dropdown_options_xpath)"
   ]
  },
  {
   "cell_type": "code",
   "execution_count": 317,
   "id": "dc7c38cc",
   "metadata": {},
   "outputs": [
    {
     "data": {
      "text/plain": [
       "[<selenium.webdriver.remote.webelement.WebElement (session=\"1624725782d4d96fbe5ba33ee34ebbb0\", element=\"f.608C99FE19081B0D5E9DD8D59A96188C.d.67B637ED011C113A84423FD8C7591137.e.76\")>]"
      ]
     },
     "execution_count": 317,
     "metadata": {},
     "output_type": "execute_result"
    }
   ],
   "source": [
    "dropdown_options"
   ]
  },
  {
   "cell_type": "code",
   "execution_count": 318,
   "id": "780efd81",
   "metadata": {},
   "outputs": [],
   "source": [
    "dropdown_option.click()"
   ]
  },
  {
   "cell_type": "code",
   "execution_count": 273,
   "id": "63572569",
   "metadata": {},
   "outputs": [],
   "source": [
    "xpath_to_upload = \"//input[@name='file']\""
   ]
  },
  {
   "cell_type": "code",
   "execution_count": 274,
   "id": "c550f823",
   "metadata": {},
   "outputs": [],
   "source": [
    "upload_file = driver.find_element(By.XPATH,xpath_to_upload)"
   ]
  },
  {
   "cell_type": "code",
   "execution_count": 275,
   "id": "d9fe7ba8",
   "metadata": {},
   "outputs": [],
   "source": [
    "file_path_to_upload = '/home/thrymr/Documents/Test Drive 2.xlsx'"
   ]
  },
  {
   "cell_type": "code",
   "execution_count": 276,
   "id": "f9f0cff1",
   "metadata": {},
   "outputs": [],
   "source": [
    "upload_file.send_keys(file_path_to_upload)"
   ]
  },
  {
   "cell_type": "raw",
   "id": "3d05292b",
   "metadata": {},
   "source": [
    "Download a file"
   ]
  },
  {
   "cell_type": "code",
   "execution_count": 319,
   "id": "1d78ec20",
   "metadata": {},
   "outputs": [],
   "source": [
    "download_xpath = \"//button[contains(@class,'text-[#3B82F6] font-medium text-sm underline decoration-[#3B82F6]')]\""
   ]
  },
  {
   "cell_type": "code",
   "execution_count": 320,
   "id": "a4de4ac1",
   "metadata": {},
   "outputs": [],
   "source": [
    "download_file = driver.find_element(By.XPATH,download_xpath)"
   ]
  },
  {
   "cell_type": "code",
   "execution_count": 321,
   "id": "b04f8fe8",
   "metadata": {},
   "outputs": [],
   "source": [
    "download_file.click()"
   ]
  },
  {
   "cell_type": "raw",
   "id": "3a9b3eb3",
   "metadata": {},
   "source": [
    "Download to Specified Path"
   ]
  },
  {
   "cell_type": "code",
   "execution_count": 281,
   "id": "661da148",
   "metadata": {},
   "outputs": [],
   "source": [
    "download_file_path = '/home/thrymr/Downloads/selenium_download/'"
   ]
  },
  {
   "cell_type": "code",
   "execution_count": 298,
   "id": "535c36d4",
   "metadata": {},
   "outputs": [],
   "source": [
    "from selenium.webdriver.chrome.options import Options"
   ]
  },
  {
   "cell_type": "code",
   "execution_count": 299,
   "id": "1666ce52",
   "metadata": {},
   "outputs": [],
   "source": [
    "opt = webdriver.ChromeOptions()"
   ]
  },
  {
   "cell_type": "code",
   "execution_count": 303,
   "id": "aa857157",
   "metadata": {},
   "outputs": [],
   "source": [
    "opt.add_experimental_option('prefs',{'download.default_directory':download_file_path})"
   ]
  },
  {
   "cell_type": "raw",
   "id": "4a9273f5",
   "metadata": {},
   "source": [
    "TO Download file to specific path, now we need to rerun the driver with opt paramenter that we specified above."
   ]
  },
  {
   "cell_type": "raw",
   "id": "77649e3f",
   "metadata": {},
   "source": [
    "driver = webdriver.Chrome(service=ser,options=opt)"
   ]
  },
  {
   "cell_type": "code",
   "execution_count": 322,
   "id": "0bbc893a",
   "metadata": {},
   "outputs": [],
   "source": [
    "driver.quit()"
   ]
  },
  {
   "cell_type": "code",
   "execution_count": 304,
   "id": "45e8ec05",
   "metadata": {},
   "outputs": [],
   "source": [
    "driver = webdriver.Chrome(service=ser,options=opt)"
   ]
  },
  {
   "cell_type": "raw",
   "id": "89f27557",
   "metadata": {},
   "source": [
    "again navigating application to Download file and execute code .. it will download to specifed file path.{download_file_path}"
   ]
  },
  {
   "cell_type": "raw",
   "id": "6a2c3246",
   "metadata": {},
   "source": []
  },
  {
   "cell_type": "markdown",
   "id": "18ede3e6",
   "metadata": {},
   "source": [
    "#### Drag and Drop"
   ]
  },
  {
   "cell_type": "code",
   "execution_count": 337,
   "id": "b0b9912d",
   "metadata": {},
   "outputs": [],
   "source": [
    "driver = webdriver.Chrome(service=ser)"
   ]
  },
  {
   "cell_type": "code",
   "execution_count": 338,
   "id": "2a3d7501",
   "metadata": {},
   "outputs": [],
   "source": [
    "from selenium.webdriver.common.action_chains import ActionChains"
   ]
  },
  {
   "cell_type": "code",
   "execution_count": 339,
   "id": "f93ab69c",
   "metadata": {},
   "outputs": [],
   "source": [
    "driver.get(path.jqueryui+'droppable/')"
   ]
  },
  {
   "cell_type": "code",
   "execution_count": 340,
   "id": "30bb3b09",
   "metadata": {},
   "outputs": [],
   "source": [
    "actions = ActionChains(driver=driver)"
   ]
  },
  {
   "cell_type": "code",
   "execution_count": 341,
   "id": "4d22747d",
   "metadata": {},
   "outputs": [],
   "source": [
    "iframe_element = driver.find_element(By.CSS_SELECTOR,'iframe.demo-frame')"
   ]
  },
  {
   "cell_type": "code",
   "execution_count": 342,
   "id": "f11bf271",
   "metadata": {},
   "outputs": [],
   "source": [
    "driver.switch_to.frame(iframe_element)"
   ]
  },
  {
   "cell_type": "code",
   "execution_count": 343,
   "id": "381c4b9b",
   "metadata": {},
   "outputs": [],
   "source": [
    "source_element = driver.find_element(By.ID,'draggable')"
   ]
  },
  {
   "cell_type": "code",
   "execution_count": 344,
   "id": "426d2112",
   "metadata": {},
   "outputs": [],
   "source": [
    "target_element = driver.find_element(By.ID,'droppable')"
   ]
  },
  {
   "cell_type": "code",
   "execution_count": 348,
   "id": "f1f3f579",
   "metadata": {},
   "outputs": [],
   "source": [
    "actions.drag_and_drop(source_element,target_element).perform()"
   ]
  },
  {
   "cell_type": "code",
   "execution_count": 349,
   "id": "743e86b1",
   "metadata": {},
   "outputs": [],
   "source": [
    "actions.drag_and_drop_by_offset(source=source_element,xoffset=20,yoffset=33).perform()"
   ]
  },
  {
   "cell_type": "code",
   "execution_count": null,
   "id": "e5561238",
   "metadata": {},
   "outputs": [],
   "source": []
  },
  {
   "cell_type": "code",
   "execution_count": 350,
   "id": "4f386269",
   "metadata": {},
   "outputs": [],
   "source": [
    "driver.switch_to.default_content()"
   ]
  },
  {
   "cell_type": "code",
   "execution_count": 351,
   "id": "1b175b1c",
   "metadata": {},
   "outputs": [],
   "source": [
    "driver.quit()"
   ]
  },
  {
   "cell_type": "raw",
   "id": "3ac8d9bc",
   "metadata": {},
   "source": []
  },
  {
   "cell_type": "markdown",
   "id": "304d4119",
   "metadata": {},
   "source": [
    "#### Sliders"
   ]
  },
  {
   "cell_type": "code",
   "execution_count": 352,
   "id": "1d237d22",
   "metadata": {},
   "outputs": [],
   "source": [
    "driver = webdriver.Chrome(service=ser)"
   ]
  },
  {
   "cell_type": "code",
   "execution_count": 354,
   "id": "34000920",
   "metadata": {},
   "outputs": [],
   "source": [
    "driver.get(path.jqueryui+'slider')"
   ]
  },
  {
   "cell_type": "code",
   "execution_count": 355,
   "id": "a838cdfb",
   "metadata": {},
   "outputs": [],
   "source": [
    "iframe_element = driver.find_element(By.CSS_SELECTOR,'iframe.demo-frame')"
   ]
  },
  {
   "cell_type": "code",
   "execution_count": 356,
   "id": "98e1d27c",
   "metadata": {},
   "outputs": [],
   "source": [
    "from selenium.webdriver.common.action_chains import ActionChains"
   ]
  },
  {
   "cell_type": "code",
   "execution_count": 357,
   "id": "35f87090",
   "metadata": {},
   "outputs": [],
   "source": [
    "driver.switch_to.frame(iframe_element)"
   ]
  },
  {
   "cell_type": "code",
   "execution_count": 358,
   "id": "6745d8c1",
   "metadata": {},
   "outputs": [],
   "source": [
    "slider_element = driver.find_element(By.XPATH,\"//div[@id='slider']/span\")"
   ]
  },
  {
   "cell_type": "code",
   "execution_count": 359,
   "id": "ffdb2a17",
   "metadata": {},
   "outputs": [],
   "source": [
    "actions = ActionChains(driver=driver)"
   ]
  },
  {
   "cell_type": "code",
   "execution_count": 367,
   "id": "daffb55c",
   "metadata": {},
   "outputs": [],
   "source": [
    "actions.move_to_element_with_offset(slider_element,80,0).click().perform()"
   ]
  },
  {
   "cell_type": "code",
   "execution_count": 368,
   "id": "fdd249f5",
   "metadata": {},
   "outputs": [],
   "source": [
    "actions.drag_and_drop_by_offset(slider_element,50,0).click().perform()"
   ]
  },
  {
   "cell_type": "code",
   "execution_count": 369,
   "id": "77300d5a",
   "metadata": {},
   "outputs": [],
   "source": [
    "actions.drag_and_drop_by_offset(slider_element,-80,0).click().perform()"
   ]
  },
  {
   "cell_type": "code",
   "execution_count": 370,
   "id": "de88d0b0",
   "metadata": {},
   "outputs": [],
   "source": [
    "driver.switch_to.default_content()"
   ]
  },
  {
   "cell_type": "code",
   "execution_count": 75,
   "id": "427a6efc",
   "metadata": {},
   "outputs": [],
   "source": [
    "driver.quit()"
   ]
  },
  {
   "cell_type": "raw",
   "id": "ba8f013f",
   "metadata": {},
   "source": []
  },
  {
   "cell_type": "markdown",
   "id": "8a4e78e6",
   "metadata": {},
   "source": [
    "#### Keyboard actions\n",
    "key_down() is used to the press the key\n",
    "key_up() is used to release the key\n",
    " + instead of key_up we can use release() method from the ActionChains"
   ]
  },
  {
   "cell_type": "code",
   "execution_count": 76,
   "id": "33b0c93b",
   "metadata": {},
   "outputs": [],
   "source": [
    " driver = webdriver.Chrome(service=ser)"
   ]
  },
  {
   "cell_type": "code",
   "execution_count": 77,
   "id": "91d192b0",
   "metadata": {},
   "outputs": [],
   "source": [
    "driver.get(path.admin_hr_login_urls)"
   ]
  },
  {
   "cell_type": "code",
   "execution_count": 10,
   "id": "db8bd813",
   "metadata": {},
   "outputs": [],
   "source": [
    "from selenium.webdriver.common.action_chains import ActionChains"
   ]
  },
  {
   "cell_type": "code",
   "execution_count": 81,
   "id": "3876d6af",
   "metadata": {},
   "outputs": [],
   "source": [
    "actions = ActionChains(driver=driver)"
   ]
  },
  {
   "cell_type": "code",
   "execution_count": 78,
   "id": "d15dc31c",
   "metadata": {},
   "outputs": [],
   "source": [
    "email= driver.find_element(By.ID,'email')"
   ]
  },
  {
   "cell_type": "code",
   "execution_count": 79,
   "id": "1344a168",
   "metadata": {},
   "outputs": [],
   "source": [
    "email.click()"
   ]
  },
  {
   "cell_type": "code",
   "execution_count": 9,
   "id": "0a1214ba",
   "metadata": {},
   "outputs": [],
   "source": [
    "from selenium.webdriver.common.keys import Keys"
   ]
  },
  {
   "cell_type": "code",
   "execution_count": 92,
   "id": "c32806bd",
   "metadata": {},
   "outputs": [],
   "source": [
    "actions.key_down(Keys.NUMPAD0).release().perform()\n",
    "actions.key_down(Keys.NUMPAD1).release().perform()\n",
    "actions.key_down(Keys.NUMPAD2).release().perform()\n",
    "actions.key_down(Keys.NUMPAD3).release().perform()\n",
    "actions.key_down(Keys.NUMPAD4).release().perform()\n"
   ]
  },
  {
   "cell_type": "code",
   "execution_count": 83,
   "id": "1b18c18f",
   "metadata": {},
   "outputs": [],
   "source": [
    "actions.key_down(Keys.CONTROL).send_keys(\"v\").key_up(Keys.CONTROL).perform()"
   ]
  },
  {
   "cell_type": "code",
   "execution_count": 87,
   "id": "a7f497e2",
   "metadata": {},
   "outputs": [],
   "source": [
    "actions.key_down(Keys.CONTROL).send_keys('a').release().perform()\n",
    "actions.key_down(Keys.CONTROL).send_keys('c').release().perform()"
   ]
  },
  {
   "cell_type": "code",
   "execution_count": 85,
   "id": "3bda8636",
   "metadata": {},
   "outputs": [],
   "source": [
    "actions.key_down(Keys.ARROW_RIGHT).release().perform()"
   ]
  },
  {
   "cell_type": "code",
   "execution_count": 88,
   "id": "a594dcd3",
   "metadata": {},
   "outputs": [],
   "source": [
    "actions.key_down(Keys.CONTROL).send_keys('v').release().perform()"
   ]
  },
  {
   "cell_type": "code",
   "execution_count": 93,
   "id": "b0df4cf0",
   "metadata": {},
   "outputs": [],
   "source": [
    "driver.quit()"
   ]
  },
  {
   "cell_type": "code",
   "execution_count": null,
   "id": "e82b96e3",
   "metadata": {},
   "outputs": [],
   "source": []
  }
 ],
 "metadata": {
  "kernelspec": {
   "display_name": "Python 3 (ipykernel)",
   "language": "python",
   "name": "python3"
  },
  "language_info": {
   "codemirror_mode": {
    "name": "ipython",
    "version": 3
   },
   "file_extension": ".py",
   "mimetype": "text/x-python",
   "name": "python",
   "nbconvert_exporter": "python",
   "pygments_lexer": "ipython3",
   "version": "3.11.5"
  }
 },
 "nbformat": 4,
 "nbformat_minor": 5
}
