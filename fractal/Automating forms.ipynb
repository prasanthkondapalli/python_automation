{
 "cells": [
  {
   "cell_type": "code",
   "execution_count": 1,
   "id": "299b5398",
   "metadata": {},
   "outputs": [
    {
     "name": "stdout",
     "output_type": "stream",
     "text": [
      "importing Jupyter notebook from path.ipynb\n"
     ]
    }
   ],
   "source": [
    "import import_ipynb\n",
    "import path\n",
    "from selenium import webdriver\n",
    "from selenium.webdriver.chrome.service import Service\n",
    "from selenium.webdriver.common.by import By\n"
   ]
  },
  {
   "cell_type": "code",
   "execution_count": 2,
   "id": "da8e1f3a",
   "metadata": {},
   "outputs": [],
   "source": [
    "from selenium.webdriver.common.action_chains import ActionChains"
   ]
  },
  {
   "cell_type": "code",
   "execution_count": 3,
   "id": "b0dcb926",
   "metadata": {},
   "outputs": [],
   "source": [
    "ser = Service(executable_path=path.driver_path)"
   ]
  },
  {
   "cell_type": "code",
   "execution_count": 4,
   "id": "22d89d64",
   "metadata": {},
   "outputs": [],
   "source": [
    "driver = webdriver.Chrome(service=ser)"
   ]
  },
  {
   "cell_type": "code",
   "execution_count": 5,
   "id": "81fda123",
   "metadata": {},
   "outputs": [],
   "source": [
    "driver.get(path.anonymous_login_url)"
   ]
  },
  {
   "cell_type": "markdown",
   "id": "be65bf27",
   "metadata": {},
   "source": [
    "#### Button Actions\n",
    "+ click\n",
    "+ click and hold\n",
    "+ right click"
   ]
  },
  {
   "cell_type": "code",
   "execution_count": 6,
   "id": "b6a4a788",
   "metadata": {},
   "outputs": [],
   "source": [
    "button = driver.find_element(By.XPATH,\"//button[@type='submit']\")"
   ]
  },
  {
   "cell_type": "code",
   "execution_count": 7,
   "id": "772e1f54",
   "metadata": {},
   "outputs": [],
   "source": [
    "button.click()"
   ]
  },
  {
   "cell_type": "code",
   "execution_count": 8,
   "id": "679d3ea2",
   "metadata": {},
   "outputs": [],
   "source": [
    "action = ActionChains(driver=driver)"
   ]
  },
  {
   "cell_type": "code",
   "execution_count": 9,
   "id": "007525a9",
   "metadata": {},
   "outputs": [],
   "source": [
    "action.context_click(button).perform()"
   ]
  },
  {
   "cell_type": "code",
   "execution_count": 10,
   "id": "4a5b17c4",
   "metadata": {},
   "outputs": [],
   "source": [
    "action.click_and_hold(button).perform()"
   ]
  },
  {
   "cell_type": "code",
   "execution_count": 12,
   "id": "1b5658e1",
   "metadata": {},
   "outputs": [],
   "source": [
    "# to release the button\n",
    "action.release().perform()"
   ]
  },
  {
   "cell_type": "code",
   "execution_count": 13,
   "id": "e8e3a77c",
   "metadata": {},
   "outputs": [],
   "source": [
    "driver.quit()"
   ]
  },
  {
   "cell_type": "raw",
   "id": "aae6d39e",
   "metadata": {},
   "source": []
  },
  {
   "cell_type": "markdown",
   "id": "5ab4906a",
   "metadata": {},
   "source": [
    "#### Text box interactions\n",
    "+ clear the field\n",
    "    + element.clear()\n",
    "+ send the keys into it\n",
    "    + element.send_keys('text')"
   ]
  },
  {
   "cell_type": "code",
   "execution_count": 14,
   "id": "693cc7a9",
   "metadata": {},
   "outputs": [],
   "source": [
    "driver = webdriver.Chrome(service=ser)"
   ]
  },
  {
   "cell_type": "code",
   "execution_count": 15,
   "id": "26156521",
   "metadata": {},
   "outputs": [],
   "source": [
    "driver.get(path.admin_hr_login_urls)"
   ]
  },
  {
   "cell_type": "code",
   "execution_count": 16,
   "id": "a214eff6",
   "metadata": {},
   "outputs": [],
   "source": [
    "email_element = driver.find_element(By.XPATH,\"//input[@name='email']\")"
   ]
  },
  {
   "cell_type": "code",
   "execution_count": 23,
   "id": "0d931159",
   "metadata": {},
   "outputs": [],
   "source": [
    "email_element.clear()"
   ]
  },
  {
   "cell_type": "code",
   "execution_count": 24,
   "id": "fadba49e",
   "metadata": {},
   "outputs": [],
   "source": [
    "email_element.send_keys('hr@b.com')"
   ]
  },
  {
   "cell_type": "code",
   "execution_count": 19,
   "id": "90596282",
   "metadata": {},
   "outputs": [],
   "source": [
    "login_button = driver.find_element(By.XPATH,\"//button[@type='submit']\")"
   ]
  },
  {
   "cell_type": "code",
   "execution_count": 20,
   "id": "25236762",
   "metadata": {},
   "outputs": [],
   "source": [
    "login_button.click()"
   ]
  },
  {
   "cell_type": "code",
   "execution_count": 21,
   "id": "176aa104",
   "metadata": {},
   "outputs": [
    {
     "data": {
      "text/plain": [
       "False"
      ]
     },
     "execution_count": 21,
     "metadata": {},
     "output_type": "execute_result"
    }
   ],
   "source": [
    "login_button.is_enabled()"
   ]
  },
  {
   "cell_type": "code",
   "execution_count": 22,
   "id": "27992751",
   "metadata": {},
   "outputs": [
    {
     "data": {
      "text/plain": [
       "'Login'"
      ]
     },
     "execution_count": 22,
     "metadata": {},
     "output_type": "execute_result"
    }
   ],
   "source": [
    "login_button.text"
   ]
  },
  {
   "cell_type": "code",
   "execution_count": 26,
   "id": "bea0b713",
   "metadata": {},
   "outputs": [],
   "source": [
    "driver.close()"
   ]
  },
  {
   "cell_type": "raw",
   "id": "7315d857",
   "metadata": {},
   "source": []
  },
  {
   "cell_type": "markdown",
   "id": "8288a33d",
   "metadata": {},
   "source": [
    "#### Radio Buttons"
   ]
  },
  {
   "cell_type": "code",
   "execution_count": 4,
   "id": "93614972",
   "metadata": {},
   "outputs": [],
   "source": [
    "driver = webdriver.Chrome(service=ser)"
   ]
  },
  {
   "cell_type": "code",
   "execution_count": 5,
   "id": "94c1a341",
   "metadata": {},
   "outputs": [],
   "source": [
    "driver.get(path.radio_check_buttons)"
   ]
  },
  {
   "cell_type": "code",
   "execution_count": 32,
   "id": "a896d680",
   "metadata": {},
   "outputs": [],
   "source": [
    "checkboxes = driver.find_elements(By.XPATH,\"//input[@type='checkbox']\")"
   ]
  },
  {
   "cell_type": "code",
   "execution_count": 33,
   "id": "aad80be3",
   "metadata": {},
   "outputs": [],
   "source": [
    "checkboxe1 = checkboxes[1]"
   ]
  },
  {
   "cell_type": "code",
   "execution_count": 34,
   "id": "06545964",
   "metadata": {},
   "outputs": [
    {
     "data": {
      "text/plain": [
       "False"
      ]
     },
     "execution_count": 34,
     "metadata": {},
     "output_type": "execute_result"
    }
   ],
   "source": [
    "checkboxes[1].is_selected()"
   ]
  },
  {
   "cell_type": "code",
   "execution_count": 35,
   "id": "0ec2387f",
   "metadata": {},
   "outputs": [
    {
     "data": {
      "text/plain": [
       "''"
      ]
     },
     "execution_count": 35,
     "metadata": {},
     "output_type": "execute_result"
    }
   ],
   "source": [
    "checkboxes[1].text"
   ]
  },
  {
   "cell_type": "code",
   "execution_count": 36,
   "id": "bd79fc8b",
   "metadata": {},
   "outputs": [
    {
     "data": {
      "text/plain": [
       "'No Response Required'"
      ]
     },
     "execution_count": 36,
     "metadata": {},
     "output_type": "execute_result"
    }
   ],
   "source": [
    "checkboxes[1].get_attribute('value')"
   ]
  },
  {
   "cell_type": "code",
   "execution_count": 37,
   "id": "ff88d8b2",
   "metadata": {},
   "outputs": [
    {
     "data": {
      "text/plain": [
       "True"
      ]
     },
     "execution_count": 37,
     "metadata": {},
     "output_type": "execute_result"
    }
   ],
   "source": [
    "checkboxe1.is_enabled()"
   ]
  },
  {
   "cell_type": "code",
   "execution_count": 38,
   "id": "368563f0",
   "metadata": {},
   "outputs": [
    {
     "data": {
      "text/plain": [
       "False"
      ]
     },
     "execution_count": 38,
     "metadata": {},
     "output_type": "execute_result"
    }
   ],
   "source": [
    "checkboxe1.is_selected()"
   ]
  },
  {
   "cell_type": "code",
   "execution_count": 39,
   "id": "5be587ab",
   "metadata": {},
   "outputs": [],
   "source": [
    "checkboxe1.click()"
   ]
  },
  {
   "cell_type": "code",
   "execution_count": 40,
   "id": "046ab8db",
   "metadata": {},
   "outputs": [
    {
     "data": {
      "text/plain": [
       "True"
      ]
     },
     "execution_count": 40,
     "metadata": {},
     "output_type": "execute_result"
    }
   ],
   "source": [
    "checkboxe1.is_selected()"
   ]
  },
  {
   "cell_type": "code",
   "execution_count": 41,
   "id": "172f81c8",
   "metadata": {},
   "outputs": [],
   "source": [
    "checkboxe1.click()"
   ]
  },
  {
   "cell_type": "code",
   "execution_count": 49,
   "id": "ae78dbc0",
   "metadata": {},
   "outputs": [
    {
     "data": {
      "text/plain": [
       "False"
      ]
     },
     "execution_count": 49,
     "metadata": {},
     "output_type": "execute_result"
    }
   ],
   "source": [
    "checkboxe1.is_selected()"
   ]
  },
  {
   "cell_type": "code",
   "execution_count": 65,
   "id": "8487bfae",
   "metadata": {},
   "outputs": [],
   "source": [
    "radio_buttons = driver.find_elements(By.XPATH,\"//span[@class='radio-label']\")"
   ]
  },
  {
   "cell_type": "code",
   "execution_count": 66,
   "id": "ee8a3e94",
   "metadata": {},
   "outputs": [
    {
     "data": {
      "text/plain": [
       "2"
      ]
     },
     "execution_count": 66,
     "metadata": {},
     "output_type": "execute_result"
    }
   ],
   "source": [
    "len(radio_buttons)"
   ]
  },
  {
   "cell_type": "code",
   "execution_count": 79,
   "id": "647799c6",
   "metadata": {
    "scrolled": false
   },
   "outputs": [
    {
     "name": "stdout",
     "output_type": "stream",
     "text": [
      "None\n",
      "Private Show\n",
      "None\n",
      "Public Show\n"
     ]
    }
   ],
   "source": [
    "import time\n",
    "for i in radio_buttons:\n",
    "    print(i.get_attribute('value'))\n",
    "    print(i.text)\n",
    "    time.sleep(5)\n",
    "    i.click()\n"
   ]
  },
  {
   "cell_type": "code",
   "execution_count": 69,
   "id": "3b93b39c",
   "metadata": {},
   "outputs": [],
   "source": [
    "radio_button1 = radio_buttons[0]"
   ]
  },
  {
   "cell_type": "code",
   "execution_count": 70,
   "id": "08ecab01",
   "metadata": {},
   "outputs": [
    {
     "data": {
      "text/plain": [
       "False"
      ]
     },
     "execution_count": 70,
     "metadata": {},
     "output_type": "execute_result"
    }
   ],
   "source": [
    "radio_button1.is_selected()"
   ]
  },
  {
   "cell_type": "code",
   "execution_count": 71,
   "id": "3f67143f",
   "metadata": {},
   "outputs": [],
   "source": [
    "radio_button1.get_attribute('value')"
   ]
  },
  {
   "cell_type": "code",
   "execution_count": 13,
   "id": "5f7d2d8a",
   "metadata": {},
   "outputs": [],
   "source": [
    "import time"
   ]
  },
  {
   "cell_type": "code",
   "execution_count": 76,
   "id": "e542243a",
   "metadata": {},
   "outputs": [],
   "source": [
    "radio_button1.click()"
   ]
  },
  {
   "cell_type": "code",
   "execution_count": 55,
   "id": "0722c7df",
   "metadata": {},
   "outputs": [],
   "source": [
    "from selenium.webdriver.support.ui import WebDriverWait\n",
    "from selenium.webdriver.support import expected_conditions as EC"
   ]
  },
  {
   "cell_type": "code",
   "execution_count": 56,
   "id": "768da620",
   "metadata": {},
   "outputs": [],
   "source": [
    "wait_time = WebDriverWait(driver,10)"
   ]
  },
  {
   "cell_type": "code",
   "execution_count": 57,
   "id": "5b4bbc9b",
   "metadata": {},
   "outputs": [
    {
     "ename": "TimeoutException",
     "evalue": "Message: \n",
     "output_type": "error",
     "traceback": [
      "\u001b[0;31m---------------------------------------------------------------------------\u001b[0m",
      "\u001b[0;31mTimeoutException\u001b[0m                          Traceback (most recent call last)",
      "Cell \u001b[0;32mIn [57], line 1\u001b[0m\n\u001b[0;32m----> 1\u001b[0m radio_button_element \u001b[38;5;241m=\u001b[39m wait_time\u001b[38;5;241m.\u001b[39muntil(EC\u001b[38;5;241m.\u001b[39melement_to_be_clickable((By\u001b[38;5;241m.\u001b[39mXPATH,\u001b[38;5;124m'\u001b[39m\u001b[38;5;124m//input[@type=\u001b[39m\u001b[38;5;124m\"\u001b[39m\u001b[38;5;124mradio\u001b[39m\u001b[38;5;124m\"\u001b[39m\u001b[38;5;124m]\u001b[39m\u001b[38;5;124m'\u001b[39m)))\n",
      "File \u001b[0;32m~/anaconda3/lib/python3.11/site-packages/selenium/webdriver/support/wait.py:90\u001b[0m, in \u001b[0;36mWebDriverWait.until\u001b[0;34m(self, method, message)\u001b[0m\n\u001b[1;32m     88\u001b[0m     \u001b[38;5;28;01mif\u001b[39;00m time\u001b[38;5;241m.\u001b[39mmonotonic() \u001b[38;5;241m>\u001b[39m end_time:\n\u001b[1;32m     89\u001b[0m         \u001b[38;5;28;01mbreak\u001b[39;00m\n\u001b[0;32m---> 90\u001b[0m \u001b[38;5;28;01mraise\u001b[39;00m TimeoutException(message, screen, stacktrace)\n",
      "\u001b[0;31mTimeoutException\u001b[0m: Message: \n"
     ]
    }
   ],
   "source": [
    "radio_button_element = wait_time.until(EC.element_to_be_clickable((By.XPATH,'//input[@type=\"radio\"]')))"
   ]
  },
  {
   "cell_type": "code",
   "execution_count": null,
   "id": "a0e83a9c",
   "metadata": {},
   "outputs": [],
   "source": []
  },
  {
   "cell_type": "code",
   "execution_count": null,
   "id": "b6453ce9",
   "metadata": {},
   "outputs": [],
   "source": []
  },
  {
   "cell_type": "code",
   "execution_count": null,
   "id": "a4b3396e",
   "metadata": {},
   "outputs": [],
   "source": []
  },
  {
   "cell_type": "code",
   "execution_count": null,
   "id": "0a35a43f",
   "metadata": {},
   "outputs": [],
   "source": []
  },
  {
   "cell_type": "code",
   "execution_count": 73,
   "id": "7265f82c",
   "metadata": {},
   "outputs": [],
   "source": [
    "radio_button2 = radio_buttons[1]"
   ]
  },
  {
   "cell_type": "code",
   "execution_count": 74,
   "id": "34f85f52",
   "metadata": {},
   "outputs": [],
   "source": [
    "radio_button2.get_attribute('value')"
   ]
  },
  {
   "cell_type": "code",
   "execution_count": 77,
   "id": "43ac9b5e",
   "metadata": {},
   "outputs": [],
   "source": [
    "radio_button2.click()"
   ]
  },
  {
   "cell_type": "code",
   "execution_count": 80,
   "id": "afb42b12",
   "metadata": {},
   "outputs": [],
   "source": [
    "driver.close()"
   ]
  },
  {
   "cell_type": "raw",
   "id": "8452e678",
   "metadata": {},
   "source": []
  },
  {
   "cell_type": "markdown",
   "id": "f16f41c4",
   "metadata": {},
   "source": [
    "#### Handling Dropdown buttons.\n",
    "Two way to handle dropdowns.\n",
    "+ Normal method.\n",
    "    * 1.1. finding elements and looping into it.\n",
    "+ Select method.\n",
    "    * looping the direct dropdown element by using select method\n",
    "    "
   ]
  },
  {
   "cell_type": "code",
   "execution_count": 81,
   "id": "96f5744d",
   "metadata": {},
   "outputs": [],
   "source": [
    "driver = webdriver.Chrome(service=ser)"
   ]
  },
  {
   "cell_type": "code",
   "execution_count": 82,
   "id": "43138ae5",
   "metadata": {},
   "outputs": [],
   "source": [
    "driver.get(path.radio_check_buttons)"
   ]
  },
  {
   "cell_type": "markdown",
   "id": "88585b2e",
   "metadata": {},
   "source": [
    "Normal method"
   ]
  },
  {
   "cell_type": "code",
   "execution_count": 83,
   "id": "ec89651d",
   "metadata": {},
   "outputs": [],
   "source": [
    "dropdown = driver.find_element(By.ID,\"select-e1f50715-c8a7-48eb-bc99-2c245676068c-field\")"
   ]
  },
  {
   "cell_type": "code",
   "execution_count": 84,
   "id": "90691932",
   "metadata": {},
   "outputs": [],
   "source": [
    "options = dropdown.find_elements(By.TAG_NAME,'option')"
   ]
  },
  {
   "cell_type": "code",
   "execution_count": 86,
   "id": "46ade75b",
   "metadata": {},
   "outputs": [
    {
     "name": "stdout",
     "output_type": "stream",
     "text": [
      "Select an option\n",
      "Google\n",
      "Facebook\n",
      "Instagram\n",
      "Other\n"
     ]
    }
   ],
   "source": [
    "for i in options:\n",
    "    print(i.text)"
   ]
  },
  {
   "cell_type": "code",
   "execution_count": 87,
   "id": "a1e1bc5c",
   "metadata": {},
   "outputs": [],
   "source": [
    "options[2].click()"
   ]
  },
  {
   "cell_type": "code",
   "execution_count": 89,
   "id": "c88952a7",
   "metadata": {},
   "outputs": [],
   "source": [
    "options[1].click()"
   ]
  },
  {
   "cell_type": "markdown",
   "id": "bc296dea",
   "metadata": {},
   "source": [
    "Select method"
   ]
  },
  {
   "cell_type": "code",
   "execution_count": 90,
   "id": "49d7d291",
   "metadata": {},
   "outputs": [],
   "source": [
    "from selenium.webdriver.support.ui import Select"
   ]
  },
  {
   "cell_type": "code",
   "execution_count": 91,
   "id": "fad9996f",
   "metadata": {},
   "outputs": [],
   "source": [
    "select = Select(dropdown)"
   ]
  },
  {
   "cell_type": "code",
   "execution_count": 95,
   "id": "cc514e82",
   "metadata": {},
   "outputs": [
    {
     "name": "stdout",
     "output_type": "stream",
     "text": [
      "Google\n",
      "Facebook\n",
      "Instagram\n",
      "Other\n"
     ]
    }
   ],
   "source": [
    "for i in select.options:\n",
    "    print(i.text)"
   ]
  },
  {
   "cell_type": "code",
   "execution_count": 103,
   "id": "d5f1938a",
   "metadata": {},
   "outputs": [],
   "source": [
    "select.select_by_index(1)"
   ]
  },
  {
   "cell_type": "code",
   "execution_count": 104,
   "id": "f3a488fc",
   "metadata": {},
   "outputs": [],
   "source": [
    "select.select_by_value('Instagram')"
   ]
  },
  {
   "cell_type": "code",
   "execution_count": 105,
   "id": "c46c454c",
   "metadata": {},
   "outputs": [],
   "source": [
    "select.select_by_visible_text('Other')"
   ]
  },
  {
   "cell_type": "code",
   "execution_count": 106,
   "id": "10714ac5",
   "metadata": {},
   "outputs": [],
   "source": [
    "driver.close()"
   ]
  },
  {
   "cell_type": "raw",
   "id": "607667ac",
   "metadata": {},
   "source": []
  },
  {
   "cell_type": "markdown",
   "id": "7abec7dd",
   "metadata": {},
   "source": [
    "#### Date picker"
   ]
  },
  {
   "cell_type": "code",
   "execution_count": 13,
   "id": "4e724884",
   "metadata": {},
   "outputs": [],
   "source": [
    "driver = webdriver.Chrome(service=ser)"
   ]
  },
  {
   "cell_type": "code",
   "execution_count": 14,
   "id": "0f2c9484",
   "metadata": {},
   "outputs": [],
   "source": [
    "driver.get(path.jqueryui + 'datepicker')"
   ]
  },
  {
   "cell_type": "code",
   "execution_count": 15,
   "id": "d47b14b3",
   "metadata": {},
   "outputs": [],
   "source": [
    "iframe_datepicker = driver.find_element(By.XPATH,\"//iframe[@class='demo-frame']\")"
   ]
  },
  {
   "cell_type": "code",
   "execution_count": 16,
   "id": "91519882",
   "metadata": {},
   "outputs": [],
   "source": [
    "driver.switch_to.frame(iframe_datepicker)"
   ]
  },
  {
   "cell_type": "code",
   "execution_count": 18,
   "id": "a2a50751",
   "metadata": {},
   "outputs": [],
   "source": [
    "datepicker = driver.find_element(By.XPATH,\"//input[@id='datepicker']\")"
   ]
  },
  {
   "cell_type": "code",
   "execution_count": 122,
   "id": "0d08539c",
   "metadata": {},
   "outputs": [],
   "source": [
    "datepicker.click()"
   ]
  },
  {
   "cell_type": "code",
   "execution_count": 52,
   "id": "fd82bef5",
   "metadata": {},
   "outputs": [],
   "source": [
    "import datetime\n",
    "#By using current dater time read the day to select the feature dates"
   ]
  },
  {
   "cell_type": "code",
   "execution_count": 102,
   "id": "0ed223c0",
   "metadata": {},
   "outputs": [],
   "source": [
    "current_date = datetime.date.today()"
   ]
  },
  {
   "cell_type": "code",
   "execution_count": 103,
   "id": "b472986e",
   "metadata": {},
   "outputs": [
    {
     "data": {
      "text/plain": [
       "datetime.date(2024, 4, 4)"
      ]
     },
     "execution_count": 103,
     "metadata": {},
     "output_type": "execute_result"
    }
   ],
   "source": [
    "current_date"
   ]
  },
  {
   "cell_type": "code",
   "execution_count": 104,
   "id": "748a7800",
   "metadata": {},
   "outputs": [
    {
     "data": {
      "text/plain": [
       "2024"
      ]
     },
     "execution_count": 104,
     "metadata": {},
     "output_type": "execute_result"
    }
   ],
   "source": [
    "current_date.year"
   ]
  },
  {
   "cell_type": "code",
   "execution_count": 105,
   "id": "3e28258b",
   "metadata": {},
   "outputs": [
    {
     "name": "stdout",
     "output_type": "stream",
     "text": [
      "2024\n"
     ]
    }
   ],
   "source": [
    "year = current_date.year\n",
    "print(year)"
   ]
  },
  {
   "cell_type": "code",
   "execution_count": 107,
   "id": "b8683738",
   "metadata": {},
   "outputs": [
    {
     "data": {
      "text/plain": [
       "4"
      ]
     },
     "execution_count": 107,
     "metadata": {},
     "output_type": "execute_result"
    }
   ],
   "source": [
    "month = current_date.month\n",
    "month"
   ]
  },
  {
   "cell_type": "code",
   "execution_count": 108,
   "id": "4f6ad106",
   "metadata": {},
   "outputs": [],
   "source": [
    "day = current_date.day"
   ]
  },
  {
   "cell_type": "code",
   "execution_count": 109,
   "id": "d4630861",
   "metadata": {},
   "outputs": [
    {
     "data": {
      "text/plain": [
       "4"
      ]
     },
     "execution_count": 109,
     "metadata": {},
     "output_type": "execute_result"
    }
   ],
   "source": [
    "day"
   ]
  },
  {
   "cell_type": "code",
   "execution_count": 127,
   "id": "06d4f771",
   "metadata": {},
   "outputs": [],
   "source": [
    "datepicker.clear()"
   ]
  },
  {
   "cell_type": "code",
   "execution_count": 146,
   "id": "66906b6f",
   "metadata": {},
   "outputs": [],
   "source": [
    "datepicker.click()"
   ]
  },
  {
   "cell_type": "code",
   "execution_count": 150,
   "id": "b7b56a9e",
   "metadata": {},
   "outputs": [],
   "source": [
    "# writing a formated string to pass the current date to select a date from the Screen and send a feature dates also...\n",
    "select_day = driver.find_element(By.XPATH,f\"(//td[@data-handler='selectDay']/a)[{day+10}]\")"
   ]
  },
  {
   "cell_type": "code",
   "execution_count": 151,
   "id": "29c14261",
   "metadata": {},
   "outputs": [],
   "source": [
    "select_day.click()"
   ]
  },
  {
   "cell_type": "code",
   "execution_count": 154,
   "id": "d64a9480",
   "metadata": {},
   "outputs": [],
   "source": [
    "# Switching to months by clicking next and prev\n",
    "months = driver.find_elements(By.XPATH,'//div[@id=\"ui-datepicker-div\"]/div/a')\n",
    "months[1].click()\n"
   ]
  },
  {
   "cell_type": "code",
   "execution_count": 140,
   "id": "af20fd11",
   "metadata": {},
   "outputs": [],
   "source": []
  },
  {
   "cell_type": "code",
   "execution_count": null,
   "id": "41b5944d",
   "metadata": {},
   "outputs": [],
   "source": []
  }
 ],
 "metadata": {
  "kernelspec": {
   "display_name": "Python 3 (ipykernel)",
   "language": "python",
   "name": "python3"
  },
  "language_info": {
   "codemirror_mode": {
    "name": "ipython",
    "version": 3
   },
   "file_extension": ".py",
   "mimetype": "text/x-python",
   "name": "python",
   "nbconvert_exporter": "python",
   "pygments_lexer": "ipython3",
   "version": "3.11.5"
  }
 },
 "nbformat": 4,
 "nbformat_minor": 5
}
