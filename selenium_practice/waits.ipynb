{
 "cells": [
  {
   "cell_type": "markdown",
   "id": "0fe040cd",
   "metadata": {},
   "source": [
    "### Waits\n",
    "+ Implicit Wait\n",
    "    + wait for the specific time.\n",
    "+ Explicit Wait"
   ]
  },
  {
   "cell_type": "code",
   "execution_count": 1,
   "id": "e66b7b3f",
   "metadata": {},
   "outputs": [],
   "source": [
    "from selenium import webdriver\n",
    "from selenium.webdriver.chrome.service import Service\n",
    "from selenium.webdriver.common.by import By"
   ]
  },
  {
   "cell_type": "code",
   "execution_count": 2,
   "id": "8d3eb61b",
   "metadata": {},
   "outputs": [
    {
     "name": "stdout",
     "output_type": "stream",
     "text": [
      "importing Jupyter notebook from path.ipynb\n"
     ]
    }
   ],
   "source": [
    "import import_ipynb\n",
    "import path"
   ]
  },
  {
   "cell_type": "code",
   "execution_count": 3,
   "id": "a19a4e53",
   "metadata": {},
   "outputs": [],
   "source": [
    "ser = Service(executable_path = path.driver_path)"
   ]
  },
  {
   "cell_type": "code",
   "execution_count": 22,
   "id": "213e3e2d",
   "metadata": {},
   "outputs": [],
   "source": [
    "driver = webdriver.Chrome(service=ser)"
   ]
  },
  {
   "cell_type": "code",
   "execution_count": 23,
   "id": "37e3b1e0",
   "metadata": {},
   "outputs": [],
   "source": [
    "driver.get(path.radio_check_buttons)"
   ]
  },
  {
   "cell_type": "markdown",
   "id": "d01a9b7f",
   "metadata": {},
   "source": [
    "#### Implicit wait\n",
    "+ It will wait for specific time to find the element"
   ]
  },
  {
   "cell_type": "code",
   "execution_count": 6,
   "id": "9b157cd6",
   "metadata": {},
   "outputs": [],
   "source": [
    "driver.implicitly_wait(10)\n",
    "email_ele = driver.find_element(By.XPATH,\"//input[@type='email']\")"
   ]
  },
  {
   "cell_type": "code",
   "execution_count": 7,
   "id": "4d12230d",
   "metadata": {},
   "outputs": [],
   "source": [
    "email_ele.send_keys('hii')"
   ]
  },
  {
   "cell_type": "code",
   "execution_count": 8,
   "id": "6201f216",
   "metadata": {},
   "outputs": [],
   "source": [
    "#driver.close()"
   ]
  },
  {
   "cell_type": "markdown",
   "id": "ea5f786b",
   "metadata": {},
   "source": [
    "#### Explicit Wait\n",
    "+ wait for the specitime with given condition on expected_conditions"
   ]
  },
  {
   "cell_type": "code",
   "execution_count": 31,
   "id": "092f4768",
   "metadata": {},
   "outputs": [],
   "source": [
    "driver.get(path.jqueryui)"
   ]
  },
  {
   "cell_type": "code",
   "execution_count": 32,
   "id": "8958d589",
   "metadata": {},
   "outputs": [],
   "source": [
    "search_ele = driver.find_element(By.XPATH,\"//input[@type='search']\")"
   ]
  },
  {
   "cell_type": "code",
   "execution_count": 33,
   "id": "2221249e",
   "metadata": {},
   "outputs": [
    {
     "ename": "IndexError",
     "evalue": "list index out of range",
     "output_type": "error",
     "traceback": [
      "\u001b[0;31m---------------------------------------------------------------------------\u001b[0m",
      "\u001b[0;31mIndexError\u001b[0m                                Traceback (most recent call last)",
      "Cell \u001b[0;32mIn [33], line 4\u001b[0m\n\u001b[1;32m      2\u001b[0m search_ele\u001b[38;5;241m.\u001b[39msend_keys(\u001b[38;5;124m'\u001b[39m\u001b[38;5;124mdra\u001b[39m\u001b[38;5;124m'\u001b[39m)\n\u001b[1;32m      3\u001b[0m result_element\u001b[38;5;241m=\u001b[39mdriver\u001b[38;5;241m.\u001b[39mfind_elements(By\u001b[38;5;241m.\u001b[39mXPATH,\u001b[38;5;124m\"\u001b[39m\u001b[38;5;124m//div[@role=\u001b[39m\u001b[38;5;124m'\u001b[39m\u001b[38;5;124moption\u001b[39m\u001b[38;5;124m'\u001b[39m\u001b[38;5;124m]/a/div[1]\u001b[39m\u001b[38;5;124m\"\u001b[39m)\n\u001b[0;32m----> 4\u001b[0m result_element[\u001b[38;5;241m0\u001b[39m]\u001b[38;5;241m.\u001b[39mclick()\n",
      "\u001b[0;31mIndexError\u001b[0m: list index out of range"
     ]
    }
   ],
   "source": [
    "search_ele.clear()\n",
    "search_ele.send_keys('dra')\n",
    "result_element=driver.find_elements(By.XPATH,\"//div[@role='option']/a/div[1]\")\n",
    "result_element[0].click()"
   ]
  },
  {
   "cell_type": "code",
   "execution_count": 34,
   "id": "fed18108",
   "metadata": {},
   "outputs": [],
   "source": [
    "from selenium.webdriver.support.ui import WebDriverWait\n",
    "from selenium.webdriver.support import expected_conditions as EC\n",
    "search_ele.clear()\n",
    "search_ele.send_keys('dra')\n",
    "result_element_explicit = WebDriverWait(driver,5).until(EC.presence_of_element_located((By.XPATH,\"//div[@role='option']/a/div[1]\")))\n",
    "result_element_explicit.click()"
   ]
  },
  {
   "cell_type": "code",
   "execution_count": null,
   "id": "c9f205cc",
   "metadata": {},
   "outputs": [],
   "source": []
  },
  {
   "cell_type": "code",
   "execution_count": 18,
   "id": "6b5a4129",
   "metadata": {},
   "outputs": [],
   "source": [
    "driver.close()"
   ]
  },
  {
   "cell_type": "markdown",
   "id": "232ec85e",
   "metadata": {},
   "source": [
    "#### Set Network conditions\n",
    "+ changing the netwok connection speed."
   ]
  },
  {
   "cell_type": "code",
   "execution_count": 19,
   "id": "a33f2e4a",
   "metadata": {},
   "outputs": [],
   "source": [
    "driver = webdriver.Chrome(service=ser)"
   ]
  },
  {
   "cell_type": "code",
   "execution_count": 20,
   "id": "abb644c1",
   "metadata": {},
   "outputs": [],
   "source": [
    "driver.get(path.admin_hr_login_urls)"
   ]
  },
  {
   "cell_type": "code",
   "execution_count": 21,
   "id": "6093e6a8",
   "metadata": {},
   "outputs": [
    {
     "ename": "WebDriverException",
     "evalue": "Message: unknown error: network conditions must be set before it can be retrieved\n  (Session info: chrome=123.0.6312.122)\nStacktrace:\n#0 0x648b6f1d2993 <unknown>\n#1 0x648b6eecd136 <unknown>\n#2 0x648b6ef4da7e <unknown>\n#3 0x648b6ef39c98 <unknown>\n#4 0x648b6ef0ac93 <unknown>\n#5 0x648b6ef0b65e <unknown>\n#6 0x648b6f19708b <unknown>\n#7 0x648b6f19b005 <unknown>\n#8 0x648b6f185491 <unknown>\n#9 0x648b6f19bb92 <unknown>\n#10 0x648b6f16a9ef <unknown>\n#11 0x648b6f1c1df8 <unknown>\n#12 0x648b6f1c1fcb <unknown>\n#13 0x648b6f1d1ae4 <unknown>\n#14 0x724d36694ac3 <unknown>\n",
     "output_type": "error",
     "traceback": [
      "\u001b[0;31m---------------------------------------------------------------------------\u001b[0m",
      "\u001b[0;31mWebDriverException\u001b[0m                        Traceback (most recent call last)",
      "Cell \u001b[0;32mIn [21], line 1\u001b[0m\n\u001b[0;32m----> 1\u001b[0m driver\u001b[38;5;241m.\u001b[39mget_network_conditions()\n",
      "File \u001b[0;32m~/anaconda3/lib/python3.11/site-packages/selenium/webdriver/chromium/webdriver.py:116\u001b[0m, in \u001b[0;36mChromiumDriver.get_network_conditions\u001b[0;34m(self)\u001b[0m\n\u001b[1;32m    107\u001b[0m \u001b[38;5;28;01mdef\u001b[39;00m \u001b[38;5;21mget_network_conditions\u001b[39m(\u001b[38;5;28mself\u001b[39m):\n\u001b[1;32m    108\u001b[0m     \u001b[38;5;124;03m\"\"\"\u001b[39;00m\n\u001b[1;32m    109\u001b[0m \u001b[38;5;124;03m    Gets Chromium network emulation settings.\u001b[39;00m\n\u001b[1;32m    110\u001b[0m \n\u001b[0;32m   (...)\u001b[0m\n\u001b[1;32m    114\u001b[0m \u001b[38;5;124;03m        'offline': False}\u001b[39;00m\n\u001b[1;32m    115\u001b[0m \u001b[38;5;124;03m    \"\"\"\u001b[39;00m\n\u001b[0;32m--> 116\u001b[0m     \u001b[38;5;28;01mreturn\u001b[39;00m \u001b[38;5;28mself\u001b[39m\u001b[38;5;241m.\u001b[39mexecute(\u001b[38;5;124m\"\u001b[39m\u001b[38;5;124mgetNetworkConditions\u001b[39m\u001b[38;5;124m\"\u001b[39m)[\u001b[38;5;124m'\u001b[39m\u001b[38;5;124mvalue\u001b[39m\u001b[38;5;124m'\u001b[39m]\n",
      "File \u001b[0;32m~/anaconda3/lib/python3.11/site-packages/selenium/webdriver/remote/webdriver.py:428\u001b[0m, in \u001b[0;36mWebDriver.execute\u001b[0;34m(self, driver_command, params)\u001b[0m\n\u001b[1;32m    426\u001b[0m response \u001b[38;5;241m=\u001b[39m \u001b[38;5;28mself\u001b[39m\u001b[38;5;241m.\u001b[39mcommand_executor\u001b[38;5;241m.\u001b[39mexecute(driver_command, params)\n\u001b[1;32m    427\u001b[0m \u001b[38;5;28;01mif\u001b[39;00m response:\n\u001b[0;32m--> 428\u001b[0m     \u001b[38;5;28mself\u001b[39m\u001b[38;5;241m.\u001b[39merror_handler\u001b[38;5;241m.\u001b[39mcheck_response(response)\n\u001b[1;32m    429\u001b[0m     response[\u001b[38;5;124m'\u001b[39m\u001b[38;5;124mvalue\u001b[39m\u001b[38;5;124m'\u001b[39m] \u001b[38;5;241m=\u001b[39m \u001b[38;5;28mself\u001b[39m\u001b[38;5;241m.\u001b[39m_unwrap_value(\n\u001b[1;32m    430\u001b[0m         response\u001b[38;5;241m.\u001b[39mget(\u001b[38;5;124m'\u001b[39m\u001b[38;5;124mvalue\u001b[39m\u001b[38;5;124m'\u001b[39m, \u001b[38;5;28;01mNone\u001b[39;00m))\n\u001b[1;32m    431\u001b[0m     \u001b[38;5;28;01mreturn\u001b[39;00m response\n",
      "File \u001b[0;32m~/anaconda3/lib/python3.11/site-packages/selenium/webdriver/remote/errorhandler.py:243\u001b[0m, in \u001b[0;36mErrorHandler.check_response\u001b[0;34m(self, response)\u001b[0m\n\u001b[1;32m    241\u001b[0m         alert_text \u001b[38;5;241m=\u001b[39m value[\u001b[38;5;124m'\u001b[39m\u001b[38;5;124malert\u001b[39m\u001b[38;5;124m'\u001b[39m]\u001b[38;5;241m.\u001b[39mget(\u001b[38;5;124m'\u001b[39m\u001b[38;5;124mtext\u001b[39m\u001b[38;5;124m'\u001b[39m)\n\u001b[1;32m    242\u001b[0m     \u001b[38;5;28;01mraise\u001b[39;00m exception_class(message, screen, stacktrace, alert_text)  \u001b[38;5;66;03m# type: ignore[call-arg]  # mypy is not smart enough here\u001b[39;00m\n\u001b[0;32m--> 243\u001b[0m \u001b[38;5;28;01mraise\u001b[39;00m exception_class(message, screen, stacktrace)\n",
      "\u001b[0;31mWebDriverException\u001b[0m: Message: unknown error: network conditions must be set before it can be retrieved\n  (Session info: chrome=123.0.6312.122)\nStacktrace:\n#0 0x648b6f1d2993 <unknown>\n#1 0x648b6eecd136 <unknown>\n#2 0x648b6ef4da7e <unknown>\n#3 0x648b6ef39c98 <unknown>\n#4 0x648b6ef0ac93 <unknown>\n#5 0x648b6ef0b65e <unknown>\n#6 0x648b6f19708b <unknown>\n#7 0x648b6f19b005 <unknown>\n#8 0x648b6f185491 <unknown>\n#9 0x648b6f19bb92 <unknown>\n#10 0x648b6f16a9ef <unknown>\n#11 0x648b6f1c1df8 <unknown>\n#12 0x648b6f1c1fcb <unknown>\n#13 0x648b6f1d1ae4 <unknown>\n#14 0x724d36694ac3 <unknown>\n"
     ]
    }
   ],
   "source": [
    "driver.get_network_conditions()"
   ]
  },
  {
   "cell_type": "code",
   "execution_count": 22,
   "id": "6aeb710b",
   "metadata": {},
   "outputs": [],
   "source": [
    "driver.set_network_conditions(offline=False,latency=5000,download_throughput=5000,upload_throughput=5000)"
   ]
  },
  {
   "cell_type": "code",
   "execution_count": 23,
   "id": "458441f3",
   "metadata": {
    "scrolled": true
   },
   "outputs": [
    {
     "data": {
      "text/plain": [
       "{'download_throughput': 5000,\n",
       " 'latency': 5000,\n",
       " 'offline': False,\n",
       " 'upload_throughput': 5000}"
      ]
     },
     "execution_count": 23,
     "metadata": {},
     "output_type": "execute_result"
    }
   ],
   "source": [
    "driver.get_network_conditions()"
   ]
  },
  {
   "cell_type": "code",
   "execution_count": 24,
   "id": "684eb3b6",
   "metadata": {},
   "outputs": [],
   "source": [
    "driver.set_network_conditions(offline=True,latency=5000,download_throughput=100*1024,upload_throughput=100*1024)"
   ]
  },
  {
   "cell_type": "code",
   "execution_count": 25,
   "id": "fd34a873",
   "metadata": {},
   "outputs": [],
   "source": [
    "driver.refresh()"
   ]
  },
  {
   "cell_type": "code",
   "execution_count": 26,
   "id": "7c7cd7db",
   "metadata": {},
   "outputs": [
    {
     "data": {
      "text/plain": [
       "{'download_throughput': 102400,\n",
       " 'latency': 5000,\n",
       " 'offline': True,\n",
       " 'upload_throughput': 102400}"
      ]
     },
     "execution_count": 26,
     "metadata": {},
     "output_type": "execute_result"
    }
   ],
   "source": [
    "driver.get_network_conditions()"
   ]
  },
  {
   "cell_type": "code",
   "execution_count": 27,
   "id": "6a564466",
   "metadata": {},
   "outputs": [],
   "source": [
    "driver.close()"
   ]
  },
  {
   "cell_type": "code",
   "execution_count": null,
   "id": "4fdbd905",
   "metadata": {},
   "outputs": [],
   "source": []
  },
  {
   "cell_type": "code",
   "execution_count": null,
   "id": "789dfc58",
   "metadata": {},
   "outputs": [],
   "source": []
  }
 ],
 "metadata": {
  "kernelspec": {
   "display_name": "Python 3 (ipykernel)",
   "language": "python",
   "name": "python3"
  },
  "language_info": {
   "codemirror_mode": {
    "name": "ipython",
    "version": 3
   },
   "file_extension": ".py",
   "mimetype": "text/x-python",
   "name": "python",
   "nbconvert_exporter": "python",
   "pygments_lexer": "ipython3",
   "version": "3.11.5"
  }
 },
 "nbformat": 4,
 "nbformat_minor": 5
}
